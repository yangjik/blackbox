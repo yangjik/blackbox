{
 "cells": [
  {
   "cell_type": "markdown",
   "metadata": {},
   "source": [
    "# DB 조회 후 Git URL로 파일 다운 받은 후 플레이"
   ]
  },
  {
   "cell_type": "code",
   "execution_count": 1,
   "metadata": {},
   "outputs": [],
   "source": [
    "from gtts import gTTS\n",
    "from git import Repo\n",
    "import playsound\n",
    "import pymysql\n",
    "import os, sys\n",
    "import requests"
   ]
  },
  {
   "cell_type": "markdown",
   "metadata": {},
   "source": [
    "### DB 접근"
   ]
  },
  {
   "cell_type": "code",
   "execution_count": 2,
   "metadata": {},
   "outputs": [],
   "source": [
    "# localhost 개인 db접속\n",
    "conn = pymysql.connect(\n",
    "    host = 'localhost',\n",
    "    user = 'root',\n",
    "    password = '0000',\n",
    "    database = 'sound_db',\n",
    "    charset = 'utf8'\n",
    ")\n",
    "\n",
    "cur = conn.cursor()"
   ]
  },
  {
   "cell_type": "markdown",
   "metadata": {},
   "source": [
    "#### 데이터 조회"
   ]
  },
  {
   "cell_type": "code",
   "execution_count": 3,
   "metadata": {},
   "outputs": [],
   "source": [
    "result_case = ['오른쪽', '사람']"
   ]
  },
  {
   "cell_type": "code",
   "execution_count": 4,
   "metadata": {},
   "outputs": [],
   "source": [
    "di = result_case[0]\n",
    "ob = result_case[1]"
   ]
  },
  {
   "cell_type": "code",
   "execution_count": 5,
   "metadata": {},
   "outputs": [],
   "source": [
    "case = f'{di} {ob} 있습니다.'\n",
    "query = 'select docker_data from sound where txt=\\\"{}\\\";'.format(case)\n",
    "cur.execute(query)\n",
    "data = cur.fetchall()\n",
    "conn.commit()\n",
    "docker_data = data[0][0]"
   ]
  },
  {
   "cell_type": "code",
   "execution_count": 6,
   "metadata": {},
   "outputs": [],
   "source": [
    "case=[]\n",
    "\n",
    "case=f'{di} {ob} 있습니다.'\n",
    "\n",
    "query = 'select docker_data from sound where txt=\\\"{}\\\";'.format(case)\n",
    "\n",
    "cur.execute(query)\n",
    "\n",
    "data = cur.fetchall()\n",
    "\n",
    "conn.commit()\n",
    "\n",
    "# docker_data = data[0][0]"
   ]
  },
  {
   "cell_type": "code",
   "execution_count": 7,
   "metadata": {},
   "outputs": [
    {
     "data": {
      "text/plain": [
       "((None,),)"
      ]
     },
     "execution_count": 7,
     "metadata": {},
     "output_type": "execute_result"
    }
   ],
   "source": [
    "data"
   ]
  },
  {
   "cell_type": "markdown",
   "metadata": {},
   "source": [
    "#### 파일다운"
   ]
  },
  {
   "cell_type": "markdown",
   "metadata": {},
   "source": [
    "##### 깃허브데이터 사용"
   ]
  },
  {
   "cell_type": "code",
   "execution_count": 8,
   "metadata": {},
   "outputs": [],
   "source": [
    "# def git_download_file(url, download_path):\n",
    "#     # 데이터가 없으면\n",
    "#     if not url:\n",
    "#         txt_path = case\n",
    "#         tts = gTTS(text=txt_path, lang='ko')\n",
    "#         tts.save(download_path)\n",
    "\n",
    "#         # repo_name = \"blackbox\"\n",
    "#         # repo = Repo(search_parent_directories=True)\n",
    "#         # git = repo.git\n",
    "        \n",
    "#         # git.pull\n",
    "\n",
    "#         # # 깃허브 저장소에 파일 추가\n",
    "#         # git.add(download_path)\n",
    "\n",
    "#         # # 커밋 메시지 작성 및 커밋\n",
    "#         # git.commit('-m', '음성데이터업데이트')\n",
    "\n",
    "#         # # 깃허브 저장소에 push\n",
    "#         # git.push\n",
    "#     # 데이터가 있으면\n",
    "#     else:\n",
    "#         # 다운로드 실행\n",
    "#         response = requests.get(url)\n",
    "#         with open(download_path, 'wb') as f:\n",
    "#             f.write(response.content)"
   ]
  },
  {
   "cell_type": "markdown",
   "metadata": {},
   "source": [
    "##### 도커허브데이터 사용\n"
   ]
  },
  {
   "cell_type": "code",
   "execution_count": 9,
   "metadata": {},
   "outputs": [],
   "source": [
    "def docker_download_file(docker_data, download_path):\n",
    "    # 데이터가 없으면\n",
    "    if not docker_data:\n",
    "        txt_path = case\n",
    "        tts = gTTS(text=txt_path, lang='ko')\n",
    "        tts.save(download_path)\n",
    "        \n",
    "\n",
    "    # 데이터가 있으면\n",
    "    else:\n",
    "        # 도커이미지상의 경로 지정\n",
    "        !docker run -it --rm test:test sh -c \"find /sound -type f -name {case} -exec cp {} /tmp ; && tar -cf - /tmp | cat\" > {download_path}"
   ]
  },
  {
   "cell_type": "markdown",
   "metadata": {},
   "source": [
    "##### 데이터 다운로드"
   ]
  },
  {
   "cell_type": "code",
   "execution_count": 10,
   "metadata": {},
   "outputs": [],
   "source": [
    "dieg = []\n",
    "obeg = []\n",
    "\n",
    "for _ in range(0, len(di)):\n",
    "  if di[_] == '왼쪽':\n",
    "    dieg.append('left')\n",
    "  elif di[_] == '오른쪽':\n",
    "    dieg.append('right')\n",
    "\n",
    "for _ in range(0, len(ob)):\n",
    "  if ob[_] == '사람':\n",
    "    obeg.append('person')\n",
    "  elif ob[_] == '자전거':\n",
    "    obeg.append('bicycle')\n",
    "  elif ob[_] == '자동차':\n",
    "    obeg.append('car')\n",
    "  elif ob[_] == '오토바이':\n",
    "    obeg.append('motorcycle')\n",
    "  elif ob[_] == '버스':\n",
    "    obeg.append('bus')\n",
    "  elif ob[_] == '트럭':\n",
    "    obeg.append('truck')\n",
    "\n",
    "\n"
   ]
  },
  {
   "cell_type": "code",
   "execution_count": 11,
   "metadata": {},
   "outputs": [
    {
     "data": {
      "text/plain": [
       "[]"
      ]
     },
     "execution_count": 11,
     "metadata": {},
     "output_type": "execute_result"
    }
   ],
   "source": [
    "dieg"
   ]
  },
  {
   "cell_type": "code",
   "execution_count": 12,
   "metadata": {},
   "outputs": [],
   "source": [
    "download_path=f\"./Sound/{dieg}{obeg}.mp3\"\n",
    "\n",
    "docker_download_file(docker_data, download_path)"
   ]
  },
  {
   "cell_type": "markdown",
   "metadata": {},
   "source": [
    "### 음성 파일 실행"
   ]
  },
  {
   "cell_type": "code",
   "execution_count": 13,
   "metadata": {},
   "outputs": [],
   "source": [
    "playsound.playsound(download_path)"
   ]
  }
 ],
 "metadata": {
  "kernelspec": {
   "display_name": "simple_study",
   "language": "python",
   "name": "python3"
  },
  "language_info": {
   "codemirror_mode": {
    "name": "ipython",
    "version": 3
   },
   "file_extension": ".py",
   "mimetype": "text/x-python",
   "name": "python",
   "nbconvert_exporter": "python",
   "pygments_lexer": "ipython3",
   "version": "3.10.0"
  }
 },
 "nbformat": 4,
 "nbformat_minor": 2
}

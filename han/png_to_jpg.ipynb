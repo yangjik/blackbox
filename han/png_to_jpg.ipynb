{
 "cells": [
  {
   "cell_type": "code",
   "execution_count": 2,
   "metadata": {},
   "outputs": [],
   "source": [
    "import os\n",
    "from PIL import Image\n",
    "\n",
    "def convert_png_to_jpg(input_dir, output_dir):\n",
    "  \"\"\"\n",
    "  .png 파일을 .jpg 파일로 변환합니다.\n",
    "\n",
    "  Args:\n",
    "    input_dir: .png 파일이 있는 디렉토리\n",
    "    output_dir: .jpg 파일을 저장할 디렉토리\n",
    "  \"\"\"\n",
    "\n",
    "  # .png 파일의 이름만 추출합니다.\n",
    "  all_image_files = [os.path.join(input_dir, file_name) for file_name in os.listdir(input_dir) if file_name.endswith(\".png\")]\n",
    "\n",
    "  # .jpg 파일을 저장하기 위한 디렉토리가 없으면 생성합니다.\n",
    "  if not os.path.exists(output_dir):\n",
    "    os.mkdir(output_dir)\n",
    "\n",
    "  # 모든 .png 파일에 대해 반복합니다.\n",
    "  for file_path in all_image_files:\n",
    "    # 이미지를 불러옵니다.\n",
    "    img = Image.open(file_path)\n",
    "\n",
    "    if img.mode == \"RGBA\":\n",
    "      img = img.convert(\"RGB\")\n",
    "\n",
    "    # .jpg 파일의 이름을 지정합니다.\n",
    "    output_file_path = os.path.join(output_dir, os.path.basename(file_path)[:-4] + \".jpg\")\n",
    "\n",
    "    # .jpg 파일로 저장합니다.\n",
    "    img.save(output_file_path)\n",
    "\n",
    "\n",
    "if __name__ == \"__main__\":\n",
    "  # 입력 디렉토리와 출력 디렉토리를 지정합니다.\n",
    "  input_dir = \"D:\\datas\\images\"\n",
    "  output_dir = \"D:\\datas\\images_jpg\"\n",
    "\n",
    "  # .png 파일을 .jpg 파일로 변환합니다.\n",
    "  convert_png_to_jpg(input_dir, output_dir)\n"
   ]
  },
  {
   "cell_type": "code",
   "execution_count": null,
   "metadata": {},
   "outputs": [],
   "source": []
  }
 ],
 "metadata": {
  "kernelspec": {
   "display_name": "project",
   "language": "python",
   "name": "python3"
  },
  "language_info": {
   "codemirror_mode": {
    "name": "ipython",
    "version": 3
   },
   "file_extension": ".py",
   "mimetype": "text/x-python",
   "name": "python",
   "nbconvert_exporter": "python",
   "pygments_lexer": "ipython3",
   "version": "3.10.0"
  }
 },
 "nbformat": 4,
 "nbformat_minor": 2
}

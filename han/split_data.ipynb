{
 "cells": [
  {
   "cell_type": "code",
   "execution_count": 1,
   "metadata": {},
   "outputs": [
    {
     "data": {
      "text/plain": [
       "'d:\\\\new_folder'"
      ]
     },
     "execution_count": 1,
     "metadata": {},
     "output_type": "execute_result"
    }
   ],
   "source": [
    "pwd"
   ]
  },
  {
   "cell_type": "code",
   "execution_count": 2,
   "metadata": {},
   "outputs": [
    {
     "name": "stdout",
     "output_type": "stream",
     "text": [
      "./datas_v4/ 폴더 생성완\n",
      "./datas_v4/train/ 폴더 생성완\n",
      "./datas_v4/train/images/ 폴더 생성완\n",
      "./datas_v4/train/labels/ 폴더 생성완\n",
      "./datas_v4/test/ 폴더 생성완\n",
      "./datas_v4/test/images/ 폴더 생성완\n",
      "./datas_v4/test/labels/ 폴더 생성완\n",
      "./datas_v4/val/ 폴더 생성완\n",
      "./datas_v4/val/images/ 폴더 생성완\n",
      "./datas_v4/val/labels/ 폴더 생성완\n"
     ]
    }
   ],
   "source": [
    "import os\n",
    "def mk_dir(path):\n",
    "    if not os.path.exists(path):\n",
    "        print(f'{path} 폴더 생성완')\n",
    "        os.mkdir(path)\n",
    "    else:\n",
    "        print(f'{path} 폴더 존재합니다.')\n",
    "\n",
    "train_path = ['./datas_v4/train/', './datas_v4/train/images/', './datas_v4/train/labels/']\n",
    "test_path = ['./datas_v4/test/', './datas_v4/test/images/', './datas_v4/test/labels/']\n",
    "val_path = ['./datas_v4/val/', './datas_v4/val/images/', './datas_v4/val/labels/']\n",
    "\n",
    "\n",
    "mk_dir(path='./datas_v4/')\n",
    "\n",
    "for _ in train_path:\n",
    "    mk_dir(_)\n",
    "\n",
    "for _ in test_path:\n",
    "    mk_dir(_)\n",
    "\n",
    "for _ in val_path:\n",
    "    mk_dir(_)"
   ]
  },
  {
   "cell_type": "markdown",
   "metadata": {},
   "source": [
    "### 데이터 분리하기"
   ]
  },
  {
   "cell_type": "code",
   "execution_count": 4,
   "metadata": {},
   "outputs": [
    {
     "name": "stdout",
     "output_type": "stream",
     "text": [
      "Collecting sklearn\n",
      "  Downloading sklearn-0.0.post12.tar.gz (2.6 kB)\n",
      "  Preparing metadata (setup.py): started\n",
      "  Preparing metadata (setup.py): finished with status 'error'\n"
     ]
    },
    {
     "name": "stderr",
     "output_type": "stream",
     "text": [
      "  error: subprocess-exited-with-error\n",
      "  \n",
      "  × python setup.py egg_info did not run successfully.\n",
      "  │ exit code: 1\n",
      "  ╰─> [15 lines of output]\n",
      "      The 'sklearn' PyPI package is deprecated, use 'scikit-learn'\n",
      "      rather than 'sklearn' for pip commands.\n",
      "      \n",
      "      Here is how to fix this error in the main use cases:\n",
      "      - use 'pip install scikit-learn' rather than 'pip install sklearn'\n",
      "      - replace 'sklearn' by 'scikit-learn' in your pip requirements files\n",
      "        (requirements.txt, setup.py, setup.cfg, Pipfile, etc ...)\n",
      "      - if the 'sklearn' package is used by one of your dependencies,\n",
      "        it would be great if you take some time to track which package uses\n",
      "        'sklearn' instead of 'scikit-learn' and report it to their issue tracker\n",
      "      - as a last resort, set the environment variable\n",
      "        SKLEARN_ALLOW_DEPRECATED_SKLEARN_PACKAGE_INSTALL=True to avoid this error\n",
      "      \n",
      "      More information is available at\n",
      "      https://github.com/scikit-learn/sklearn-pypi-package\n",
      "      [end of output]\n",
      "  \n",
      "  note: This error originates from a subprocess, and is likely not a problem with pip.\n",
      "error: metadata-generation-failed\n",
      "\n",
      "× Encountered error while generating package metadata.\n",
      "╰─> See above for output.\n",
      "\n",
      "note: This is an issue with the package mentioned above, not pip.\n",
      "hint: See above for details.\n"
     ]
    }
   ],
   "source": [
    "!pip install sklearn"
   ]
  },
  {
   "cell_type": "code",
   "execution_count": 6,
   "metadata": {},
   "outputs": [],
   "source": [
    "import os, shutil\n",
    "from sklearn.model_selection import train_test_split\n",
    "\n",
    "org_img = 'D:/supplementimages/v2/images/'\n",
    "org_txt = 'D:/supplementimages/v2/labels/'\n",
    "\n",
    "ls_img = os.listdir(org_img)\n",
    "ls_txt = os.listdir(org_txt)\n",
    "m_ls = ls_img[:10000]\n",
    "t_ls = ls_txt[:10000]\n",
    "\n",
    "\n",
    "# 데이터는 섞어서\n",
    "train, re_test = train_test_split(m_ls, test_size=0.2, shuffle=True, random_state=42)\n",
    "\n",
    "re_train, re_val = train_test_split(train, test_size=0.1, shuffle=True, random_state=42)"
   ]
  },
  {
   "cell_type": "code",
   "execution_count": 7,
   "metadata": {},
   "outputs": [
    {
     "name": "stdout",
     "output_type": "stream",
     "text": [
      "이미지 총 개수 : 10000\n",
      "비율이 7 : 7200\n",
      "비율이 1 : 2000\n",
      "비율이 2 : 800\n"
     ]
    }
   ],
   "source": [
    "# total 개수\n",
    "print(f'이미지 총 개수 : {len(m_ls)}\\n비율이 7 : {len(re_train)}\\n비율이 1 : {len(re_test)}\\n비율이 2 : {len(re_val)}')"
   ]
  },
  {
   "cell_type": "code",
   "execution_count": 8,
   "metadata": {},
   "outputs": [
    {
     "name": "stdout",
     "output_type": "stream",
     "text": [
      "비율이 7 : 7200\n",
      "비율이 1 : 800\n",
      "비율이 2 : 2000\n"
     ]
    }
   ],
   "source": [
    "ex_train = []\n",
    "ex_val = []\n",
    "ex_test = []\n",
    "\n",
    "for _ in re_train:\n",
    "    ex_train.append(_.split('.')[0])\n",
    "\n",
    "for _ in re_val:\n",
    "    ex_val.append(_.split('.')[0])\n",
    "\n",
    "for _ in re_test:\n",
    "    ex_test.append(_.split('.')[0])\n",
    "\n",
    "# total 개수\n",
    "print(f'비율이 7 : {len(ex_train)}\\n비율이 1 : {len(ex_val)}\\n비율이 2 : {len(ex_test)}')"
   ]
  },
  {
   "cell_type": "code",
   "execution_count": 10,
   "metadata": {},
   "outputs": [],
   "source": [
    "org_path = 'D:/supplementimages/v2/images/'\n",
    "\n",
    "train_path = ['./datas_v4/train/', './datas_v4/train/images/', './datas_v4/train/labels/']\n",
    "test_path = ['./datas_v4/test/', './datas_v4/test/images/', './datas_v4/test/labels/']\n",
    "val_path = ['./datas_v4/val/', './datas_v4/val/images/', './datas_v4/val/labels/']\n",
    "\n",
    "# train\n",
    "for _ in ex_train:\n",
    "    org_jpg_path = 'D:/supplementimages/v2/images/' + _ + \".jpg\"\n",
    "    org_png_path = 'D:/supplementimages/v2/images/' + _ + \".png\"\n",
    "    org_txt_path = 'D:/supplementimages/v2/labels/' + _ + '.txt'\n",
    "\n",
    "    if os.path.exists(org_jpg_path) == True:\n",
    "        # 이미지 복사\n",
    "        shutil.copy(org_jpg_path, train_path[1])\n",
    "        # txt 복사\n",
    "        shutil.copy(org_txt_path, train_path[2])\n",
    "\n",
    "    elif os.path.exists(org_png_path) == True:\n",
    "        # 이미지 복사\n",
    "        shutil.copy(org_png_path, train_path[1])\n",
    "        # txt 복사\n",
    "        shutil.copy(org_txt_path, train_path[2])\n",
    "\n",
    "# test\n",
    "for _ in ex_test:\n",
    "    org_jpg_path = 'D:/supplementimages/v2/images/' + _ + \".jpg\"\n",
    "    org_png_path = 'D:/supplementimages/v2/images/' + _ + \".png\"\n",
    "    org_txt_path = 'D:/supplementimages/v2/labels/' + _ + '.txt'\n",
    "\n",
    "    if os.path.exists(org_jpg_path) == True:\n",
    "        # 이미지 복사\n",
    "        shutil.copy(org_jpg_path, test_path[1])\n",
    "        # txt 복사\n",
    "        shutil.copy(org_txt_path, test_path[2])\n",
    "\n",
    "    elif os.path.exists(org_png_path) == True:\n",
    "        # 이미지 복사\n",
    "        shutil.copy(org_png_path, test_path[1])\n",
    "        # txt 복사\n",
    "        shutil.copy(org_txt_path, test_path[2])\n",
    "\n",
    "# val\n",
    "for _ in ex_val:\n",
    "    org_jpg_path = 'D:/supplementimages/v2/images/' + _ + \".jpg\"\n",
    "    org_png_path = 'D:/supplementimages/v2/images/' + _ + \".png\"\n",
    "    org_txt_path = 'D:/supplementimages/v2/labels/' + _ + '.txt'\n",
    "\n",
    "    if os.path.exists(org_jpg_path) == True:\n",
    "        # 이미지 복사\n",
    "        shutil.copy(org_jpg_path, val_path[1])\n",
    "        # txt 복사\n",
    "        shutil.copy(org_txt_path, val_path[2])\n",
    "\n",
    "    elif os.path.exists(org_png_path) == True:\n",
    "        # 이미지 복사\n",
    "        shutil.copy(org_png_path, val_path[1])\n",
    "        # txt 복사\n",
    "        shutil.copy(org_txt_path, val_path[2])"
   ]
  },
  {
   "cell_type": "code",
   "execution_count": null,
   "metadata": {},
   "outputs": [],
   "source": []
  }
 ],
 "metadata": {
  "kernelspec": {
   "display_name": "gpu",
   "language": "python",
   "name": "python3"
  },
  "language_info": {
   "codemirror_mode": {
    "name": "ipython",
    "version": 3
   },
   "file_extension": ".py",
   "mimetype": "text/x-python",
   "name": "python",
   "nbconvert_exporter": "python",
   "pygments_lexer": "ipython3",
   "version": "3.10.0"
  }
 },
 "nbformat": 4,
 "nbformat_minor": 2
}

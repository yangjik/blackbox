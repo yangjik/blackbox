{
 "cells": [
  {
   "cell_type": "code",
   "execution_count": 2,
   "metadata": {},
   "outputs": [
    {
     "name": "stdout",
     "output_type": "stream",
     "text": [
      "[(840, 489), (60, 793), (1860, 793), (1140, 489)]\n"
     ]
    }
   ],
   "source": [
    "import cv2\n",
    "\n",
    "# 영상 불러오기\n",
    "video = cv2.VideoCapture(\"D:/새 폴더/20240128_160214_INF_2.avi\")\n",
    "\n",
    "# 영상 정보 읽어오기\n",
    "width = video.get(cv2.CAP_PROP_FRAME_WIDTH)\n",
    "height = video.get(cv2.CAP_PROP_FRAME_HEIGHT)\n",
    "\n",
    "# 기준 영역 좌표 (640x640 기준)\n",
    "src_points = [(280, 290), (20, 470), (620, 470), (380, 290)]\n",
    "\n",
    "# 변환 함수\n",
    "def transform_points(points, new_width, new_height):\n",
    "    dst_points = []\n",
    "    for x, y in points:\n",
    "        dst_points.append((int(x * new_width / 640), int(y * new_height / 640)))\n",
    "    return dst_points\n",
    "\n",
    "# 처리 루프\n",
    "while True:\n",
    "    # 현재 프레임 읽어오기\n",
    "    ret, frame = video.read()\n",
    "\n",
    "    if not ret:\n",
    "        break\n",
    "\n",
    "    # 프레임 크기 읽어오기\n",
    "    frame_width = frame.shape[1]\n",
    "    frame_height = frame.shape[0]\n",
    "\n",
    "    # 변환된 좌표 계산\n",
    "    dst_points = transform_points(src_points, frame_width, frame_height)\n",
    "\n",
    "# 종료\n",
    "video.release()\n",
    "cv2.destroyAllWindows()\n",
    "print(dst_points)\n"
   ]
  },
  {
   "cell_type": "code",
   "execution_count": null,
   "metadata": {},
   "outputs": [],
   "source": []
  },
  {
   "cell_type": "code",
   "execution_count": null,
   "metadata": {},
   "outputs": [],
   "source": []
  }
 ],
 "metadata": {
  "kernelspec": {
   "display_name": "project",
   "language": "python",
   "name": "python3"
  },
  "language_info": {
   "codemirror_mode": {
    "name": "ipython",
    "version": 3
   },
   "file_extension": ".py",
   "mimetype": "text/x-python",
   "name": "python",
   "nbconvert_exporter": "python",
   "pygments_lexer": "ipython3",
   "version": "3.10.0"
  }
 },
 "nbformat": 4,
 "nbformat_minor": 2
}

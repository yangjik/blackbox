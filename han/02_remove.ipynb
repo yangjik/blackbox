{
 "cells": [
  {
   "cell_type": "code",
   "execution_count": 1,
   "metadata": {},
   "outputs": [],
   "source": [
    "import os\n",
    "\n",
    "def move_images_without_labels(images_dir, labels_dir, remove_dir):\n",
    "  \"\"\"\n",
    "  images_dir: 이미지 파일이 있는 디렉토리\n",
    "  labels_dir: 레이블 파일이 있는 디렉토리\n",
    "  remove_dir: 이동할 디렉토리\n",
    "  \"\"\"\n",
    "\n",
    "  images = os.listdir(images_dir)\n",
    "  labels = os.listdir(labels_dir)\n",
    "\n",
    "  for image in images:\n",
    "    label = image.split(\".\")[0] + \".txt\"\n",
    "    if label not in labels:\n",
    "      os.system(f\"move {os.path.join(images_dir, image)} {remove_dir}\")\n",
    "\n",
    "\n",
    "if __name__ == \"__main__\":\n",
    "  images_dir = \"D:/datas/images\"\n",
    "  labels_dir = \"D:/datas/labels\"\n",
    "  remove_dir = \"D:/remove/\"\n",
    "\n",
    "  move_images_without_labels(images_dir, labels_dir, remove_dir)"
   ]
  },
  {
   "cell_type": "code",
   "execution_count": null,
   "metadata": {},
   "outputs": [],
   "source": []
  }
 ],
 "metadata": {
  "kernelspec": {
   "display_name": "project",
   "language": "python",
   "name": "python3"
  },
  "language_info": {
   "codemirror_mode": {
    "name": "ipython",
    "version": 3
   },
   "file_extension": ".py",
   "mimetype": "text/x-python",
   "name": "python",
   "nbconvert_exporter": "python",
   "pygments_lexer": "ipython3",
   "version": "3.10.0"
  }
 },
 "nbformat": 4,
 "nbformat_minor": 2
}

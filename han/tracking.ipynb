{
 "cells": [
  {
   "cell_type": "code",
   "execution_count": null,
   "metadata": {},
   "outputs": [],
   "source": [
    "import numpy as np\n",
    "import ultralytics_example"
   ]
  },
  {
   "cell_type": "code",
   "execution_count": null,
   "metadata": {},
   "outputs": [],
   "source": [
    "def tracking(dst_points, source_weights_path, source_video_path):\n",
    "    ZONE_POLYGONS = [np.array(dst_points)]\n",
    "\n",
    "    processor = ultralytics_example.VideoProcessor(\n",
    "        source_weights_path=source_weights_path,\n",
    "        source_video_path=source_video_path,\n",
    "    )\n",
    "    processor.process_video()"
   ]
  },
  {
   "cell_type": "code",
   "execution_count": null,
   "metadata": {},
   "outputs": [],
   "source": [
    "dst_points = [(840, 489), (60, 793), (1860, 793), (1140, 489)]\n",
    "source_weights_path='./best.pt'\n",
    "source_video_path='./20240128_152039_INF_2.avi'"
   ]
  },
  {
   "cell_type": "code",
   "execution_count": null,
   "metadata": {},
   "outputs": [],
   "source": [
    "tracking(dst_points, source_weights_path, source_video_path)"
   ]
  }
 ],
 "metadata": {
  "kernelspec": {
   "display_name": "project",
   "language": "python",
   "name": "python3"
  },
  "language_info": {
   "codemirror_mode": {
    "name": "ipython",
    "version": 3
   },
   "file_extension": ".py",
   "mimetype": "text/x-python",
   "name": "python",
   "nbconvert_exporter": "python",
   "pygments_lexer": "ipython3",
   "version": "3.10.0"
  }
 },
 "nbformat": 4,
 "nbformat_minor": 2
}

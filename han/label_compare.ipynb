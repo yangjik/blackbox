{
 "cells": [
  {
   "cell_type": "code",
   "execution_count": 20,
   "metadata": {},
   "outputs": [],
   "source": [
    "import os"
   ]
  },
  {
   "cell_type": "code",
   "execution_count": 4,
   "metadata": {},
   "outputs": [],
   "source": [
    "def compare_and_delete(one_name_path, two_name_path, two_imgname_path, error_rate):\n",
    "  one_path = one_name_path + '.txt'\n",
    "  two_path = two_name_path + '.txt'\n",
    "  two_img_path = two_imgname_path + '.jpg'\n",
    "  \"\"\"\n",
    "  두 파일 내용을 비교하고 0.005 미만의 차이를 보이면 two_path 파일을 삭제합니다.\n",
    "\n",
    "  Args:\n",
    "    one_path: 첫 번째 파일 경로\n",
    "    two_path: 두 번째 파일 경로\n",
    "\n",
    "  Returns:\n",
    "    두 파일 내용 비교 결과, 삭제 여부\n",
    "  \"\"\"\n",
    "\n",
    "  with open(one_path, 'r', encoding='utf-8') as f:\n",
    "    one_txt = [[float(num) for num in line.strip().split()] for line in f.readlines()]\n",
    "    one_txt = list(map(lambda line: [round(num, 3) for num in line], one_txt))\n",
    "    one_txt = sorted(one_txt, key=lambda x: (x[0], x[1], x[2], x[3], x[4]))\n",
    "\n",
    "  with open(two_path, 'r', encoding='utf-8') as f:\n",
    "    two_txt = [[float(num) for num in line.strip().split()] for line in f.readlines()]\n",
    "    two_txt = list(map(lambda line: [round(num, 3) for num in line], two_txt))\n",
    "    two_txt = sorted(two_txt, key=lambda x: (x[0], x[1], x[2], x[3], x[4]))\n",
    "\n",
    "  # 두 파일 내용 비교\n",
    "  is_same = True\n",
    "  if len(one_txt) != len(two_txt):\n",
    "    is_same = False\n",
    "  else:\n",
    "    for i in range(len(one_txt)):\n",
    "      for j in range(len(one_txt[0])):\n",
    "        if abs(one_txt[i][j] - two_txt[i][j]) > error_rate:\n",
    "          is_same = False\n",
    "          break\n",
    "\n",
    "  # 0.005 미만의 차이를 보이면 two_path 파일을 삭제\n",
    "  if is_same:\n",
    "    # os.remove(two_path)\n",
    "    # os.remove(two_img_path)\n",
    "    print(\"두 파일 내용이 거의 동일합니다. 두 번째 파일을 삭제합니다.\")\n",
    "    print(\"첫 번째 파일:\", one_txt)\n",
    "    print(\"두 번째 파일:\", two_txt)\n",
    "  else:\n",
    "    print(\"두 파일 내용이 다릅니다. 삭제하지 않습니다.\")\n",
    "    print(\"첫 번째 파일:\", one_txt)\n",
    "    print(\"두 번째 파일:\", two_txt)\n",
    "\n",
    "  return is_same"
   ]
  },
  {
   "cell_type": "code",
   "execution_count": 7,
   "metadata": {},
   "outputs": [],
   "source": [
    "one_name_path = 'D:/new_folder/labels/'+'20210810_030206_INF_2_8'\n",
    "two_name_path = 'D:/new_folder/labels/'+'20210810_030206_INF_2_9'\n",
    "two_imgname_path = 'D:/new_folder/image/'+'20210810_030206_INF_2_9'\n",
    "error_rate = 0.005"
   ]
  },
  {
   "cell_type": "code",
   "execution_count": 8,
   "metadata": {},
   "outputs": [
    {
     "name": "stdout",
     "output_type": "stream",
     "text": [
      "두 파일 내용이 거의 동일합니다. 두 번째 파일을 삭제합니다.\n",
      "첫 번째 파일: [[2.0, 0.226, 0.536, 0.24, 0.278], [2.0, 0.436, 0.58, 0.315, 0.376]]\n",
      "두 번째 파일: [[2.0, 0.222, 0.536, 0.237, 0.281], [2.0, 0.437, 0.577, 0.315, 0.376]]\n"
     ]
    },
    {
     "data": {
      "text/plain": [
       "True"
      ]
     },
     "execution_count": 8,
     "metadata": {},
     "output_type": "execute_result"
    }
   ],
   "source": [
    "compare_and_delete(one_name_path, two_name_path, two_imgname_path, error_rate)"
   ]
  },
  {
   "cell_type": "code",
   "execution_count": null,
   "metadata": {},
   "outputs": [],
   "source": []
  }
 ],
 "metadata": {
  "kernelspec": {
   "display_name": "project",
   "language": "python",
   "name": "python3"
  },
  "language_info": {
   "codemirror_mode": {
    "name": "ipython",
    "version": 3
   },
   "file_extension": ".py",
   "mimetype": "text/x-python",
   "name": "python",
   "nbconvert_exporter": "python",
   "pygments_lexer": "ipython3",
   "version": "3.10.0"
  }
 },
 "nbformat": 4,
 "nbformat_minor": 2
}

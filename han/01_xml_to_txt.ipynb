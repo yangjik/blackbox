{
 "cells": [
  {
   "cell_type": "code",
   "execution_count": 1,
   "id": "3ab6c4dd-e2ea-46e9-a9f0-0b725a41c7c8",
   "metadata": {
    "tags": []
   },
   "outputs": [],
   "source": [
    "# 필요한 라이브러리 및 모듈을 임포트\n",
    "import numpy as np\n",
    "import lxml\n",
    "import os\n",
    "\n",
    "from lxml import etree"
   ]
  },
  {
   "cell_type": "code",
   "execution_count": 2,
   "id": "6a8fa160-db21-4eb4-ad2a-5a8f2e8e53fb",
   "metadata": {
    "tags": []
   },
   "outputs": [],
   "source": [
    "# 객체 클래스를 정의\n",
    "\n",
    "CLASSES = [\"person\", \"bicycle\", \"car\", \"motorcycle\", \"bus\", \"truck\"]"
   ]
  },
  {
   "cell_type": "markdown",
   "metadata": {},
   "source": []
  },
  {
   "cell_type": "code",
   "execution_count": 3,
   "id": "173c0b05-05f3-4a4e-8649-27ecb727a80b",
   "metadata": {
    "tags": []
   },
   "outputs": [],
   "source": [
    "# YOLOv8 형식으로 좌표를 변환하는 함수를 정의\n",
    "\n",
    "def to_yolov8(y):\n",
    "    width = y[2] - y[0]\n",
    "    height = y[3] - y[1]\n",
    "\n",
    "    if width < 0 or height < 0:\n",
    "        print(\"ERROR: negative width or height \", width, height, y)\n",
    "        raise AssertionError(\"Negative width or height\")\n",
    "    return (y[0] + (width/2)), (y[1] + (height/2)), width, height"
   ]
  },
  {
   "cell_type": "code",
   "execution_count": 4,
   "id": "3fe4b946-d6ca-44d5-8969-92d8cd95bc7f",
   "metadata": {
    "tags": []
   },
   "outputs": [],
   "source": [
    "# XML 파일에서 객체 검출(annotation) 정보를 로드하는 함수를 정의합니다.\n",
    "\n",
    "def load_xml_annotations(f):\n",
    "    tree = etree.parse(f)\n",
    "    anns = []\n",
    "    for dim in tree.xpath(\"image\"):\n",
    "        image_filename = dim.attrib[\"name\"]\n",
    "        width = int(dim.attrib[\"width\"])\n",
    "        height = int(dim.attrib[\"height\"])\n",
    "\n",
    "        boxes = []\n",
    "        for box in dim.xpath(\"box\"):\n",
    "            label = box.attrib[\"label\"]\n",
    "            if label not in CLASSES:  # 허용된 목록에 있는지 확인합니다.\n",
    "                continue  # 허용되지 않은 레이블인 경우 이 박스를 건너뜁니다.\n",
    "            label_index = CLASSES.index(label)\n",
    "            xtl, ytl = box.attrib[\"xtl\"], box.attrib[\"ytl\"]\n",
    "            xbr, ybr = box.attrib[\"xbr\"], box.attrib[\"ybr\"]\n",
    "\n",
    "            if 'occluded' in box.attrib:\n",
    "                del box.attrib['occluded']\n",
    "            if 'order' in box.attrib:\n",
    "                del box.attrib['order']\n",
    "\n",
    "            xc, yc, w, h = to_yolov8([float(xtl), float(ytl), float(xbr), float(ybr)])\n",
    "            boxes.append([CLASSES.index(label), round(xc/width, 5), round(yc/height, 5), round(w/width, 5), round(h/height, 5)])\n",
    "\n",
    "        if boxes:\n",
    "            anns.append([image_filename[:-4] + \".txt\", width, height, boxes])\n",
    "\n",
    "    return anns"
   ]
  },
  {
   "cell_type": "code",
   "execution_count": 5,
   "id": "70cdafd2-87fb-4c7c-b911-1999f41b5d4c",
   "metadata": {
    "tags": []
   },
   "outputs": [],
   "source": [
    "# YOLOv8 형식의 텍스트 파일로 변환하여 저장하는 함수를 정의\n",
    "\n",
    "def write_yolov8_txt(folder, annotation):\n",
    "    out_filename = os.path.join(folder, annotation[0])\n",
    "\n",
    "    with open(out_filename, \"w+\") as f:\n",
    "        for box in annotation[3]:\n",
    "            f.write(\"{} {} {} {} {}\\n\".format(box[0], box[1], box[2], box[3], box[4]))"
   ]
  },
  {
   "cell_type": "code",
   "execution_count": 6,
   "id": "5853afd9-fd5e-4f4a-8e4e-d64a36091ff1",
   "metadata": {
    "tags": []
   },
   "outputs": [],
   "source": [
    "# 모든 XML 파일을 YOLOv8 형식의 텍스트 파일로 변환하는 함수를 정의\n",
    "\n",
    "def convert_all_xml_files(input_dir, output_dir):\n",
    "    for filename in os.listdir(input_dir):\n",
    "        if filename.endswith('.xml'):\n",
    "            xml_file_path = os.path.join(input_dir, filename)\n",
    "\n",
    "            # XML을 TXT로 변환\n",
    "            anns = load_xml_annotations(xml_file_path)\n",
    "\n",
    "            for ann in anns:\n",
    "                write_yolov8_txt(output_dir, ann)"
   ]
  },
  {
   "cell_type": "code",
   "execution_count": 7,
   "id": "f1a81cbc-217d-42b6-812b-7374dcff592b",
   "metadata": {
    "tags": []
   },
   "outputs": [],
   "source": [
    "# valid 데이터 txt변환\n",
    "\n",
    "input_dir = 'D:/datas/labels'\n",
    "output_dir = 'D:/datas/labels'\n",
    "\n",
    "convert_all_xml_files(input_dir, output_dir)\n"
   ]
  },
  {
   "cell_type": "code",
   "execution_count": null,
   "id": "ec222c8c-4945-4f15-8350-e543422fbbc6",
   "metadata": {},
   "outputs": [],
   "source": []
  }
 ],
 "metadata": {
  "environment": {
   "kernel": "python3",
   "name": ".m113",
   "type": "gcloud",
   "uri": "gcr.io/deeplearning-platform-release/:m113"
  },
  "kernelspec": {
   "display_name": "Python 3",
   "language": "python",
   "name": "python3"
  },
  "language_info": {
   "codemirror_mode": {
    "name": "ipython",
    "version": 3
   },
   "file_extension": ".py",
   "mimetype": "text/x-python",
   "name": "python",
   "nbconvert_exporter": "python",
   "pygments_lexer": "ipython3",
   "version": "3.10.0"
  }
 },
 "nbformat": 4,
 "nbformat_minor": 5
}

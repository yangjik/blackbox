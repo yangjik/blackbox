{
 "cells": [
  {
   "cell_type": "markdown",
   "metadata": {},
   "source": [
    "# 동영상 70프레임 기준으로 자르고 이미지 저장"
   ]
  },
  {
   "cell_type": "code",
   "execution_count": 1,
   "metadata": {},
   "outputs": [],
   "source": [
    "import cv2, os, sys"
   ]
  },
  {
   "cell_type": "code",
   "execution_count": 15,
   "metadata": {},
   "outputs": [
    {
     "name": "stdout",
     "output_type": "stream",
     "text": [
      "20240121_133220_INF_2\n",
      "1373.0\n"
     ]
    }
   ],
   "source": [
    "# video_path = './1_20_1.mp4'\n",
    "\n",
    "video_path = './20240121_133220_INF_2.avi'\n",
    "file_name = video_path.split('.')[1].split('/')[1]\n",
    "\n",
    "print(file_name)\n",
    "\n",
    "# 동영상 파일 읽기\n",
    "video = cv2.VideoCapture(video_path)\n",
    "\n",
    "# 동영상이 안열리면 해당 코드 정지.\n",
    "if not video.isOpened():\n",
    "    print('동영상 경로 및 파일 확인해주세요.')\n",
    "    sys.exit()\n",
    "\n",
    "# 동영상에서 저장될 이미지\n",
    "save_dir = './image'\n",
    "if os.path.exists(save_dir) == False:\n",
    "    os.mkdir(save_dir)\n",
    "    print(save_dir, ' 폴더 생성 완')\n",
    "\n",
    "# 동영상의 전체 프레임 확인\n",
    "print(video.get(cv2.CAP_PROP_FRAME_COUNT))\n",
    "\n",
    "\n",
    "count = 0\n",
    "save_count = 0\n",
    "fps = 70\n",
    "# 동영상 읽고 프레임별 저장\n",
    "while video.isOpened():\n",
    "\n",
    "    ret, img = video.read()\n",
    "\n",
    "    # 다음 프레임 없으면 중단\n",
    "    if not ret:\n",
    "        break\n",
    "\n",
    "    if count % fps == 0:\n",
    "        save_img = f'./image/{file_name}_{save_count}.jpg'\n",
    "        cv2.imwrite(save_img, img)\n",
    "        save_count += 1\n",
    "    count += 1\n",
    "\n",
    "video.release()"
   ]
  },
  {
   "cell_type": "code",
   "execution_count": 5,
   "metadata": {},
   "outputs": [
    {
     "data": {
      "text/plain": [
       "25.414285714285715"
      ]
     },
     "execution_count": 5,
     "metadata": {},
     "output_type": "execute_result"
    }
   ],
   "source": [
    "1779 / 70"
   ]
  },
  {
   "cell_type": "markdown",
   "metadata": {},
   "source": [
    "# 버전1 동영상 읽고 프레임 지정 후 이미지 생성"
   ]
  },
  {
   "cell_type": "code",
   "execution_count": 18,
   "metadata": {},
   "outputs": [],
   "source": [
    "import cv2, os, sys\n",
    "\n",
    "# 예시\n",
    "# video_path = './1_20_1.mp4'\n",
    "# save_dir = './image/'\n",
    "# fps = 70\n",
    "\n",
    "def video_fps_mkimg(video_path, save_dir, fps):\n",
    "\n",
    "    file_name = video_path.split('.')[1].split('/')[1]\n",
    "\n",
    "    # 동영상 파일 읽기\n",
    "    video = cv2.VideoCapture(video_path)\n",
    "\n",
    "    # 동영상이 안열리면 해당 코드 정지.\n",
    "    if not video.isOpened():\n",
    "        print('동영상 경로 및 파일 확인해주세요.')\n",
    "        sys.exit()\n",
    "\n",
    "    # 동영상에서 저장될 이미지\n",
    "    if os.path.exists(save_dir) == False:\n",
    "        os.mkdir(save_dir)\n",
    "        print(save_dir, ' 폴더 생성 완')\n",
    "\n",
    "    # 동영상의 전체 프레임 확인\n",
    "    print('현재 동영상 total frame : ', video.get(cv2.CAP_PROP_FRAME_COUNT))\n",
    "\n",
    "\n",
    "    count = 0\n",
    "    save_count = 0  # 이미지 저장할때 파일명에 붙음.\n",
    "\n",
    "    # 동영상 읽고 프레임별 저장\n",
    "    while video.isOpened():\n",
    "\n",
    "        ret, img = video.read()\n",
    "\n",
    "        # 다음 프레임 없으면 중단\n",
    "        if not ret:\n",
    "            break\n",
    "\n",
    "        if count % fps == 0:\n",
    "            img_save = f'{save_dir}{file_name}_{save_count}.jpg'\n",
    "            cv2.imwrite(img_save, img)\n",
    "            save_count += 1\n",
    "            \n",
    "        count += 1\n",
    "\n",
    "    video.release()"
   ]
  },
  {
   "cell_type": "code",
   "execution_count": 20,
   "metadata": {},
   "outputs": [
    {
     "name": "stdout",
     "output_type": "stream",
     "text": [
      "1779.0\n"
     ]
    }
   ],
   "source": [
    "# video_path = './20240121_133220_INF_2.avi'\n",
    "video_path = './1_20_1.mp4'\n",
    "save_dir = './image/'\n",
    "fps = 70\n",
    "video_fps_mkimg(video_path, save_dir, fps)"
   ]
  },
  {
   "cell_type": "code",
   "execution_count": null,
   "metadata": {},
   "outputs": [],
   "source": []
  },
  {
   "cell_type": "code",
   "execution_count": null,
   "metadata": {},
   "outputs": [],
   "source": []
  },
  {
   "cell_type": "code",
   "execution_count": null,
   "metadata": {},
   "outputs": [],
   "source": []
  },
  {
   "cell_type": "code",
   "execution_count": null,
   "metadata": {},
   "outputs": [],
   "source": []
  },
  {
   "cell_type": "code",
   "execution_count": null,
   "metadata": {},
   "outputs": [],
   "source": []
  }
 ],
 "metadata": {
  "kernelspec": {
   "display_name": "simple_study",
   "language": "python",
   "name": "python3"
  },
  "language_info": {
   "codemirror_mode": {
    "name": "ipython",
    "version": 3
   },
   "file_extension": ".py",
   "mimetype": "text/x-python",
   "name": "python",
   "nbconvert_exporter": "python",
   "pygments_lexer": "ipython3",
   "version": "3.10.13"
  }
 },
 "nbformat": 4,
 "nbformat_minor": 2
}

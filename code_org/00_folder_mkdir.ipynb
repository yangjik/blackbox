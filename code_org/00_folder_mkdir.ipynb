{
 "cells": [
  {
   "cell_type": "markdown",
   "metadata": {},
   "source": [
    "# 폴더 경로 통일화\n",
    "\n",
    "- blackbox : 블랙박스 사운드제거 -> resize(640, 640) 된 영상  <-- 도커에서 받음\n",
    "- blackboxsound : 도커에 저장되어있는 위험상황 sound 파일  <-- DB 조회 기준으로 파일 업데이트 됨.\n",
    "- dataset : 이미지랑 라벨데이터\n",
    "- \n"
   ]
  },
  {
   "cell_type": "markdown",
   "metadata": {},
   "source": [
    "블랙박스 영상 원본\n",
    "video\n",
    "    - m.d\n",
    "        - inf\n",
    "        - park\n",
    "        - event\n",
    "        - nosound(폴더생성필요)\n",
    "\n",
    "사운드, resize된 동영상\n",
    "blackbox\n",
    "    - m.d(폴더 생성 필요)\n",
    "        - m_d_1_01.mp4\n",
    "        - m_d_1_02.mp4\n",
    "\n",
    "동영상에서 fps 지정하면 나눠지는 이미지 폴더 <- labeling 할때 필요\n",
    "auto\n",
    "    - img\n",
    "    - label\n",
    "\n",
    "yolo학습 시킬때 train/test/val 데이터나누는 곳\n",
    "datas\n",
    "    - train\n",
    "        - images\n",
    "        - labels\n",
    "    - test\n",
    "        - images\n",
    "        - lables\n",
    "    - val\n",
    "        - images\n",
    "        - labels\n",
    "\n",
    "강사님이랑 만든 이미지, txt 버전관리 <- 여기는 원본 유지\n",
    "dataset\n",
    "    - images\n",
    "        - yyyymmdd_hh\n",
    "    - labels\n",
    "        - yyyymmdd_hh\n"
   ]
  },
  {
   "cell_type": "markdown",
   "metadata": {},
   "source": [
    "<br>"
   ]
  },
  {
   "cell_type": "markdown",
   "metadata": {},
   "source": [
    "### 최초 실행 - 폴더에 아무것도 없을때만 실행하세요. 제발!!!!!! 생성할 폴더가 기존에 있으면 데이터 다날라가요 꼭꼭 확인해주세요!!!!!!"
   ]
  },
  {
   "cell_type": "code",
   "execution_count": 18,
   "metadata": {},
   "outputs": [
    {
     "name": "stdout",
     "output_type": "stream",
     "text": [
      "기존 blackbox 폴더 삭제\n",
      "폴더 삭제 후 blackbox 폴더 생성\n",
      "\n",
      "기존 sound 폴더 삭제\n",
      "폴더 삭제 후 sound 폴더 생성\n",
      "\n"
     ]
    }
   ],
   "source": [
    "import os, shutil\n",
    "\n",
    "# 여기 경로만 추가해주세요\n",
    "reset_dir = ['./video', './blackbox/', './blackboxsound/', './dataset/', './dataset/images/', './dataset/labels/']\n",
    "\n",
    "for _ in reset_dir:\n",
    "    # 폴더 존재시 내부 폴더 데이터 삭제 후 폴더 생성.\n",
    "    if os.path.exists(_) == True:\n",
    "        shutil.rmtree(_)\n",
    "        name = _.split('/')[1]\n",
    "        print(f'기존 {name} 폴더 삭제')\n",
    "\n",
    "        os.mkdir(_)\n",
    "        print(f'폴더 삭제 후 {name} 폴더 생성\\n')\n",
    "\n",
    "    # 폴더 없을 땐 생성.\n",
    "    else:\n",
    "        os.mkdir(_)\n",
    "        name = reset_dir[0].split('/')[1]\n",
    "        print(f'{name} 폴더 생성\\n')"
   ]
  },
  {
   "cell_type": "code",
   "execution_count": null,
   "metadata": {},
   "outputs": [],
   "source": []
  },
  {
   "attachments": {
    "image-3.png": {
     "image/png": "[encoded data removed]"
    }
   },
   "cell_type": "markdown",
   "metadata": {},
   "source": [
    "### 나는 데이터 따위 상관없어 초기화 해버려\n",
    "\n",
    "밑에 변수 일일이 바꾸지 말고 Ctrl + F 누른 후 'reset_dir[0]' 검색 -> ![image-3.png](attachment:image-3.png)"
   ]
  },
  {
   "cell_type": "code",
   "execution_count": 16,
   "metadata": {},
   "outputs": [
    {
     "name": "stdout",
     "output_type": "stream",
     "text": [
      "기존 blackbox 폴더 삭제\n",
      "폴더 삭제 후 blackbox 폴더 생성\n"
     ]
    }
   ],
   "source": [
    "import os, shutil\n",
    "\n",
    "reset_dir = ['./blackbox/', './blackboxsound/']\n",
    "\n",
    "# 폴더 존재시 내부 폴더 데이터 삭제 후 폴더 생성.\n",
    "if os.path.exists(reset_dir[0]) == True:\n",
    "    shutil.rmtree(reset_dir[0])\n",
    "    name = reset_dir[0].split('/')[1]\n",
    "    print(f'기존 {name} 폴더 삭제')\n",
    "\n",
    "    os.mkdir(reset_dir[0])\n",
    "    print(f'폴더 삭제 후 {name} 폴더 생성')\n",
    "\n",
    "# 폴더 없을 땐 생성.\n",
    "else:\n",
    "    os.mkdir(reset_dir[0])\n",
    "    name = reset_dir[0].split('/')[1]\n",
    "    print(f'{name} 폴더 생성')"
   ]
  },
  {
   "cell_type": "code",
   "execution_count": null,
   "metadata": {},
   "outputs": [],
   "source": []
  },
  {
   "cell_type": "markdown",
   "metadata": {},
   "source": [
    "### 현재 폴더가 존재하고 하위 폴더 생성시 사용한 코드"
   ]
  },
  {
   "cell_type": "code",
   "execution_count": 23,
   "metadata": {},
   "outputs": [
    {
     "name": "stdout",
     "output_type": "stream",
     "text": [
      "blackbox 존재 합니다. pass\n",
      "\n",
      "sound 존재 합니다. pass\n",
      "\n",
      "img 존재 합니다. pass\n",
      "\n"
     ]
    }
   ],
   "source": [
    "import os\n",
    "\n",
    "# 밑에 파일 경로 추가 해주세요\n",
    "mk_dir = ['./blackbox/', './blackboxsound/', './img/']\n",
    "\n",
    "for _ in mk_dir:\n",
    "    name = _.split('/')[1]\n",
    "    \n",
    "    # 기존 폴더 존재시 패스!\n",
    "    if os.path.exists(_) == True:\n",
    "        print(f'{name} 존재 합니다. pass\\n')\n",
    "        pass\n",
    "\n",
    "    # 폴더 없으면 생성!!\n",
    "    else:\n",
    "        os.mkdir(_)\n",
    "        print(f'{name} 폴더 생성 완\\n')"
   ]
  },
  {
   "cell_type": "code",
   "execution_count": null,
   "metadata": {},
   "outputs": [],
   "source": []
  },
  {
   "cell_type": "markdown",
   "metadata": {},
   "source": [
    "### 폴더 생성"
   ]
  },
  {
   "cell_type": "code",
   "execution_count": 15,
   "metadata": {},
   "outputs": [],
   "source": [
    "import os\n",
    "\n",
    "# 경로 지정\n",
    "path = './img/'\n",
    "\n",
    "# 폴더 생성\n",
    "os.mkdir(path)"
   ]
  },
  {
   "cell_type": "code",
   "execution_count": null,
   "metadata": {},
   "outputs": [],
   "source": []
  },
  {
   "cell_type": "markdown",
   "metadata": {},
   "source": [
    "### 폴더 삭제 <- 폴더 내부에 데이터까지 삭제."
   ]
  },
  {
   "cell_type": "code",
   "execution_count": 19,
   "metadata": {},
   "outputs": [],
   "source": [
    "import shutil\n",
    "\n",
    "# 삭제할 폴더 경로\n",
    "path = './img/'\n",
    "\n",
    "# \n",
    "shutil.rmtree(path)"
   ]
  },
  {
   "cell_type": "code",
   "execution_count": null,
   "metadata": {},
   "outputs": [],
   "source": []
  }
 ],
 "metadata": {
  "kernelspec": {
   "display_name": "simple_study",
   "language": "python",
   "name": "python3"
  },
  "language_info": {
   "codemirror_mode": {
    "name": "ipython",
    "version": 3
   },
   "file_extension": ".py",
   "mimetype": "text/x-python",
   "name": "python",
   "nbconvert_exporter": "python",
   "pygments_lexer": "ipython3",
   "version": "3.10.13"
  }
 },
 "nbformat": 4,
 "nbformat_minor": 2
}

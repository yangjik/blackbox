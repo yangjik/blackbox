{
 "cells": [
  {
   "cell_type": "markdown",
   "metadata": {},
   "source": [
    "# 라벨 되어있는 txt파일 EDA"
   ]
  },
  {
   "cell_type": "markdown",
   "metadata": {},
   "source": [
    "### 파일 전처리"
   ]
  },
  {
   "cell_type": "code",
   "execution_count": 1,
   "metadata": {},
   "outputs": [],
   "source": [
    "import os\n",
    "import cv2"
   ]
  },
  {
   "cell_type": "code",
   "execution_count": 2,
   "metadata": {},
   "outputs": [
    {
     "data": {
      "text/plain": [
       "2180"
      ]
     },
     "execution_count": 2,
     "metadata": {},
     "output_type": "execute_result"
    }
   ],
   "source": [
    "# txt 파일 개수 확인\n",
    "txt_ls = os.listdir('./dataset/annotations/')\n",
    "len(txt_ls)"
   ]
  },
  {
   "cell_type": "code",
   "execution_count": 3,
   "metadata": {},
   "outputs": [
    {
     "data": {
      "text/plain": [
       "2180"
      ]
     },
     "execution_count": 3,
     "metadata": {},
     "output_type": "execute_result"
    }
   ],
   "source": [
    "# 이미지 파일 개수 확인\n",
    "img_ls = os.listdir('./dataset/images/')\n",
    "len(img_ls)"
   ]
  },
  {
   "cell_type": "code",
   "execution_count": 4,
   "metadata": {},
   "outputs": [
    {
     "data": {
      "text/plain": [
       "2507"
      ]
     },
     "execution_count": 4,
     "metadata": {},
     "output_type": "execute_result"
    }
   ],
   "source": [
    "# 원본 이미지 파일 개수 확인\n",
    "org_img = os.listdir('./images/')\n",
    "len(org_img)"
   ]
  },
  {
   "cell_type": "markdown",
   "metadata": {},
   "source": [
    "위 결과를 확인 해보면 학습후 이미지의 개수가 줄어든걸로 확인된다. 그러면 실제 있는 이미지 파일 개수랑 txt 파일 비교해서 있으면 사용하고 없으면 txt파일 삭제"
   ]
  },
  {
   "cell_type": "code",
   "execution_count": 5,
   "metadata": {},
   "outputs": [],
   "source": [
    "# 이미지 파일에서 확장자 제거\n",
    "img_ext = []\n",
    "\n",
    "for _ in img_ls:\n",
    "    img_ext.append(_.split('.')[0])\n",
    "\n",
    "# txt 파일에서 확장자 제거\n",
    "txt_ext = []\n",
    "\n",
    "for _ in txt_ls:\n",
    "    txt_ext.append(_.split('.')[0])"
   ]
  },
  {
   "cell_type": "code",
   "execution_count": 6,
   "metadata": {},
   "outputs": [
    {
     "data": {
      "text/plain": [
       "0"
      ]
     },
     "execution_count": 6,
     "metadata": {},
     "output_type": "execute_result"
    }
   ],
   "source": [
    "# 삭제 해야할 파일의 개수 파악\n",
    "for img in img_ext:\n",
    "    txt_ext.remove(img)\n",
    "\n",
    "len(txt_ext)"
   ]
  },
  {
   "cell_type": "code",
   "execution_count": 7,
   "metadata": {},
   "outputs": [],
   "source": [
    "# 필요없는 txt파일 삭제 <- 최초 한번 실행\n",
    "drop_txt = []\n",
    "for _ in txt_ext:\n",
    "    drop_txt = _ + '.txt'\n",
    "    os.remove(f'./dataset/annotations/{drop_txt}')\n",
    "    print('삭제 완 ', drop_txt)"
   ]
  },
  {
   "cell_type": "markdown",
   "metadata": {},
   "source": [
    "### txt 파일이용해서 데이터 EDA(객체의 분포도 확인)"
   ]
  },
  {
   "cell_type": "code",
   "execution_count": 8,
   "metadata": {},
   "outputs": [],
   "source": [
    "import pandas as pd\n",
    "import numpy as np\n",
    "import os\n",
    "import matplotlib.pyplot as plt"
   ]
  },
  {
   "cell_type": "code",
   "execution_count": 9,
   "metadata": {},
   "outputs": [
    {
     "data": {
      "text/html": [
       "<div>\n",
       "<style scoped>\n",
       "    .dataframe tbody tr th:only-of-type {\n",
       "        vertical-align: middle;\n",
       "    }\n",
       "\n",
       "    .dataframe tbody tr th {\n",
       "        vertical-align: top;\n",
       "    }\n",
       "\n",
       "    .dataframe thead th {\n",
       "        text-align: right;\n",
       "    }\n",
       "</style>\n",
       "<table border=\"1\" class=\"dataframe\">\n",
       "  <thead>\n",
       "    <tr style=\"text-align: right;\">\n",
       "      <th></th>\n",
       "      <th>class</th>\n",
       "      <th>w</th>\n",
       "      <th>h</th>\n",
       "      <th>center_x</th>\n",
       "      <th>center_y</th>\n",
       "    </tr>\n",
       "  </thead>\n",
       "  <tbody>\n",
       "    <tr>\n",
       "      <th>0</th>\n",
       "      <td>0</td>\n",
       "      <td>0.11402</td>\n",
       "      <td>0.49244</td>\n",
       "      <td>0.00986</td>\n",
       "      <td>0.05272</td>\n",
       "    </tr>\n",
       "    <tr>\n",
       "      <th>1</th>\n",
       "      <td>0</td>\n",
       "      <td>0.02973</td>\n",
       "      <td>0.51807</td>\n",
       "      <td>0.01004</td>\n",
       "      <td>0.06680</td>\n",
       "    </tr>\n",
       "    <tr>\n",
       "      <th>2</th>\n",
       "      <td>0</td>\n",
       "      <td>0.04823</td>\n",
       "      <td>0.50925</td>\n",
       "      <td>0.01383</td>\n",
       "      <td>0.06758</td>\n",
       "    </tr>\n",
       "    <tr>\n",
       "      <th>3</th>\n",
       "      <td>0</td>\n",
       "      <td>0.02269</td>\n",
       "      <td>0.51971</td>\n",
       "      <td>0.00931</td>\n",
       "      <td>0.06213</td>\n",
       "    </tr>\n",
       "    <tr>\n",
       "      <th>4</th>\n",
       "      <td>2</td>\n",
       "      <td>0.76351</td>\n",
       "      <td>0.53629</td>\n",
       "      <td>0.23986</td>\n",
       "      <td>0.24214</td>\n",
       "    </tr>\n",
       "    <tr>\n",
       "      <th>5</th>\n",
       "      <td>2</td>\n",
       "      <td>0.36168</td>\n",
       "      <td>0.49081</td>\n",
       "      <td>0.12759</td>\n",
       "      <td>0.14092</td>\n",
       "    </tr>\n",
       "    <tr>\n",
       "      <th>6</th>\n",
       "      <td>2</td>\n",
       "      <td>0.18597</td>\n",
       "      <td>0.49831</td>\n",
       "      <td>0.12392</td>\n",
       "      <td>0.11626</td>\n",
       "    </tr>\n",
       "    <tr>\n",
       "      <th>7</th>\n",
       "      <td>2</td>\n",
       "      <td>0.56491</td>\n",
       "      <td>0.45221</td>\n",
       "      <td>0.03752</td>\n",
       "      <td>0.04569</td>\n",
       "    </tr>\n",
       "    <tr>\n",
       "      <th>8</th>\n",
       "      <td>2</td>\n",
       "      <td>0.51447</td>\n",
       "      <td>0.44592</td>\n",
       "      <td>0.02496</td>\n",
       "      <td>0.03928</td>\n",
       "    </tr>\n",
       "  </tbody>\n",
       "</table>\n",
       "</div>"
      ],
      "text/plain": [
       "   class        w        h  center_x  center_y\n",
       "0      0  0.11402  0.49244   0.00986   0.05272\n",
       "1      0  0.02973  0.51807   0.01004   0.06680\n",
       "2      0  0.04823  0.50925   0.01383   0.06758\n",
       "3      0  0.02269  0.51971   0.00931   0.06213\n",
       "4      2  0.76351  0.53629   0.23986   0.24214\n",
       "5      2  0.36168  0.49081   0.12759   0.14092\n",
       "6      2  0.18597  0.49831   0.12392   0.11626\n",
       "7      2  0.56491  0.45221   0.03752   0.04569\n",
       "8      2  0.51447  0.44592   0.02496   0.03928"
      ]
     },
     "execution_count": 9,
     "metadata": {},
     "output_type": "execute_result"
    }
   ],
   "source": [
    "# txt파일 경로\n",
    "txt_ls = os.listdir('./dataset/annotations/')\n",
    "\n",
    "# txt 파일 읽기\n",
    "df_txt = []\n",
    "\n",
    "pd.read_csv('./dataset/annotations/20180101_155236_INF_2-00000.txt', sep=' ',names=['class', 'w', 'h', 'center_x', 'center_y'])"
   ]
  },
  {
   "cell_type": "code",
   "execution_count": 10,
   "metadata": {},
   "outputs": [],
   "source": [
    "ontol = {\n",
    "    \"person\": \"person\",\n",
    "    \"bicycle\": \"bicycle\",\n",
    "    'car' : 'car',\n",
    "    'motorcycle' : 'motorcycle',\n",
    "    'bus' : 'bus',\n",
    "    'truck' : 'truck'\n",
    "}"
   ]
  },
  {
   "cell_type": "code",
   "execution_count": 11,
   "metadata": {},
   "outputs": [
    {
     "data": {
      "text/html": [
       "<div>\n",
       "<style scoped>\n",
       "    .dataframe tbody tr th:only-of-type {\n",
       "        vertical-align: middle;\n",
       "    }\n",
       "\n",
       "    .dataframe tbody tr th {\n",
       "        vertical-align: top;\n",
       "    }\n",
       "\n",
       "    .dataframe thead th {\n",
       "        text-align: right;\n",
       "    }\n",
       "</style>\n",
       "<table border=\"1\" class=\"dataframe\">\n",
       "  <thead>\n",
       "    <tr style=\"text-align: right;\">\n",
       "      <th></th>\n",
       "      <th>class</th>\n",
       "      <th>w</th>\n",
       "      <th>h</th>\n",
       "      <th>center_x</th>\n",
       "      <th>center_y</th>\n",
       "    </tr>\n",
       "  </thead>\n",
       "  <tbody>\n",
       "    <tr>\n",
       "      <th>0</th>\n",
       "      <td>0</td>\n",
       "      <td>0.11402</td>\n",
       "      <td>0.49244</td>\n",
       "      <td>0.00986</td>\n",
       "      <td>0.05272</td>\n",
       "    </tr>\n",
       "    <tr>\n",
       "      <th>1</th>\n",
       "      <td>0</td>\n",
       "      <td>0.02973</td>\n",
       "      <td>0.51807</td>\n",
       "      <td>0.01004</td>\n",
       "      <td>0.06680</td>\n",
       "    </tr>\n",
       "    <tr>\n",
       "      <th>2</th>\n",
       "      <td>0</td>\n",
       "      <td>0.04823</td>\n",
       "      <td>0.50925</td>\n",
       "      <td>0.01383</td>\n",
       "      <td>0.06758</td>\n",
       "    </tr>\n",
       "    <tr>\n",
       "      <th>3</th>\n",
       "      <td>0</td>\n",
       "      <td>0.02269</td>\n",
       "      <td>0.51971</td>\n",
       "      <td>0.00931</td>\n",
       "      <td>0.06213</td>\n",
       "    </tr>\n",
       "    <tr>\n",
       "      <th>4</th>\n",
       "      <td>2</td>\n",
       "      <td>0.76351</td>\n",
       "      <td>0.53629</td>\n",
       "      <td>0.23986</td>\n",
       "      <td>0.24214</td>\n",
       "    </tr>\n",
       "    <tr>\n",
       "      <th>5</th>\n",
       "      <td>2</td>\n",
       "      <td>0.36168</td>\n",
       "      <td>0.49081</td>\n",
       "      <td>0.12759</td>\n",
       "      <td>0.14092</td>\n",
       "    </tr>\n",
       "    <tr>\n",
       "      <th>6</th>\n",
       "      <td>2</td>\n",
       "      <td>0.18597</td>\n",
       "      <td>0.49831</td>\n",
       "      <td>0.12392</td>\n",
       "      <td>0.11626</td>\n",
       "    </tr>\n",
       "    <tr>\n",
       "      <th>7</th>\n",
       "      <td>2</td>\n",
       "      <td>0.56491</td>\n",
       "      <td>0.45221</td>\n",
       "      <td>0.03752</td>\n",
       "      <td>0.04569</td>\n",
       "    </tr>\n",
       "    <tr>\n",
       "      <th>8</th>\n",
       "      <td>2</td>\n",
       "      <td>0.51447</td>\n",
       "      <td>0.44592</td>\n",
       "      <td>0.02496</td>\n",
       "      <td>0.03928</td>\n",
       "    </tr>\n",
       "  </tbody>\n",
       "</table>\n",
       "</div>"
      ],
      "text/plain": [
       "   class        w        h  center_x  center_y\n",
       "0      0  0.11402  0.49244   0.00986   0.05272\n",
       "1      0  0.02973  0.51807   0.01004   0.06680\n",
       "2      0  0.04823  0.50925   0.01383   0.06758\n",
       "3      0  0.02269  0.51971   0.00931   0.06213\n",
       "4      2  0.76351  0.53629   0.23986   0.24214\n",
       "5      2  0.36168  0.49081   0.12759   0.14092\n",
       "6      2  0.18597  0.49831   0.12392   0.11626\n",
       "7      2  0.56491  0.45221   0.03752   0.04569\n",
       "8      2  0.51447  0.44592   0.02496   0.03928"
      ]
     },
     "execution_count": 11,
     "metadata": {},
     "output_type": "execute_result"
    }
   ],
   "source": [
    "# txt파일 경로\n",
    "txt_ls = os.listdir('./dataset/annotations/')\n",
    "\n",
    "# txt 파일 읽기\n",
    "df_txt = []\n",
    "pd.read_csv('./dataset/annotations/20180101_155236_INF_2-00000.txt', sep=' ',names=['class', 'w', 'h', 'center_x', 'center_y'])"
   ]
  },
  {
   "cell_type": "code",
   "execution_count": 12,
   "metadata": {},
   "outputs": [],
   "source": [
    "total_txt = []\n",
    "\n",
    "# txt파일 경로\n",
    "txt_ls = os.listdir('./dataset/annotations/')\n",
    "\n",
    "for _ in txt_ls:\n",
    "    with open(f'./dataset/annotations/{_}', 'r', encoding='utf-8') as f:\n",
    "        txt_org = f.readlines()\n",
    "        total_txt = total_txt + txt_org\n",
    "\n",
    "\n",
    "yolo_txt = []\n",
    "for _ in total_txt:\n",
    "    yolo_txt.append(_.split('\\n')[0])"
   ]
  },
  {
   "cell_type": "code",
   "execution_count": 13,
   "metadata": {},
   "outputs": [
    {
     "data": {
      "text/plain": [
       "[['0', '0.11402', '0.49244', '0.00986', '0.05272'],\n",
       " ['0', '0.02973', '0.51807', '0.01004', '0.06680'],\n",
       " ['0', '0.04823', '0.50925', '0.01383', '0.06758'],\n",
       " ['0', '0.02269', '0.51971', '0.00931', '0.06213'],\n",
       " ['2', '0.76351', '0.53629', '0.23986', '0.24214']]"
      ]
     },
     "execution_count": 13,
     "metadata": {},
     "output_type": "execute_result"
    }
   ],
   "source": [
    "# 공백 분리\n",
    "data = [row.split() for row in yolo_txt]\n",
    "data[:5]"
   ]
  },
  {
   "cell_type": "code",
   "execution_count": 14,
   "metadata": {},
   "outputs": [
    {
     "data": {
      "text/html": [
       "<div>\n",
       "<style scoped>\n",
       "    .dataframe tbody tr th:only-of-type {\n",
       "        vertical-align: middle;\n",
       "    }\n",
       "\n",
       "    .dataframe tbody tr th {\n",
       "        vertical-align: top;\n",
       "    }\n",
       "\n",
       "    .dataframe thead th {\n",
       "        text-align: right;\n",
       "    }\n",
       "</style>\n",
       "<table border=\"1\" class=\"dataframe\">\n",
       "  <thead>\n",
       "    <tr style=\"text-align: right;\">\n",
       "      <th></th>\n",
       "      <th>class</th>\n",
       "      <th>w</th>\n",
       "      <th>h</th>\n",
       "      <th>center_x</th>\n",
       "      <th>center_y</th>\n",
       "    </tr>\n",
       "  </thead>\n",
       "  <tbody>\n",
       "    <tr>\n",
       "      <th>0</th>\n",
       "      <td>0</td>\n",
       "      <td>0.11402</td>\n",
       "      <td>0.49244</td>\n",
       "      <td>0.00986</td>\n",
       "      <td>0.05272</td>\n",
       "    </tr>\n",
       "    <tr>\n",
       "      <th>1</th>\n",
       "      <td>0</td>\n",
       "      <td>0.02973</td>\n",
       "      <td>0.51807</td>\n",
       "      <td>0.01004</td>\n",
       "      <td>0.06680</td>\n",
       "    </tr>\n",
       "    <tr>\n",
       "      <th>2</th>\n",
       "      <td>0</td>\n",
       "      <td>0.04823</td>\n",
       "      <td>0.50925</td>\n",
       "      <td>0.01383</td>\n",
       "      <td>0.06758</td>\n",
       "    </tr>\n",
       "    <tr>\n",
       "      <th>3</th>\n",
       "      <td>0</td>\n",
       "      <td>0.02269</td>\n",
       "      <td>0.51971</td>\n",
       "      <td>0.00931</td>\n",
       "      <td>0.06213</td>\n",
       "    </tr>\n",
       "    <tr>\n",
       "      <th>4</th>\n",
       "      <td>2</td>\n",
       "      <td>0.76351</td>\n",
       "      <td>0.53629</td>\n",
       "      <td>0.23986</td>\n",
       "      <td>0.24214</td>\n",
       "    </tr>\n",
       "    <tr>\n",
       "      <th>...</th>\n",
       "      <td>...</td>\n",
       "      <td>...</td>\n",
       "      <td>...</td>\n",
       "      <td>...</td>\n",
       "      <td>...</td>\n",
       "    </tr>\n",
       "    <tr>\n",
       "      <th>16822</th>\n",
       "      <td>2</td>\n",
       "      <td>0.36786</td>\n",
       "      <td>0.47378</td>\n",
       "      <td>0.07087</td>\n",
       "      <td>0.08619</td>\n",
       "    </tr>\n",
       "    <tr>\n",
       "      <th>16823</th>\n",
       "      <td>2</td>\n",
       "      <td>0.30664</td>\n",
       "      <td>0.45957</td>\n",
       "      <td>0.06647</td>\n",
       "      <td>0.07964</td>\n",
       "    </tr>\n",
       "    <tr>\n",
       "      <th>16824</th>\n",
       "      <td>2</td>\n",
       "      <td>0.42631</td>\n",
       "      <td>0.45216</td>\n",
       "      <td>0.04752</td>\n",
       "      <td>0.05771</td>\n",
       "    </tr>\n",
       "    <tr>\n",
       "      <th>16825</th>\n",
       "      <td>4</td>\n",
       "      <td>0.54776</td>\n",
       "      <td>0.56318</td>\n",
       "      <td>0.24593</td>\n",
       "      <td>0.33108</td>\n",
       "    </tr>\n",
       "    <tr>\n",
       "      <th>16826</th>\n",
       "      <td>5</td>\n",
       "      <td>0.16701</td>\n",
       "      <td>0.22053</td>\n",
       "      <td>0.33255</td>\n",
       "      <td>0.44157</td>\n",
       "    </tr>\n",
       "  </tbody>\n",
       "</table>\n",
       "<p>16827 rows × 5 columns</p>\n",
       "</div>"
      ],
      "text/plain": [
       "      class        w        h center_x center_y\n",
       "0         0  0.11402  0.49244  0.00986  0.05272\n",
       "1         0  0.02973  0.51807  0.01004  0.06680\n",
       "2         0  0.04823  0.50925  0.01383  0.06758\n",
       "3         0  0.02269  0.51971  0.00931  0.06213\n",
       "4         2  0.76351  0.53629  0.23986  0.24214\n",
       "...     ...      ...      ...      ...      ...\n",
       "16822     2  0.36786  0.47378  0.07087  0.08619\n",
       "16823     2  0.30664  0.45957  0.06647  0.07964\n",
       "16824     2  0.42631  0.45216  0.04752  0.05771\n",
       "16825     4  0.54776  0.56318  0.24593  0.33108\n",
       "16826     5  0.16701  0.22053  0.33255  0.44157\n",
       "\n",
       "[16827 rows x 5 columns]"
      ]
     },
     "execution_count": 14,
     "metadata": {},
     "output_type": "execute_result"
    }
   ],
   "source": [
    "# 데이터 프레임 적제\n",
    "df = pd.DataFrame(data, columns=['class', 'w', 'h', 'center_x', 'center_y'])\n",
    "df"
   ]
  },
  {
   "cell_type": "code",
   "execution_count": 15,
   "metadata": {},
   "outputs": [
    {
     "data": {
      "text/plain": [
       "(16827, 5)"
      ]
     },
     "execution_count": 15,
     "metadata": {},
     "output_type": "execute_result"
    }
   ],
   "source": [
    "# 데이터 개수 파악\n",
    "df.shape"
   ]
  },
  {
   "cell_type": "code",
   "execution_count": 16,
   "metadata": {},
   "outputs": [
    {
     "data": {
      "text/html": [
       "<div>\n",
       "<style scoped>\n",
       "    .dataframe tbody tr th:only-of-type {\n",
       "        vertical-align: middle;\n",
       "    }\n",
       "\n",
       "    .dataframe tbody tr th {\n",
       "        vertical-align: top;\n",
       "    }\n",
       "\n",
       "    .dataframe thead th {\n",
       "        text-align: right;\n",
       "    }\n",
       "</style>\n",
       "<table border=\"1\" class=\"dataframe\">\n",
       "  <thead>\n",
       "    <tr style=\"text-align: right;\">\n",
       "      <th></th>\n",
       "      <th>class</th>\n",
       "      <th>w</th>\n",
       "      <th>h</th>\n",
       "      <th>center_x</th>\n",
       "      <th>center_y</th>\n",
       "    </tr>\n",
       "  </thead>\n",
       "  <tbody>\n",
       "    <tr>\n",
       "      <th>count</th>\n",
       "      <td>16827</td>\n",
       "      <td>16827</td>\n",
       "      <td>16827</td>\n",
       "      <td>16827</td>\n",
       "      <td>16827</td>\n",
       "    </tr>\n",
       "    <tr>\n",
       "      <th>unique</th>\n",
       "      <td>6</td>\n",
       "      <td>14641</td>\n",
       "      <td>9173</td>\n",
       "      <td>9458</td>\n",
       "      <td>11753</td>\n",
       "    </tr>\n",
       "    <tr>\n",
       "      <th>top</th>\n",
       "      <td>2</td>\n",
       "      <td>0.49992</td>\n",
       "      <td>0.49930</td>\n",
       "      <td>0.01013</td>\n",
       "      <td>0.04044</td>\n",
       "    </tr>\n",
       "    <tr>\n",
       "      <th>freq</th>\n",
       "      <td>6376</td>\n",
       "      <td>23</td>\n",
       "      <td>11</td>\n",
       "      <td>12</td>\n",
       "      <td>7</td>\n",
       "    </tr>\n",
       "  </tbody>\n",
       "</table>\n",
       "</div>"
      ],
      "text/plain": [
       "        class        w        h center_x center_y\n",
       "count   16827    16827    16827    16827    16827\n",
       "unique      6    14641     9173     9458    11753\n",
       "top         2  0.49992  0.49930  0.01013  0.04044\n",
       "freq     6376       23       11       12        7"
      ]
     },
     "execution_count": 16,
     "metadata": {},
     "output_type": "execute_result"
    }
   ],
   "source": [
    "df.describe()"
   ]
  },
  {
   "cell_type": "code",
   "execution_count": 17,
   "metadata": {},
   "outputs": [
    {
     "data": {
      "text/plain": [
       "class\n",
       "2    6376\n",
       "0    5127\n",
       "5    2130\n",
       "4    1943\n",
       "3     896\n",
       "1     355\n",
       "Name: count, dtype: int64"
      ]
     },
     "execution_count": 17,
     "metadata": {},
     "output_type": "execute_result"
    }
   ],
   "source": [
    "df['class'].value_counts()"
   ]
  },
  {
   "cell_type": "code",
   "execution_count": 18,
   "metadata": {},
   "outputs": [],
   "source": [
    "# 한글 폰트\n",
    "plt.rc('font', family = 'Malgun Gothic') # window\n",
    "plt.rc('font', size = 12)\n",
    "plt.rc('axes', unicode_minus = False)"
   ]
  },
  {
   "cell_type": "code",
   "execution_count": 19,
   "metadata": {},
   "outputs": [
    {
     "data": {
      "image/png": "[encoded data removed]",
      "text/plain": [
       "<Figure size 640x480 with 1 Axes>"
      ]
     },
     "metadata": {},
     "output_type": "display_data"
    }
   ],
   "source": [
    "plt.hist(df['class'].sort_values(), df['class'].sort_values().unique())\n",
    "\n",
    "plt.title('클래스 분포도')\n",
    "plt.xlabel('클래스 타입')\n",
    "plt.ylabel('누적 개수')\n",
    "\n",
    "plt.show()"
   ]
  },
  {
   "cell_type": "code",
   "execution_count": null,
   "metadata": {},
   "outputs": [],
   "source": [
    "ontol = {\n",
    "    \"person\": \"person\",\n",
    "    \"bicycle\": \"bicycle\",\n",
    "    'car' : 'car',\n",
    "    'motorcycle' : 'motorcycle',\n",
    "    'bus' : 'bus',\n",
    "    'truck' : 'truck'\n",
    "}"
   ]
  },
  {
   "cell_type": "code",
   "execution_count": 20,
   "metadata": {},
   "outputs": [
    {
     "data": {
      "image/png": "[encoded data removed]",
      "text/plain": [
       "<Figure size 640x480 with 1 Axes>"
      ]
     },
     "metadata": {},
     "output_type": "display_data"
    }
   ],
   "source": [
    "# plt.figure(figsize=(12,5))\n",
    "\n",
    "plt.hist(df['class'].sort_values(), rwidth=0.8)\n",
    "\n",
    "plt.title('클래스 분포도')\n",
    "plt.xlabel('클래스 타입')\n",
    "plt.ylabel('누적 개수')\n",
    "\n",
    "plt.show()"
   ]
  },
  {
   "cell_type": "code",
   "execution_count": null,
   "metadata": {},
   "outputs": [],
   "source": []
  }
 ],
 "metadata": {
  "kernelspec": {
   "display_name": "simple_study",
   "language": "python",
   "name": "python3"
  },
  "language_info": {
   "codemirror_mode": {
    "name": "ipython",
    "version": 3
   },
   "file_extension": ".py",
   "mimetype": "text/x-python",
   "name": "python",
   "nbconvert_exporter": "python",
   "pygments_lexer": "ipython3",
   "version": "3.10.13"
  }
 },
 "nbformat": 4,
 "nbformat_minor": 2
}

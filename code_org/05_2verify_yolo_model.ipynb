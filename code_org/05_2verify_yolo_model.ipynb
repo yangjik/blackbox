{
 "cells": [
  {
   "cell_type": "code",
   "execution_count": 18,
   "metadata": {},
   "outputs": [
    {
     "name": "stdout",
     "output_type": "stream",
     "text": [
      "['5 0.107461 0.706085 0.204922 0.204057\\n', '3 0.371609 0.825009 0.0743971 0.123901\\n', '0 0.427561 0.776905 0.0207535 0.106983\\n']\n",
      "['2 0.13206 0.61104 0.26411 0.26089\\n', '3 0.47965 0.64759 0.07841 0.08259\\n', '2 0.95314 0.62029 0.05014 0.0554\\n', '2 0.98747 0.63157 0.02505 0.06889\\n']\n"
     ]
    }
   ],
   "source": [
    "with open('./test.txt', 'r', encoding='utf-8') as f:\n",
    "    one_txt = f.readlines()\n",
    "\n",
    "# one_txt = sorted(one_txt, key=lambda x: float(x.split(' ')[0]))\n",
    "\n",
    "with open('./test_v4/test/labels/MP_KSC_000003.txt', 'r', encoding='utf-8') as f:\n",
    "    two_txt = f.readlines()\n",
    "# two_txt = sorted(two_txt, key=lambda x: float(x.split(' ')[0]))\n",
    "print(one_txt)\n",
    "print(two_txt)"
   ]
  },
  {
   "cell_type": "code",
   "execution_count": 16,
   "metadata": {},
   "outputs": [
    {
     "data": {
      "text/plain": [
       "[['0', '0.42837', '0.77691', '0.01719', '0.10833'],\n",
       " ['3', '0.3714', '0.82447', '0.07405', '0.12765'],\n",
       " ['5', '0.13839', '0.79229', '0.27677', '0.22227']]"
      ]
     },
     "execution_count": 16,
     "metadata": {},
     "output_type": "execute_result"
    }
   ],
   "source": [
    "with open('./test.txt', 'r', encoding='utf-8') as f:\n",
    "    one_txt = [[float(num) for num in line.strip().split()] for line in f.readlines()]\n",
    "    one_txt = list(map(lambda line: [round(num, 3) for num in line], one_txt))\n",
    "    one_txt = sorted(one_txt, key=lambda x: (x[0], x[1], x[2], x[3], x[4]))\n",
    "\n",
    "with open('./test_v4/test/labels/MP_KSC_000041.txt', 'r', encoding='utf-8') as f:\n",
    "    two_txt = [[num for num in line.strip().split()] for line in f.readlines()]\n",
    "    two_txt = list(map(lambda line: [num for num in line], two_txt))\n",
    "    two_txt = sorted(two_txt, key=lambda x: (x[0], x[1], x[2], x[3], x[4]))\n",
    "\n",
    "two_txt"
   ]
  },
  {
   "cell_type": "code",
   "execution_count": 58,
   "metadata": {},
   "outputs": [],
   "source": [
    "import math, os, shutil, sys\n",
    "\n",
    "# check_txt 이 함수를 만들게 된 배경은 predict 한 결과 txt파일이 없는 경우도 많아서 그땐 사람 검수 필요.\n",
    "\n",
    "# os.listdir 해서 나온 리스트 값만 필요\n",
    "# correct_ls = 정답 txt리스트\n",
    "# predict_ls = predict 한 txt 리스트\n",
    "# copy_path = 이미지 원본있는 폴더dir <- 버전이 계속 바뀌다보니.. 지정필요\n",
    "# ex) ./datas_v4/test/images/\n",
    "def check_txt(correct_ls, predict_ls, org_img_path):\n",
    "    check = []\n",
    "    \n",
    "    # copy_path 경로가 './datas_v4/test/images/' 이런 형식이 아닐때. '/'맨마지막에 붙인다.\n",
    "    if not org_img_path.endswith('/'):\n",
    "        org_img_path = org_img_path + '/'\n",
    "\n",
    "    # prdict txt파일 없는거 파악\n",
    "    for _ in correct_ls:\n",
    "        \n",
    "        if _ not in predict_ls:\n",
    "            check.append(_)\n",
    "\n",
    "    # txt파일이 동일하므로 종료\n",
    "    check = []\n",
    "    if len(check) == 0:\n",
    "        sys.exit('txt파일개수 동일합니다.')\n",
    "    \n",
    "    for _ in check:\n",
    "        img_copy = org_img_path + _.replace('.txt', '.jpg')\n",
    "        shutil.copy(img_copy, './human_check/img/')\n",
    "\n",
    "\n",
    "# prdict txt파일이랑 test txt파일 비교해서 동일하지 않으면 human_check 폴더로 이동.\n",
    "# 이미지는 원본이 아니라 predict 한 결과 이미지 이동.\n",
    "# ex) one_path = './runs/detect/predict3/labels/MP_KSC_000041.txt'\n",
    "#     two_path = './test_v4/test/labels/MP_KSC_000041.txt'\n",
    "def model_verify(predict_path, correct_path, error_rate=5):\n",
    "\n",
    "    file_name = predict_path.split('/')[-1]\n",
    "    predict_img = '/'.join(predict_path.split('/')[:-2]) + '/' + file_name.replace('txt', 'jpg')\n",
    "\n",
    "    # 첫번째 프레임\n",
    "    with open(predict_path, 'r', encoding='utf-8') as f:\n",
    "        one_txt = f.readlines()\n",
    "    one_txt = sorted(one_txt, key=lambda x: float(x.split(' ')[0]))\n",
    "\n",
    "    # 두번째 프레임\n",
    "    with open(correct_path, 'r', encoding='utf-8') as f:\n",
    "        two_txt = f.readlines()\n",
    "    two_txt = sorted(two_txt, key=lambda x: float(x.split(' ')[0]))\n",
    "\n",
    "    if len(one_txt) == len(two_txt):\n",
    "        for one, two in zip(one_txt, two_txt):\n",
    "            false_count = 0\n",
    "         \n",
    "            # txt 파일 정보\n",
    "            one_cl = one.split(' ')[0]\n",
    "            one_x = float(one.split(' ')[1])\n",
    "            one_y = float(one.split(' ')[2])\n",
    "            one_w = float(one.split(' ')[3])\n",
    "            one_h = float(one.split(' ')[4])\n",
    "\n",
    "            two_cl = two.split(' ')[0]\n",
    "            two_x = float(two.split(' ')[1])\n",
    "            two_y = float(two.split(' ')[2])\n",
    "            two_w = float(two.split(' ')[3])\n",
    "            two_h = float(two.split(' ')[4])\n",
    "\n",
    "            # 클래스명이 같을때\n",
    "            if one_cl == two_cl:\n",
    "\n",
    "                # 오차율 공식\n",
    "                # x_acc = int(abs(two_x - one_x) / one_x * 100)\n",
    "                # y_acc = int(abs(two_y - one_y) / one_y * 100)\n",
    "                # w_acc = int(abs(two_w - one_w) / one_w * 100)\n",
    "                # h_acc = int(abs(two_h - one_h) / one_h * 100)\n",
    "\n",
    "                x_acc = int(abs(round(one_x, 3) - round(two_x, 3))) * 100\n",
    "                y_acc = int(abs(round(one_y, 3) - round(two_y, 3))) *100\n",
    "                w_acc = int(abs(round(one_w, 3) - round(two_w, 3))) * 100\n",
    "                h_acc = int(abs(round(one_h, 3) - round(two_h, 3))) * 100\n",
    "\n",
    "                if x_acc <= error_rate and y_acc <= error_rate and w_acc <= error_rate and h_acc <= error_rate: \n",
    "\n",
    "                    # print('동일합니다.')\n",
    "                    # print(x_acc, y_acc, w_acc, h_acc)\n",
    "                    pass\n",
    "                               \n",
    "                else:\n",
    "                    # print('다릅니다.')\n",
    "                    # print(x_acc, y_acc, w_acc, h_acc)\n",
    "                    false_count += 1              \n",
    "\n",
    "        # txt 파일 한 행씩 비교 후 same_count가 0이면 동일한 이미지가 아니므로 카피.\n",
    "        if false_count > 0:   \n",
    "            shutil.copy(predict_img, './human_check/img/')\n",
    "            shutil.copy(predict_path, './human_check/label/')\n",
    "            shutil.copy(predict_path, './human_check/correct_label/')\n",
    "\n",
    "    else:\n",
    "        shutil.copy(predict_img, './human_check/img/')\n",
    "        shutil.copy(predict_path, './human_check/label/')\n",
    "        shutil.copy(correct_path, './human_check/correct_label/')\n",
    "\n"
   ]
  },
  {
   "cell_type": "code",
   "execution_count": null,
   "metadata": {},
   "outputs": [],
   "source": [
    "correct_ls = os.listdir('./test_v4/test/labels/')\n",
    "predict_ls = os.listdir('./runs/detect/predict3/labels')\n",
    "org_img_path = './test_v4/test/images'\n",
    "\n",
    "check_txt(correct_ls, predict_ls, org_img_path)"
   ]
  },
  {
   "cell_type": "code",
   "execution_count": 51,
   "metadata": {},
   "outputs": [
    {
     "name": "stdout",
     "output_type": "stream",
     "text": [
      "0 0 0 0\n",
      "0 0 0 0\n",
      "0 0 0 0\n"
     ]
    }
   ],
   "source": [
    "model_verify('./test.txt', './test_v4/test/labels/MP_KSC_000041.txt', 10)"
   ]
  },
  {
   "cell_type": "code",
   "execution_count": 56,
   "metadata": {},
   "outputs": [],
   "source": [
    "import shutil, os\n",
    "shutil.rmtree('./human_check/img/')\n",
    "shutil.rmtree('./human_check/label/')\n",
    "shutil.rmtree('./human_check/correct_label/')\n",
    "\n",
    "os.mkdir('./human_check/img')\n",
    "os.mkdir('./human_check/label')\n",
    "os.mkdir('./human_check/correct_label')"
   ]
  },
  {
   "cell_type": "code",
   "execution_count": null,
   "metadata": {},
   "outputs": [],
   "source": [
    "import os\n",
    "\n",
    "predict = './runs/detect/predict3/labels/'\n",
    "correct = './test_v4/test/labels/'\n",
    "\n",
    "predict_ls = os.listdir(predict)\n",
    "correct_ls = os.listdir(correct)\n",
    "\n",
    "# prdict 된 txt파일만 비교\n",
    "check = []\n",
    "for _ in predict_ls:\n",
    "    if _  in correct_ls:\n",
    "        check.append(_)\n",
    "\n",
    "check_predict = []\n",
    "check_correct = []\n",
    "for _ in check:\n",
    "    check_predict.append(predict + _)\n",
    "    check_correct.append(correct + _)\n",
    "\n",
    "for one, two in zip(check_predict, check_correct):\n",
    "    print(one, two)\n",
    "    # model_verify(one, two, error_rate=10)"
   ]
  },
  {
   "cell_type": "code",
   "execution_count": 60,
   "metadata": {},
   "outputs": [
    {
     "data": {
      "text/plain": [
       "(1506, 1506, 1506)"
      ]
     },
     "execution_count": 60,
     "metadata": {},
     "output_type": "execute_result"
    }
   ],
   "source": [
    "one = './human_check/img/'\n",
    "two = './human_check/label/'\n",
    "tree = './human_check/correct_label/'\n",
    "\n",
    "len(os.listdir(one)), len(os.listdir(two)), len(os.listdir(tree))"
   ]
  },
  {
   "cell_type": "code",
   "execution_count": null,
   "metadata": {},
   "outputs": [],
   "source": [
    "import cv2\n",
    "img_path = './human_check/img/MP_KSC_000011.jpg'\n",
    "img = cv2.imread(img_path)\n",
    "\n",
    "if img is None:\n",
    "    print('이미지 없습니다.')\n",
    "\n",
    "cv2.imshow('img', img)\n",
    "cv2.waitKey(0)"
   ]
  },
  {
   "cell_type": "code",
   "execution_count": 5,
   "metadata": {},
   "outputs": [],
   "source": [
    "img_path = './human_check/img/MP_KSC_000011.jpg'\n",
    "\n",
    "show_label('./human_check/correct_label/MP_KSC_000011.txt', img_path)"
   ]
  },
  {
   "cell_type": "code",
   "execution_count": 4,
   "metadata": {},
   "outputs": [],
   "source": [
    "import cv2, os\n",
    "\n",
    "def show_label(txt_path, img_path):\n",
    "\n",
    "    # 원본 txt 파일읽기 - 비율\n",
    "    with open(txt_path, 'r', encoding='utf-8') as f:\n",
    "        txt_org = f.readlines()\n",
    "\n",
    "    # 원본 읽고 불필요 문자 '\\n' 제거\n",
    "    txt_re = []\n",
    "    for _ in txt_org:\n",
    "        txt_re.append(_.replace('\\n', ''))\n",
    "\n",
    "    # 이미지 읽기 - 여기서 좌표 변환 후 박스 그리기\n",
    "    img = cv2.imread(img_path)\n",
    "\n",
    "    if img is None:\n",
    "        raise print('이미지 없어 경로 다시확인')\n",
    "\n",
    "    img_w, img_h, img_c = img.shape\n",
    "\n",
    "    # 박스 그리는 위치\n",
    "    for _ in txt_re:\n",
    "        class_id, x, y, w, h = _.split(' ')\n",
    "        class_id, x, y, w, h = int(class_id), float(x), float(y), float(w), float(h)\n",
    "\n",
    "        # yolo식 좌표\n",
    "        re_x, re_y, re_w, re_h = int(x * img_h), int(y * img_w), int(w * img_h), int(h * img_w)\n",
    "\n",
    "        # opencv 식 좌표\n",
    "        x1 = (int(re_x - (re_w/2)), int(re_y + (re_h/2)))\n",
    "        x2 = (int(re_x + (re_w/2)), int(re_y + (re_h/2)))\n",
    "        x3 = (int(re_x - (re_w/2)), int(re_y - (re_h/2)))\n",
    "        x4 = (int(re_x + (re_w/2)), int(re_y - (re_h/2)))\n",
    "\n",
    "        # print(x1, x4)\n",
    "\n",
    "        # 클래스 보고 색상변경\n",
    "        if class_id == 0:\n",
    "            # 빨 : 사람\n",
    "            cv2.rectangle(img=img, pt1=x1, pt2=x4, color=(0, 0, 255), thickness=3)\n",
    "\n",
    "        elif class_id == 1:\n",
    "            # 파 : 자전거\n",
    "            cv2.rectangle(img=img, pt1=x1, pt2=x4, color=(255, 0, 0), thickness=3)\n",
    "\n",
    "        elif class_id == 2:\n",
    "            # 녹 : 차\n",
    "            cv2.rectangle(img=img, pt1=x1, pt2=x4, color=(0, 255, 0), thickness=3)\n",
    "\n",
    "        elif class_id == 3:\n",
    "            # 핑크 : 오토바이\n",
    "            cv2.rectangle(img=img, pt1=x1, pt2=x4, color=(255, 0, 255), thickness=3)\n",
    "\n",
    "        elif class_id == 4:\n",
    "            # 주황 : 버스\n",
    "            cv2.rectangle(img=img, pt1=x1, pt2=x4, color=(255, 102, 0), thickness=3)\n",
    "\n",
    "        elif class_id == 5:\n",
    "            # 노랑 : 트럭\n",
    "            cv2.rectangle(img=img, pt1=x1, pt2=x4, color=(255, 0, 255), thickness=3)\n",
    "\n",
    "    # 클래스 개수 적어두기\n",
    "    cv2.putText(img=img, text=f'total : {len(txt_re)}', org=(0,50), fontFace=cv2.FONT_HERSHEY_SIMPLEX, fontScale=1.0, color=(0,0,255), thickness=3)\n",
    "\n",
    "    cv2.imshow('label', img)\n",
    "\n",
    "    # key = cv2.waitKey()\n",
    "    # if key == 27:\n",
    "    #     cv2.destroyAllWindows()"
   ]
  },
  {
   "cell_type": "code",
   "execution_count": 4,
   "metadata": {},
   "outputs": [],
   "source": [
    "# txt_path = './human_check/label/MP_KSC_000041.txt'\n",
    "# txt_path = './test.txt'\n",
    "# img_path = './human_check/img/MP_KSC_000041.jpg'\n",
    "\n",
    "img_ls = os.listdir('./human_check/img')\n",
    "txt_ls = os.listdir('./human_check/correct_label')\n",
    "\n",
    "for txt, img in zip(txt_ls, img_ls):\n",
    "    i = './human_check/img/' + img\n",
    "    t = './human_check/label/' + txt\n",
    "    show_label(t, i)\n",
    "    key = cv2.waitKey()\n",
    "    if key == 27:\n",
    "        cv2.destroyAllWindows()\n",
    "        break"
   ]
  },
  {
   "cell_type": "markdown",
   "metadata": {},
   "source": []
  },
  {
   "cell_type": "code",
   "execution_count": null,
   "metadata": {},
   "outputs": [],
   "source": []
  }
 ],
 "metadata": {
  "kernelspec": {
   "display_name": "simple_study",
   "language": "python",
   "name": "python3"
  },
  "language_info": {
   "codemirror_mode": {
    "name": "ipython",
    "version": 3
   },
   "file_extension": ".py",
   "mimetype": "text/x-python",
   "name": "python",
   "nbconvert_exporter": "python",
   "pygments_lexer": "ipython3",
   "version": "3.10.13"
  }
 },
 "nbformat": 4,
 "nbformat_minor": 2
}

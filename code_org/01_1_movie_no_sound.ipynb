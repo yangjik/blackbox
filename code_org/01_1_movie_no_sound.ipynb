{
 "cells": [
  {
   "cell_type": "markdown",
   "metadata": {},
   "source": [
    "# 블랙박스 영상 소리 제거\n",
    "\n",
    "- 참고 사이트 : https://kminito.tistory.com/109"
   ]
  },
  {
   "cell_type": "markdown",
   "metadata": {},
   "source": [
    "2가지 준비\n",
    "1. pip install moviepy\n",
    "2. https://www.gyan.dev/ffmpeg/builds/  -> ffmpeg-git-full.7z 다운"
   ]
  },
  {
   "cell_type": "code",
   "execution_count": 2,
   "metadata": {},
   "outputs": [
    {
     "name": "stdout",
     "output_type": "stream",
     "text": [
      "ffmpeg version 2023-12-23-git-f5f414d9c4-full_build-www.gyan.dev Copyright (c) 2000-2023 the FFmpeg developers\n",
      "built with gcc 12.2.0 (Rev10, Built by MSYS2 project)\n",
      "configuration: --enable-gpl --enable-version3 --enable-static --pkg-config=pkgconf --disable-w32threads --disable-autodetect --enable-fontconfig --enable-iconv --enable-gnutls --enable-libxml2 --enable-gmp --enable-bzlib --enable-lzma --enable-libsnappy --enable-zlib --enable-librist --enable-libsrt --enable-libssh --enable-libzmq --enable-avisynth --enable-libbluray --enable-libcaca --enable-sdl2 --enable-libaribb24 --enable-libaribcaption --enable-libdav1d --enable-libdavs2 --enable-libuavs3d --enable-libzvbi --enable-librav1e --enable-libsvtav1 --enable-libwebp --enable-libx264 --enable-libx265 --enable-libxavs2 --enable-libxvid --enable-libaom --enable-libjxl --enable-libopenjpeg --enable-libvpx --enable-mediafoundation --enable-libass --enable-frei0r --enable-libfreetype --enable-libfribidi --enable-libharfbuzz --enable-liblensfun --enable-libvidstab --enable-libvmaf --enable-libzimg --enable-amf --enable-cuda-llvm --enable-cuvid --enable-ffnvcodec --enable-nvdec --enable-nvenc --enable-dxva2 --enable-d3d11va --enable-libvpl --enable-libshaderc --enable-vulkan --enable-libplacebo --enable-opencl --enable-libcdio --enable-libgme --enable-libmodplug --enable-libopenmpt --enable-libopencore-amrwb --enable-libmp3lame --enable-libshine --enable-libtheora --enable-libtwolame --enable-libvo-amrwbenc --enable-libcodec2 --enable-libilbc --enable-libgsm --enable-libopencore-amrnb --enable-libopus --enable-libspeex --enable-libvorbis --enable-ladspa --enable-libbs2b --enable-libflite --enable-libmysofa --enable-librubberband --enable-libsoxr --enable-chromaprint\n",
      "libavutil      58. 36.100 / 58. 36.100\n",
      "libavcodec     60. 36.100 / 60. 36.100\n",
      "libavformat    60. 20.100 / 60. 20.100\n",
      "libavdevice    60.  4.100 / 60.  4.100\n",
      "libavfilter     9. 14.101 /  9. 14.101\n",
      "libswscale      7.  6.100 /  7.  6.100\n",
      "libswresample   4. 13.100 /  4. 13.100\n",
      "libpostproc    57.  4.100 / 57.  4.100\n"
     ]
    }
   ],
   "source": [
    "# 환경 잘 구축했는지 확인\n",
    "!ffmpeg -version"
   ]
  },
  {
   "cell_type": "code",
   "execution_count": 1,
   "metadata": {},
   "outputs": [
    {
     "name": "stdout",
     "output_type": "stream",
     "text": [
      "Moviepy - Building video nosound1.mp4.\n",
      "Moviepy - Writing video nosound1.mp4\n",
      "\n"
     ]
    },
    {
     "name": "stderr",
     "output_type": "stream",
     "text": [
      "                                                                \r"
     ]
    },
    {
     "name": "stdout",
     "output_type": "stream",
     "text": [
      "Moviepy - Done !\n",
      "Moviepy - video ready nosound1.mp4\n"
     ]
    }
   ],
   "source": [
    "from moviepy.editor import VideoFileClip\n",
    "\n",
    "videoclip = VideoFileClip('./video/12.17/INF/20210810_002426_INF_2.avi')\n",
    "new_clip = videoclip.without_audio()\n",
    "new_clip.write_videofile('nosound1.mp4')"
   ]
  },
  {
   "cell_type": "markdown",
   "metadata": {},
   "source": [
    "# 영상 사이즈 줄이기. resize()"
   ]
  },
  {
   "cell_type": "code",
   "execution_count": 25,
   "metadata": {},
   "outputs": [],
   "source": [
    "import cv2\n",
    "\n",
    "# 입력 동영상 파일 경로\n",
    "input_video_path = './video/12.17/INF/20210810_002426_INF_2.avi'\n",
    "# 출력 동영상 파일 경로\n",
    "output_video_path = \"./blackbox/TEST.mp4\"\n",
    "\n",
    "# 입력 동영상 캡처\n",
    "cap = cv2.VideoCapture(input_video_path)\n",
    "\n",
    "# 입력 동영상 프레임 크기\n",
    "width = cap.get(cv2.CAP_PROP_FRAME_WIDTH)\n",
    "height = cap.get(cv2.CAP_PROP_FRAME_HEIGHT)\n",
    "\n",
    "# 출력 동영상 캡처 - 소리 제거 안되어있음\n",
    "out_cap = cv2.VideoWriter(output_video_path, cv2.VideoWriter_fourcc('M', 'P', '4', 'V'), cap.get(cv2.CAP_PROP_FPS), (640, 480))\n",
    "\n",
    "# 동영상 프레임 반복\n",
    "while cap.isOpened():\n",
    "    # 프레임 읽기\n",
    "    ret, frame = cap.read()\n",
    "\n",
    "    # 프레임 읽기 성공 여부 확인\n",
    "    if not ret:\n",
    "        # 다음 프레임 없음\n",
    "        break\n",
    "\n",
    "    # 프레임 크기 변경\n",
    "    frame = cv2.resize(frame, (640, 480))\n",
    "\n",
    "    # 프레임 출력\n",
    "    out_cap.write(frame)\n",
    "\n",
    "    # 키 입력 대기\n",
    "    k = cv2.waitKey(1)\n",
    "    if k == 27:\n",
    "        break\n",
    "\n",
    "# 캡처 종료\n",
    "cap.release()\n",
    "out_cap.release()\n"
   ]
  },
  {
   "cell_type": "markdown",
   "metadata": {},
   "source": [
    "함수로 만들기"
   ]
  },
  {
   "cell_type": "code",
   "execution_count": null,
   "metadata": {},
   "outputs": [],
   "source": [
    "from moviepy.editor import VideoFileClip\n",
    "\n",
    "def no_sound_video(video_path, save_path):\n",
    "    video_path = video_path\n",
    "    save_path = save_path\n",
    "\n",
    "    videoclip = VideoFileClip(video_path)\n",
    "    new_clip = videoclip.without_audio()\n",
    "\n",
    "    new_clip.write_videofile(save_path)\n",
    "    print('저장 성공')"
   ]
  },
  {
   "cell_type": "code",
   "execution_count": null,
   "metadata": {},
   "outputs": [],
   "source": []
  },
  {
   "cell_type": "markdown",
   "metadata": {},
   "source": [
    "# 버전1 - 640 X 640\n",
    "\n",
    "밑에 함수 실행 후 순서대로 경로 수정 후 실행"
   ]
  },
  {
   "cell_type": "code",
   "execution_count": 3,
   "metadata": {},
   "outputs": [],
   "source": [
    "from moviepy.editor import VideoFileClip\n",
    "import cv2\n",
    "\n",
    "def convert_video(org_path, nosound_path ,save_path):\n",
    "\n",
    "    org_path = org_path\n",
    "    nosound_path = nosound_path \n",
    "    save_path = save_path\n",
    "\n",
    "    # 사운드 제거 할 동영상 읽기.\n",
    "    videoclip = VideoFileClip(org_path)\n",
    "\n",
    "    # 사운드 제거.\n",
    "    new_clip = videoclip.without_audio()\n",
    "    \n",
    "    # 사운드 제거 파일 저장.\n",
    "    new_clip.write_videofile(nosound_path)\n",
    "\n",
    "    # 동영상 읽기 <-- 사운드 제거된 영상\n",
    "    cap = cv2.VideoCapture(nosound_path)\n",
    "\n",
    "    # 동영상 프레임\n",
    "    width = cap.get(cv2.CAP_PROP_FRAME_WIDTH)\n",
    "    height = cap.get(cv2.CAP_PROP_FRAME_HEIGHT)\n",
    "\n",
    "    # 저장할 동영상 - 소리 제거 안되어있음\n",
    "    out_cap = cv2.VideoWriter(save_path, cv2.VideoWriter_fourcc('M', 'P', '4', 'V'), cap.get(cv2.CAP_PROP_FPS), (640, 640))\n",
    "\n",
    "    # 동영상 프레임 반복\n",
    "    while cap.isOpened():\n",
    "        # 프레임 읽기\n",
    "        ret, frame = cap.read()\n",
    "\n",
    "        # 프레임 읽기 성공 여부 확인\n",
    "        if not ret:\n",
    "            # 다음 프레임 없음\n",
    "            break\n",
    "\n",
    "        # 프레임 크기 변경\n",
    "        frame = cv2.resize(frame, (640, 640))\n",
    "\n",
    "        # 프레임 출력\n",
    "        out_cap.write(frame)\n",
    "\n",
    "        # 키 입력 대기\n",
    "        k = cv2.waitKey(1)\n",
    "        if k == 27:\n",
    "            break\n",
    "\n",
    "    # 캡처 종료\n",
    "    cap.release()\n",
    "    out_cap.release()"
   ]
  },
  {
   "cell_type": "code",
   "execution_count": 9,
   "metadata": {},
   "outputs": [],
   "source": [
    "org_path = './20210811_162449_PRK_2.avi'\n",
    "nosound_path = './video/1.9/nosound/nosound.mp4'\n",
    "save_path = './result.mp4'\n",
    "\n",
    "# convert_video(org_path, nosound_path, save_path)"
   ]
  },
  {
   "cell_type": "code",
   "execution_count": 22,
   "metadata": {},
   "outputs": [
    {
     "name": "stdout",
     "output_type": "stream",
     "text": [
      "blackbox 폴더 생성.\n"
     ]
    }
   ],
   "source": [
    "import os\n",
    "\n",
    "nosound_path = './video/1.8/nosound/nosound.mp4'\n",
    "\n",
    "nosound_dir = '/'.join(nosound_path.split('/')[:-1])\n",
    "if not os.path.exists(nosound_dir):\n",
    "    print('nosound 폴더 생성.')\n",
    "    os.mkdir(nosound_dir)\n",
    "else:\n",
    "    pass\n",
    "\n",
    "blackbox_dir = './blackbox/'+ nosound_path.split('/')[2]\n",
    "if not os.path.exists(blackbox_dir):\n",
    "    print('blackbox 폴더 생성.')\n",
    "    os.mkdir(blackbox_dir)\n",
    "else:\n",
    "    pass"
   ]
  },
  {
   "cell_type": "code",
   "execution_count": 20,
   "metadata": {},
   "outputs": [
    {
     "data": {
      "text/plain": [
       "'1.8'"
      ]
     },
     "execution_count": 20,
     "metadata": {},
     "output_type": "execute_result"
    }
   ],
   "source": [
    "nosound_path.split('/')[2]"
   ]
  },
  {
   "cell_type": "markdown",
   "metadata": {},
   "source": [
    "# 버전 2 - 디렉토리 설정"
   ]
  },
  {
   "cell_type": "code",
   "execution_count": null,
   "metadata": {},
   "outputs": [],
   "source": [
    "from moviepy.editor import VideoFileClip\n",
    "import cv2, os\n",
    "\n",
    "def convert_video(org_path, nosound_path ,save_path):\n",
    "\n",
    "    # 사운드제거 후 저장할 디렉토리\n",
    "    nosound_dir = '/'.join(nosound_path.split('/')[:-1])\n",
    "    if not os.path.exists(nosound_dir):\n",
    "        print('nosound 폴더 생성.')\n",
    "        os.mkdir(nosound_dir)\n",
    "    else:\n",
    "        pass\n",
    "    \n",
    "    # resize 후 저장할 디렉토리\n",
    "    blackbox_dir = './blackbox/'+ nosound_path.split('/')[2]\n",
    "    if not os.path.exists(blackbox_dir):\n",
    "        print('blackbox 폴더 생성.')\n",
    "        os.mkdir(blackbox_dir)\n",
    "    else:\n",
    "        pass  \n",
    "\n",
    "    # 사운드 제거 할 동영상 읽기.\n",
    "    videoclip = VideoFileClip(org_path)\n",
    "\n",
    "    # 사운드 제거.\n",
    "    new_clip = videoclip.without_audio()\n",
    "    \n",
    "    # 사운드 제거 파일 저장.\n",
    "    new_clip.write_videofile(nosound_path)\n",
    "\n",
    "    # 동영상 읽기 <-- 사운드 제거된 영상\n",
    "    cap = cv2.VideoCapture(nosound_path)\n",
    "\n",
    "    # 동영상 프레임\n",
    "    width = cap.get(cv2.CAP_PROP_FRAME_WIDTH)\n",
    "    height = cap.get(cv2.CAP_PROP_FRAME_HEIGHT)\n",
    "\n",
    "    # 저장할 동영상 - 소리 제거 안되어있음\n",
    "    out_cap = cv2.VideoWriter(save_path, cv2.VideoWriter_fourcc('M', 'P', '4', 'V'), cap.get(cv2.CAP_PROP_FPS), (640, 640))\n",
    "\n",
    "    # 동영상 프레임 반복\n",
    "    while cap.isOpened():\n",
    "        # 프레임 읽기\n",
    "        ret, frame = cap.read()\n",
    "\n",
    "        # 프레임 읽기 성공 여부 확인\n",
    "        if not ret:\n",
    "            # 다음 프레임 없음\n",
    "            break\n",
    "\n",
    "        # 프레임 크기 변경\n",
    "        frame = cv2.resize(frame, (640, 640))\n",
    "\n",
    "        # 프레임 출력\n",
    "        out_cap.write(frame)\n",
    "\n",
    "        # 키 입력 대기\n",
    "        k = cv2.waitKey(1)\n",
    "        if k == 27:\n",
    "            break\n",
    "\n",
    "    # 캡처 종료\n",
    "    cap.release()\n",
    "    out_cap.release()"
   ]
  },
  {
   "cell_type": "code",
   "execution_count": null,
   "metadata": {},
   "outputs": [],
   "source": [
    "import os\n",
    "\n",
    "one_inf = []\n",
    "one_event = []\n",
    "one_park = []\n",
    "\n",
    "day = '1.28'\n",
    "\n",
    "if os.path.exists(f'./video/{day}/INF/') == True:\n",
    "    one_inf = os.listdir(f'./video/{day}/INF/')\n",
    "else:\n",
    "    pass\n",
    "\n",
    "if os.path.exists(f'./video/{day}/EVENT/') == True:\n",
    "    one_event = os.listdir(f'./video/{day}/EVENT/')\n",
    "else:\n",
    "    pass\n",
    "\n",
    "if os.path.exists(f'./video/{day}/PARK/') == True:\n",
    "    one_park = os.listdir(f'./video/{day}/PARK/')\n",
    "else:\n",
    "    pass\n",
    "\n",
    "inf_path = f'./video/{day}/INF/'\n",
    "event_path = f'./video/{day}/EVENT/'\n",
    "park_path = f'./video/{day}/PARK/'\n",
    "\n",
    "num = 1\n",
    "\n",
    "inf = []\n",
    "event = []\n",
    "park = []\n",
    "\n",
    "# 원본 파일 경로\n",
    "# inf 폴더\n",
    "for _ in one_inf:\n",
    "    inf.append(inf_path + _)\n",
    "\n",
    "# event 폴더\n",
    "for _ in one_event:\n",
    "    event.append(event_path + _)\n",
    "\n",
    "# park 폴더\n",
    "for _ in one_park:\n",
    "    park.append(park_path + _)\n",
    "\n",
    "# nosound 폴더 생성\n",
    "if os.path.exists(f'./video/{day}/nosound/') == True:\n",
    "    pass\n",
    "else:\n",
    "    os.mkdir(f'./video/{day}/nosound/')\n",
    "\n",
    "for _ in range(0, len(one_inf)):\n",
    "    # 사운드 제거 파일\n",
    "    nosound_path = f'./video/{day}/nosound/nosound_' + inf_path.split('/')[2].replace('.', '_') + f'_{num}.mp4'\n",
    "    # resize 동영상\n",
    "    save_path = f'./blackbox/{day}/' + inf_path.split('/')[2].replace('.', '_') + f'_{num}.mp4'\n",
    "\n",
    "    org_path = inf[_]\n",
    "    num += 1\n",
    "\n",
    "    convert_video(org_path, nosound_path, save_path)"
   ]
  },
  {
   "cell_type": "code",
   "execution_count": null,
   "metadata": {},
   "outputs": [],
   "source": []
  }
 ],
 "metadata": {
  "kernelspec": {
   "display_name": "simple_study",
   "language": "python",
   "name": "python3"
  },
  "language_info": {
   "codemirror_mode": {
    "name": "ipython",
    "version": 3
   },
   "file_extension": ".py",
   "mimetype": "text/x-python",
   "name": "python",
   "nbconvert_exporter": "python",
   "pygments_lexer": "ipython3",
   "version": "3.10.13"
  }
 },
 "nbformat": 4,
 "nbformat_minor": 2
}

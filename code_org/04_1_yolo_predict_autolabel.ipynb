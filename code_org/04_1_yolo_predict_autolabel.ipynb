{
 "cells": [
  {
   "cell_type": "markdown",
   "metadata": {},
   "source": [
    "# COCO데이터 셋 기준 predict 한 결과로 autolabeling 진행"
   ]
  },
  {
   "cell_type": "markdown",
   "metadata": {},
   "source": [
    "### predict 전 gpu 사용가능 확인"
   ]
  },
  {
   "cell_type": "code",
   "execution_count": 3,
   "metadata": {},
   "outputs": [
    {
     "name": "stderr",
     "output_type": "stream",
     "text": [
      "Ultralytics YOLOv8.0.81  Python-3.10.13 torch-2.1.1+cpu CPU\n",
      "Setup complete  (12 CPUs, 31.9 GB RAM, 797.3/931.4 GB disk)\n"
     ]
    }
   ],
   "source": [
    "import ultralytics\n",
    "ultralytics.checks()"
   ]
  },
  {
   "cell_type": "markdown",
   "metadata": {},
   "source": [
    "### yolo predict 진행"
   ]
  },
  {
   "cell_type": "code",
   "execution_count": 1,
   "metadata": {},
   "outputs": [
    {
     "name": "stdout",
     "output_type": "stream",
     "text": [
      "Defaulting to user installation because normal site-packages is not writeable\n",
      "Collecting protobuf==3.20.*\n",
      "  Downloading protobuf-3.20.3-cp310-cp310-win_amd64.whl (904 kB)\n",
      "     ---------------------------------------- 0.0/904.0 kB ? eta -:--:--\n",
      "     ---------------------------------------- 0.0/904.0 kB ? eta -:--:--\n",
      "     ---------------------------------------- 0.0/904.0 kB ? eta -:--:--\n",
      "     ---------------------------------------- 10.2/904.0 kB ? eta -:--:--\n",
      "     ---------------------------------------- 10.2/904.0 kB ? eta -:--:--\n",
      "     ---------------------------------------- 10.2/904.0 kB ? eta -:--:--\n",
      "     - ----------------------------------- 30.7/904.0 kB 131.3 kB/s eta 0:00:07\n",
      "     - ----------------------------------- 41.0/904.0 kB 151.3 kB/s eta 0:00:06\n",
      "     - ----------------------------------- 41.0/904.0 kB 151.3 kB/s eta 0:00:06\n",
      "     - ----------------------------------- 41.0/904.0 kB 151.3 kB/s eta 0:00:06\n",
      "     --- --------------------------------- 81.9/904.0 kB 208.4 kB/s eta 0:00:04\n",
      "     --- --------------------------------- 81.9/904.0 kB 208.4 kB/s eta 0:00:04\n",
      "     --- --------------------------------- 92.2/904.0 kB 194.1 kB/s eta 0:00:05\n",
      "     ---- ------------------------------- 112.6/904.0 kB 218.3 kB/s eta 0:00:04\n",
      "     ---- ------------------------------- 112.6/904.0 kB 218.3 kB/s eta 0:00:04\n",
      "     ---- ------------------------------- 122.9/904.0 kB 200.1 kB/s eta 0:00:04\n",
      "     ---- ------------------------------- 122.9/904.0 kB 200.1 kB/s eta 0:00:04\n",
      "     ----- ------------------------------ 143.4/904.0 kB 213.0 kB/s eta 0:00:04\n",
      "     ------ ----------------------------- 163.8/904.0 kB 218.5 kB/s eta 0:00:04\n",
      "     ------ ----------------------------- 163.8/904.0 kB 218.5 kB/s eta 0:00:04\n",
      "     ------ ----------------------------- 174.1/904.0 kB 209.8 kB/s eta 0:00:04\n",
      "     ------ ----------------------------- 174.1/904.0 kB 209.8 kB/s eta 0:00:04\n",
      "     ------ ----------------------------- 174.1/904.0 kB 209.8 kB/s eta 0:00:04\n",
      "     ------- ---------------------------- 194.6/904.0 kB 203.4 kB/s eta 0:00:04\n",
      "     ------- ---------------------------- 194.6/904.0 kB 203.4 kB/s eta 0:00:04\n",
      "     -------- --------------------------- 204.8/904.0 kB 194.6 kB/s eta 0:00:04\n",
      "     -------- --------------------------- 204.8/904.0 kB 194.6 kB/s eta 0:00:04\n",
      "     -------- --------------------------- 225.3/904.0 kB 196.6 kB/s eta 0:00:04\n",
      "     -------- --------------------------- 225.3/904.0 kB 196.6 kB/s eta 0:00:04\n",
      "     --------- -------------------------- 245.8/904.0 kB 198.2 kB/s eta 0:00:04\n",
      "     --------- -------------------------- 245.8/904.0 kB 198.2 kB/s eta 0:00:04\n",
      "     ---------- ------------------------- 256.0/904.0 kB 191.8 kB/s eta 0:00:04\n",
      "     ---------- ------------------------- 256.0/904.0 kB 191.8 kB/s eta 0:00:04\n",
      "     ----------- ------------------------ 276.5/904.0 kB 189.4 kB/s eta 0:00:04\n",
      "     ----------- ------------------------ 276.5/904.0 kB 189.4 kB/s eta 0:00:04\n",
      "     ----------- ------------------------ 276.5/904.0 kB 189.4 kB/s eta 0:00:04\n",
      "     ----------- ------------------------ 276.5/904.0 kB 189.4 kB/s eta 0:00:04\n",
      "     ----------- ------------------------ 276.5/904.0 kB 189.4 kB/s eta 0:00:04\n",
      "     ----------- ------------------------ 286.7/904.0 kB 170.1 kB/s eta 0:00:04\n",
      "     ----------- ------------------------ 286.7/904.0 kB 170.1 kB/s eta 0:00:04\n",
      "     ----------- ------------------------ 286.7/904.0 kB 170.1 kB/s eta 0:00:04\n",
      "     ------------ ----------------------- 307.2/904.0 kB 165.3 kB/s eta 0:00:04\n",
      "     ------------ ----------------------- 307.2/904.0 kB 165.3 kB/s eta 0:00:04\n",
      "     ------------ ----------------------- 307.2/904.0 kB 165.3 kB/s eta 0:00:04\n",
      "     ------------- ---------------------- 327.7/904.0 kB 165.2 kB/s eta 0:00:04\n",
      "     ------------- ---------------------- 327.7/904.0 kB 165.2 kB/s eta 0:00:04\n",
      "     ------------- ---------------------- 337.9/904.0 kB 162.5 kB/s eta 0:00:04\n",
      "     ------------- ---------------------- 337.9/904.0 kB 162.5 kB/s eta 0:00:04\n",
      "     -------------- --------------------- 358.4/904.0 kB 166.3 kB/s eta 0:00:04\n",
      "     -------------- --------------------- 358.4/904.0 kB 166.3 kB/s eta 0:00:04\n",
      "     -------------- --------------------- 358.4/904.0 kB 166.3 kB/s eta 0:00:04\n",
      "     -------------- --------------------- 368.6/904.0 kB 160.4 kB/s eta 0:00:04\n",
      "     -------------- --------------------- 368.6/904.0 kB 160.4 kB/s eta 0:00:04\n",
      "     -------------- --------------------- 368.6/904.0 kB 160.4 kB/s eta 0:00:04\n",
      "     --------------- -------------------- 389.1/904.0 kB 159.5 kB/s eta 0:00:04\n",
      "     --------------- -------------------- 389.1/904.0 kB 159.5 kB/s eta 0:00:04\n",
      "     --------------- -------------------- 389.1/904.0 kB 159.5 kB/s eta 0:00:04\n",
      "     --------------- -------------------- 389.1/904.0 kB 159.5 kB/s eta 0:00:04\n",
      "     ---------------- ------------------- 409.6/904.0 kB 154.0 kB/s eta 0:00:04\n",
      "     ---------------- ------------------- 409.6/904.0 kB 154.0 kB/s eta 0:00:04\n",
      "     ---------------- ------------------- 409.6/904.0 kB 154.0 kB/s eta 0:00:04\n",
      "     ---------------- ------------------- 409.6/904.0 kB 154.0 kB/s eta 0:00:04\n",
      "     ---------------- ------------------- 419.8/904.0 kB 148.9 kB/s eta 0:00:04\n",
      "     ---------------- ------------------- 419.8/904.0 kB 148.9 kB/s eta 0:00:04\n",
      "     ----------------- ------------------ 440.3/904.0 kB 150.4 kB/s eta 0:00:04\n",
      "     ----------------- ------------------ 440.3/904.0 kB 150.4 kB/s eta 0:00:04\n",
      "     ----------------- ------------------ 450.6/904.0 kB 149.1 kB/s eta 0:00:04\n",
      "     ----------------- ------------------ 450.6/904.0 kB 149.1 kB/s eta 0:00:04\n",
      "     ------------------ ----------------- 471.0/904.0 kB 152.0 kB/s eta 0:00:03\n",
      "     ------------------ ----------------- 471.0/904.0 kB 152.0 kB/s eta 0:00:03\n",
      "     ------------------- ---------------- 491.5/904.0 kB 153.2 kB/s eta 0:00:03\n",
      "     ------------------- ---------------- 491.5/904.0 kB 153.2 kB/s eta 0:00:03\n",
      "     ------------------- ---------------- 491.5/904.0 kB 153.2 kB/s eta 0:00:03\n",
      "     ------------------- ---------------- 501.8/904.0 kB 150.5 kB/s eta 0:00:03\n",
      "     ------------------- ---------------- 501.8/904.0 kB 150.5 kB/s eta 0:00:03\n",
      "     -------------------- --------------- 522.2/904.0 kB 153.1 kB/s eta 0:00:03\n",
      "     -------------------- --------------- 522.2/904.0 kB 153.1 kB/s eta 0:00:03\n",
      "     --------------------- -------------- 532.5/904.0 kB 151.2 kB/s eta 0:00:03\n",
      "     --------------------- -------------- 532.5/904.0 kB 151.2 kB/s eta 0:00:03\n",
      "     --------------------- -------------- 532.5/904.0 kB 151.2 kB/s eta 0:00:03\n",
      "     --------------------- -------------- 532.5/904.0 kB 151.2 kB/s eta 0:00:03\n",
      "     ---------------------- ------------- 553.0/904.0 kB 149.7 kB/s eta 0:00:03\n",
      "     ---------------------- ------------- 553.0/904.0 kB 149.7 kB/s eta 0:00:03\n",
      "     ---------------------- ------------- 553.0/904.0 kB 149.7 kB/s eta 0:00:03\n",
      "     ---------------------- ------------- 573.4/904.0 kB 149.0 kB/s eta 0:00:03\n",
      "     ---------------------- ------------- 573.4/904.0 kB 149.0 kB/s eta 0:00:03\n",
      "     ---------------------- ------------- 573.4/904.0 kB 149.0 kB/s eta 0:00:03\n",
      "     ----------------------- ------------ 583.7/904.0 kB 148.0 kB/s eta 0:00:03\n",
      "     ----------------------- ------------ 583.7/904.0 kB 148.0 kB/s eta 0:00:03\n",
      "     ----------------------- ------------ 583.7/904.0 kB 148.0 kB/s eta 0:00:03\n",
      "     ----------------------- ------------ 583.7/904.0 kB 148.0 kB/s eta 0:00:03\n",
      "     ----------------------- ------------ 583.7/904.0 kB 148.0 kB/s eta 0:00:03\n",
      "     ----------------------- ------------ 583.7/904.0 kB 148.0 kB/s eta 0:00:03\n",
      "     ----------------------- ------------ 583.7/904.0 kB 148.0 kB/s eta 0:00:03\n",
      "     ----------------------- ------------ 583.7/904.0 kB 148.0 kB/s eta 0:00:03\n",
      "     ----------------------- ------------ 583.7/904.0 kB 148.0 kB/s eta 0:00:03\n",
      "     ----------------------- ------------ 593.9/904.0 kB 136.8 kB/s eta 0:00:03\n",
      "     ----------------------- ------------ 593.9/904.0 kB 136.8 kB/s eta 0:00:03\n",
      "     ----------------------- ------------ 593.9/904.0 kB 136.8 kB/s eta 0:00:03\n",
      "     ------------------------ ----------- 614.4/904.0 kB 137.1 kB/s eta 0:00:03\n",
      "     ------------------------ ----------- 614.4/904.0 kB 137.1 kB/s eta 0:00:03\n",
      "     ------------------------ ----------- 614.4/904.0 kB 137.1 kB/s eta 0:00:03\n",
      "     ------------------------ ----------- 624.6/904.0 kB 134.6 kB/s eta 0:00:03\n",
      "     ------------------------ ----------- 624.6/904.0 kB 134.6 kB/s eta 0:00:03\n",
      "     ------------------------ ----------- 624.6/904.0 kB 134.6 kB/s eta 0:00:03\n",
      "     ------------------------- ---------- 645.1/904.0 kB 136.4 kB/s eta 0:00:02\n",
      "     ------------------------- ---------- 645.1/904.0 kB 136.4 kB/s eta 0:00:02\n",
      "     -------------------------- --------- 665.6/904.0 kB 138.0 kB/s eta 0:00:02\n",
      "     --------------------------- -------- 696.3/904.0 kB 142.1 kB/s eta 0:00:02\n",
      "     ---------------------------- ------- 706.6/904.0 kB 142.8 kB/s eta 0:00:02\n",
      "     ---------------------------- ------- 706.6/904.0 kB 142.8 kB/s eta 0:00:02\n",
      "     ---------------------------- ------- 727.0/904.0 kB 144.7 kB/s eta 0:00:02\n",
      "     ---------------------------- ------- 727.0/904.0 kB 144.7 kB/s eta 0:00:02\n",
      "     ----------------------------- ------ 747.5/904.0 kB 146.1 kB/s eta 0:00:02\n",
      "     ------------------------------ ----- 757.8/904.0 kB 146.7 kB/s eta 0:00:01\n",
      "     ------------------------------ ----- 757.8/904.0 kB 146.7 kB/s eta 0:00:01\n",
      "     ------------------------------ ----- 757.8/904.0 kB 146.7 kB/s eta 0:00:01\n",
      "     ------------------------------ ----- 778.2/904.0 kB 147.6 kB/s eta 0:00:01\n",
      "     ------------------------------ ----- 778.2/904.0 kB 147.6 kB/s eta 0:00:01\n",
      "     ------------------------------ ----- 778.2/904.0 kB 147.6 kB/s eta 0:00:01\n",
      "     ------------------------------ ----- 778.2/904.0 kB 147.6 kB/s eta 0:00:01\n",
      "     ------------------------------- ---- 788.5/904.0 kB 144.0 kB/s eta 0:00:01\n",
      "     ------------------------------- ---- 788.5/904.0 kB 144.0 kB/s eta 0:00:01\n",
      "     ------------------------------- ---- 788.5/904.0 kB 144.0 kB/s eta 0:00:01\n",
      "     -------------------------------- --- 809.0/904.0 kB 145.2 kB/s eta 0:00:01\n",
      "     -------------------------------- --- 809.0/904.0 kB 145.2 kB/s eta 0:00:01\n",
      "     -------------------------------- --- 809.0/904.0 kB 145.2 kB/s eta 0:00:01\n",
      "     -------------------------------- --- 809.0/904.0 kB 145.2 kB/s eta 0:00:01\n",
      "     --------------------------------- -- 829.4/904.0 kB 143.6 kB/s eta 0:00:01\n",
      "     --------------------------------- -- 829.4/904.0 kB 143.6 kB/s eta 0:00:01\n",
      "     --------------------------------- -- 829.4/904.0 kB 143.6 kB/s eta 0:00:01\n",
      "     --------------------------------- -- 829.4/904.0 kB 143.6 kB/s eta 0:00:01\n",
      "     --------------------------------- -- 839.7/904.0 kB 141.6 kB/s eta 0:00:01\n",
      "     --------------------------------- -- 839.7/904.0 kB 141.6 kB/s eta 0:00:01\n",
      "     ---------------------------------- - 860.2/904.0 kB 142.0 kB/s eta 0:00:01\n",
      "     ---------------------------------- - 860.2/904.0 kB 142.0 kB/s eta 0:00:01\n",
      "     ---------------------------------- - 860.2/904.0 kB 142.0 kB/s eta 0:00:01\n",
      "     ---------------------------------- - 860.2/904.0 kB 142.0 kB/s eta 0:00:01\n",
      "     ---------------------------------- - 870.4/904.0 kB 140.4 kB/s eta 0:00:01\n",
      "     ---------------------------------- - 870.4/904.0 kB 140.4 kB/s eta 0:00:01\n",
      "     ---------------------------------- - 870.4/904.0 kB 140.4 kB/s eta 0:00:01\n",
      "     ---------------------------------- - 870.4/904.0 kB 140.4 kB/s eta 0:00:01\n",
      "     -----------------------------------  890.9/904.0 kB 139.2 kB/s eta 0:00:01\n",
      "     -----------------------------------  890.9/904.0 kB 139.2 kB/s eta 0:00:01\n",
      "     -----------------------------------  890.9/904.0 kB 139.2 kB/s eta 0:00:01\n",
      "     -----------------------------------  890.9/904.0 kB 139.2 kB/s eta 0:00:01\n",
      "     -----------------------------------  890.9/904.0 kB 139.2 kB/s eta 0:00:01\n",
      "     -----------------------------------  890.9/904.0 kB 139.2 kB/s eta 0:00:01\n",
      "     -----------------------------------  890.9/904.0 kB 139.2 kB/s eta 0:00:01\n",
      "     -----------------------------------  901.1/904.0 kB 133.8 kB/s eta 0:00:01\n",
      "     ------------------------------------ 904.0/904.0 kB 133.6 kB/s eta 0:00:00\n",
      "Installing collected packages: protobuf\n",
      "  Attempting uninstall: protobuf\n",
      "    Found existing installation: protobuf 4.25.2\n",
      "    Uninstalling protobuf-4.25.2:\n",
      "      Successfully uninstalled protobuf-4.25.2\n",
      "Successfully installed protobuf-3.20.3\n"
     ]
    },
    {
     "name": "stderr",
     "output_type": "stream",
     "text": [
      "ERROR: pip's dependency resolver does not currently take into account all the packages that are installed. This behaviour is the source of the following dependency conflicts.\n",
      "tensorflow-intel 2.15.0 requires tensorboard<2.16,>=2.15, but you have tensorboard 2.9.1 which is incompatible.\n",
      "tensorboard 2.9.1 requires protobuf<3.20,>=3.9.2, but you have protobuf 3.20.3 which is incompatible.\n",
      "tensorflow-gpu 2.9.1 requires flatbuffers<2,>=1.12, but you have flatbuffers 23.5.26 which is incompatible.\n",
      "tensorflow-gpu 2.9.1 requires gast<=0.4.0,>=0.2.1, but you have gast 0.5.4 which is incompatible.\n",
      "tensorflow-gpu 2.9.1 requires keras<2.10.0,>=2.9.0rc0, but you have keras 2.15.0 which is incompatible.\n",
      "tensorflow-gpu 2.9.1 requires protobuf<3.20,>=3.9.2, but you have protobuf 3.20.3 which is incompatible.\n",
      "tensorflow-gpu 2.9.1 requires tensorflow-estimator<2.10.0,>=2.9.0rc0, but you have tensorflow-estimator 2.15.0 which is incompatible.\n"
     ]
    }
   ],
   "source": [
    "# 이거 버전 에러 발생\n",
    "# If you cannot immediately regenerate your protos, some other possible workarounds are:\n",
    "#  1. Downgrade the protobuf package to 3.20.x or lower.\n",
    "#  2. Set PROTOCOL_BUFFERS_PYTHON_IMPLEMENTATION=python (but this will use pure-Python parsing and will be much slower).\n",
    "\n",
    "#!pip install protobuf==3.20.*"
   ]
  },
  {
   "cell_type": "code",
   "execution_count": 4,
   "metadata": {},
   "outputs": [
    {
     "ename": "ModuleNotFoundError",
     "evalue": "No module named 'ultralytics.yolo.utils.callbacks.clearml'",
     "output_type": "error",
     "traceback": [
      "\u001b[1;31m---------------------------------------------------------------------------\u001b[0m",
      "\u001b[1;31mModuleNotFoundError\u001b[0m                       Traceback (most recent call last)",
      "Cell \u001b[1;32mIn[4], line 7\u001b[0m\n\u001b[0;32m      3\u001b[0m model \u001b[38;5;241m=\u001b[39m YOLO(\u001b[38;5;124m'\u001b[39m\u001b[38;5;124myolov8n.pt\u001b[39m\u001b[38;5;124m'\u001b[39m)\n\u001b[0;32m      5\u001b[0m img_path \u001b[38;5;241m=\u001b[39m \u001b[38;5;124m'\u001b[39m\u001b[38;5;124m./datasets/train/images/1_7_18-00005.jpg\u001b[39m\u001b[38;5;124m'\u001b[39m\n\u001b[1;32m----> 7\u001b[0m re \u001b[38;5;241m=\u001b[39m \u001b[43mmodel\u001b[49m\u001b[38;5;241;43m.\u001b[39;49m\u001b[43mpredict\u001b[49m\u001b[43m(\u001b[49m\u001b[43mimg_path\u001b[49m\u001b[43m,\u001b[49m\u001b[43m \u001b[49m\u001b[43mimgsz\u001b[49m\u001b[38;5;241;43m=\u001b[39;49m\u001b[38;5;241;43m640\u001b[39;49m\u001b[43m)\u001b[49m\n\u001b[0;32m      9\u001b[0m \u001b[38;5;28;01mfor\u001b[39;00m rr \u001b[38;5;129;01min\u001b[39;00m re:\n\u001b[0;32m     10\u001b[0m     rr\n",
      "File \u001b[1;32mc:\\ProgramData\\anaconda3\\envs\\simple_study\\lib\\site-packages\\torch\\utils\\_contextlib.py:115\u001b[0m, in \u001b[0;36mcontext_decorator.<locals>.decorate_context\u001b[1;34m(*args, **kwargs)\u001b[0m\n\u001b[0;32m    112\u001b[0m \u001b[38;5;129m@functools\u001b[39m\u001b[38;5;241m.\u001b[39mwraps(func)\n\u001b[0;32m    113\u001b[0m \u001b[38;5;28;01mdef\u001b[39;00m \u001b[38;5;21mdecorate_context\u001b[39m(\u001b[38;5;241m*\u001b[39margs, \u001b[38;5;241m*\u001b[39m\u001b[38;5;241m*\u001b[39mkwargs):\n\u001b[0;32m    114\u001b[0m     \u001b[38;5;28;01mwith\u001b[39;00m ctx_factory():\n\u001b[1;32m--> 115\u001b[0m         \u001b[38;5;28;01mreturn\u001b[39;00m func(\u001b[38;5;241m*\u001b[39margs, \u001b[38;5;241m*\u001b[39m\u001b[38;5;241m*\u001b[39mkwargs)\n",
      "File \u001b[1;32m~\\AppData\\Roaming\\Python\\Python310\\site-packages\\ultralytics\\yolo\\engine\\model.py:248\u001b[0m, in \u001b[0;36mpredict\u001b[1;34m(self, source, stream, **kwargs)\u001b[0m\n",
      "File \u001b[1;32m~\\AppData\\Roaming\\Python\\Python310\\site-packages\\ultralytics\\yolo\\engine\\predictor.py:107\u001b[0m, in \u001b[0;36m__init__\u001b[1;34m(self, cfg, overrides, _callbacks)\u001b[0m\n",
      "File \u001b[1;32m~\\AppData\\Roaming\\Python\\Python310\\site-packages\\ultralytics\\yolo\\utils\\callbacks\\base.py:199\u001b[0m, in \u001b[0;36madd_integration_callbacks\u001b[1;34m(instance)\u001b[0m\n",
      "\u001b[1;31mModuleNotFoundError\u001b[0m: No module named 'ultralytics.yolo.utils.callbacks.clearml'"
     ]
    }
   ],
   "source": [
    "from ultralytics import YOLO\n",
    "\n",
    "model = YOLO('yolov8n.pt')\n",
    "\n",
    "img_path = './datasets/train/images/1_7_18-00005.jpg'\n",
    "\n",
    "re = model.predict(img_path, imgsz=640)\n",
    "\n",
    "for rr in re:\n",
    "    rr\n",
    "\n",
    "class_id = rr.names"
   ]
  },
  {
   "cell_type": "code",
   "execution_count": 20,
   "metadata": {},
   "outputs": [
    {
     "data": {
      "text/plain": [
       "{0: 'person',\n",
       " 1: 'bicycle',\n",
       " 2: 'car',\n",
       " 3: 'motorcycle',\n",
       " 4: 'airplane',\n",
       " 5: 'bus',\n",
       " 6: 'train',\n",
       " 7: 'truck',\n",
       " 8: 'boat',\n",
       " 9: 'traffic light',\n",
       " 10: 'fire hydrant',\n",
       " 11: 'stop sign',\n",
       " 12: 'parking meter',\n",
       " 13: 'bench',\n",
       " 14: 'bird',\n",
       " 15: 'cat',\n",
       " 16: 'dog',\n",
       " 17: 'horse',\n",
       " 18: 'sheep',\n",
       " 19: 'cow',\n",
       " 20: 'elephant',\n",
       " 21: 'bear',\n",
       " 22: 'zebra',\n",
       " 23: 'giraffe',\n",
       " 24: 'backpack',\n",
       " 25: 'umbrella',\n",
       " 26: 'handbag',\n",
       " 27: 'tie',\n",
       " 28: 'suitcase',\n",
       " 29: 'frisbee',\n",
       " 30: 'skis',\n",
       " 31: 'snowboard',\n",
       " 32: 'sports ball',\n",
       " 33: 'kite',\n",
       " 34: 'baseball bat',\n",
       " 35: 'baseball glove',\n",
       " 36: 'skateboard',\n",
       " 37: 'surfboard',\n",
       " 38: 'tennis racket',\n",
       " 39: 'bottle',\n",
       " 40: 'wine glass',\n",
       " 41: 'cup',\n",
       " 42: 'fork',\n",
       " 43: 'knife',\n",
       " 44: 'spoon',\n",
       " 45: 'bowl',\n",
       " 46: 'banana',\n",
       " 47: 'apple',\n",
       " 48: 'sandwich',\n",
       " 49: 'orange',\n",
       " 50: 'broccoli',\n",
       " 51: 'carrot',\n",
       " 52: 'hot dog',\n",
       " 53: 'pizza',\n",
       " 54: 'donut',\n",
       " 55: 'cake',\n",
       " 56: 'chair',\n",
       " 57: 'couch',\n",
       " 58: 'potted plant',\n",
       " 59: 'bed',\n",
       " 60: 'dining table',\n",
       " 61: 'toilet',\n",
       " 62: 'tv',\n",
       " 63: 'laptop',\n",
       " 64: 'mouse',\n",
       " 65: 'remote',\n",
       " 66: 'keyboard',\n",
       " 67: 'cell phone',\n",
       " 68: 'microwave',\n",
       " 69: 'oven',\n",
       " 70: 'toaster',\n",
       " 71: 'sink',\n",
       " 72: 'refrigerator',\n",
       " 73: 'book',\n",
       " 74: 'clock',\n",
       " 75: 'vase',\n",
       " 76: 'scissors',\n",
       " 77: 'teddy bear',\n",
       " 78: 'hair drier',\n",
       " 79: 'toothbrush'}"
      ]
     },
     "execution_count": 20,
     "metadata": {},
     "output_type": "execute_result"
    }
   ],
   "source": [
    "class_id"
   ]
  },
  {
   "cell_type": "markdown",
   "metadata": {},
   "source": [
    "### 해당 폴더 이미지 리스트 읽은 후 txt 파일 생성"
   ]
  },
  {
   "cell_type": "code",
   "execution_count": 37,
   "metadata": {},
   "outputs": [],
   "source": [
    "# 우리가 원하는 클래스 <- 클래스 지정.\n",
    "we_want = ['person', 'bicycle', 'car', 'motorcycle', 'bus', 'bus']"
   ]
  },
  {
   "cell_type": "code",
   "execution_count": 56,
   "metadata": {},
   "outputs": [
    {
     "name": "stderr",
     "output_type": "stream",
     "text": [
      "\n",
      "0: 640x640 3 persons, 3 cars, 1: 640x640 2 persons, 3 cars, 2 trucks, 2: 640x640 4 bicycles, 3 cars, 3: 640x640 1 person, 2 bicycles, 1 car, 1 bus, 1 truck, 4: 640x640 1 person, 3 bicycles, 1 car, 5: 640x640 1 person, 1 bicycle, 2 cars, 6: 640x640 2 persons, 2 cars, 7: 640x640 3 cars, 1 motorcycle, 1 bus, 8: 640x640 1 person, 1 bicycle, 6 cars, 9: 640x640 3 bicycles, 4 cars, 1 motorcycle, 10: 640x640 2 persons, 6 cars, 1 motorcycle, 11: 640x640 1 person, 6 cars, 1 motorcycle, 1 clock, 12: 640x640 1 person, 4 cars, 13: 640x640 1 person, 1 bicycle, 6 cars, 14: 640x640 2 persons, 4 cars, 15: 640x640 3 persons, 4 cars, 16: 640x640 5 persons, 4 cars, 1 traffic light, 17: 640x640 7 persons, 1 bicycle, 3 cars, 2 umbrellas, 18: 640x640 7 persons, 2 bicycles, 7 cars, 19: 640x640 2 persons, 3 cars, 1 truck, 20: 640x640 2 cars, 1 truck, 1 clock, 21: 640x640 2 persons, 3 cars, 22: 640x640 1 person, 7 cars, 23: 640x640 3 cars, 24: 640x640 4 cars, 25: 640x640 1 person, 1 bicycle, 3 cars, 1 traffic light, 26: 640x640 2 cars, 1 chair, 27: 640x640 1 person, 2 cars, 28: 640x640 1 person, 3 cars, 29: 640x640 1 person, 2 cars, 30: 640x640 2 persons, 2 cars, 1 chair, 31: 640x640 1 bicycle, 2 cars, 2 chairs, 32: 640x640 1 bicycle, 2 cars, 1 chair, 33: 640x640 2 cars, 2 chairs, 34: 640x640 1 bicycle, 2 cars, 1 chair, 35: 640x640 1 bicycle, 2 cars, 1 chair, 36: 640x640 1 person, 3 cars, 1 chair, 37: 640x640 1 person, 1 bicycle, 2 cars, 1 chair, 38: 640x640 1 person, 3 cars, 2 chairs, 39: 640x640 1 person, 2 cars, 1 chair, 40: 640x640 1 person, 2 cars, 2 chairs, 41: 640x640 1 person, 2 cars, 1 chair, 42: 640x640 3 cars, 1 chair, 43: 640x640 4 cars, 44: 640x640 6 cars, 1 bottle, 45: 640x640 2 persons, 2 cars, 2 chairs, 46: 640x640 1 person, 2 cars, 3 chairs, 47: 640x640 2 persons, 3 cars, 2 chairs, 48: 640x640 1 person, 2 cars, 1 chair, 49: 640x640 1 person, 3 cars, 50: 640x640 2 cars, 51: 640x640 2 cars, 52: 640x640 4 cars, 53: 640x640 6 cars, 54: 640x640 (no detections), 55: 640x640 (no detections), 56: 640x640 1 train, 57: 640x640 (no detections), 58: 640x640 1 train, 59: 640x640 (no detections), 60: 640x640 1 person, 1 train, 61: 640x640 1 train, 1 fire hydrant, 62: 640x640 1 car, 63: 640x640 1 person, 1 airplane, 1 train, 64: 640x640 2 persons, 4 cars, 65: 640x640 2 persons, 3 cars, 1 truck, 66: 640x640 1 person, 1 car, 1 truck, 1 traffic light, 67: 640x640 3 persons, 68: 640x640 5 persons, 2 cars, 69: 640x640 1 car, 1 truck, 70: 640x640 (no detections), 71: 640x640 (no detections), 8706.1ms\n",
      "Speed: 1.4ms preprocess, 120.9ms inference, 1.8ms postprocess per image at shape (1, 3, 640, 640)\n",
      "Results saved to \u001b[1mruns\\detect\\predict7\u001b[0m\n",
      "72 labels saved to runs\\detect\\predict7\\labels\n"
     ]
    }
   ],
   "source": [
    "import os\n",
    "from ultralytics import YOLO\n",
    "\n",
    "# 사용할 모델 지정 없으면 다운로드 받기.\n",
    "model = YOLO('yolov8n.pt')\n",
    "\n",
    "# 이미지 경로 폴더에서 파일명 받아오기\n",
    "img_dir = os.listdir('./image/')\n",
    "\n",
    "# 경로 + 파일명 리스트 만들기.\n",
    "img_path = []\n",
    "for _ in img_dir:\n",
    "    img_path.append('./image/'+_)\n",
    "\n",
    "# 경로 + 파일명 리스트 기준으로 학습진행\n",
    "re = model.predict(img_path, save=True, save_txt=True, imgsz=640)\n",
    "\n",
    "for rr in re:\n",
    "    rr\n",
    "    \n",
    "class_id = rr.names"
   ]
  },
  {
   "cell_type": "markdown",
   "metadata": {},
   "source": [
    "### 생성된 txt 파일에서 불필요한 클래스 열 제거"
   ]
  },
  {
   "cell_type": "code",
   "execution_count": 55,
   "metadata": {},
   "outputs": [
    {
     "data": {
      "text/plain": [
       "['2 0.309059 0.600073 0.154797 0.170264\\n',\n",
       " '2 0.722901 0.610318 0.179047 0.183468\\n',\n",
       " '7 0.722964 0.610291 0.179442 0.185436\\n',\n",
       " '74 0.932089 0.069335 0.0400465 0.0865325\\n']"
      ]
     },
     "execution_count": 55,
     "metadata": {},
     "output_type": "execute_result"
    }
   ],
   "source": [
    "# 테스트 파일\n",
    "with open('./runs/detect/predict6/labels/1_20_1_4.txt', 'r', encoding='utf-8') as f:\n",
    "    re_txt = f.readlines()\n",
    "\n",
    "re_txt"
   ]
  },
  {
   "cell_type": "code",
   "execution_count": 51,
   "metadata": {},
   "outputs": [
    {
     "name": "stdout",
     "output_type": "stream",
     "text": [
      "car 는 있습니다.\n",
      "car 는 있습니다.\n"
     ]
    },
    {
     "data": {
      "text/plain": [
       "['2 0.309059 0.600073 0.154797 0.170264\\n',\n",
       " '2 0.722901 0.610318 0.179047 0.183468\\n']"
      ]
     },
     "execution_count": 51,
     "metadata": {},
     "output_type": "execute_result"
    }
   ],
   "source": [
    "id = []\n",
    "now_index = 0       # 초기 인덱스\n",
    "drop_index = []     # 삭제할 인덱스 <- txt파일 정보 받아올때는 리스트로 받아와서\n",
    "for _ in re_txt:\n",
    "\n",
    "    # 여기서 class_id 받아오는게 핵심.\n",
    "    # 왜냐하면 prdict 할때마다 class_id 변수를 새롭게 받아오면 그만큼 속도 낮아짐..\n",
    "    # 그래서 해결방법은 잠시후\n",
    "    a = class_id[int(_.split(' ')[0])]\n",
    "\n",
    "    # 우리가 원하는 라벨 리스트에서 있는지 확인\n",
    "    if a in we_want:\n",
    "        print(a, '는 있습니다.')\n",
    "        now_index += 1\n",
    "    if a not in we_want:\n",
    "        print(a, '는 없습니다.')\n",
    "        drop_index.append(now_index)\n",
    "        now_index += 1\n",
    "\n",
    "# 뒤집는 이유는 기존 파일 역순으로 삭제해야 문제 발생안함.\n",
    "# 상세한 설명은 리스트.. 슬라이싱 검색하면 이해가 됨.\n",
    "drop_index.reverse()\n",
    "drop_index\n",
    "\n",
    "# 위에서 얻은 인덱스로 txt정보 삭제\n",
    "for _ in drop_index:\n",
    "    re_txt.pop(_)\n",
    "\n",
    "# 밑에 정보가 최종적으로 txt파일로 저장될 내용.\n",
    "re_txt"
   ]
  },
  {
   "cell_type": "markdown",
   "metadata": {},
   "source": [
    "### 위에서 얻은 최종 정보를 txt 파일로 저장"
   ]
  },
  {
   "cell_type": "markdown",
   "metadata": {},
   "source": [
    "### txt 파일 비교해서 파일 정보가 동일하면 동일한 이미지이므로 삭제(뒤에 파일)"
   ]
  },
  {
   "cell_type": "code",
   "execution_count": 13,
   "metadata": {},
   "outputs": [
    {
     "name": "stdout",
     "output_type": "stream",
     "text": [
      "['2 0.436166 0.579974 0.314997 0.376448\\n', '2 0.225592 0.536089 0.240491 0.277709\\n']\n"
     ]
    }
   ],
   "source": [
    "# 첫번째 프레임\n",
    "one_path = './runs/detect/predict7/labels/20210810_030206_INF_2_8.txt'\n",
    "\n",
    "with open(one_path, 'r', encoding='utf-8') as f:\n",
    "    one_txt = f.readlines()\n",
    "\n",
    "print(one_txt)"
   ]
  },
  {
   "cell_type": "code",
   "execution_count": 14,
   "metadata": {},
   "outputs": [
    {
     "data": {
      "text/plain": [
       "['2 0.436616 0.577162 0.315137 0.375767\\n',\n",
       " '2 0.222454 0.535933 0.23717 0.281109\\n']"
      ]
     },
     "execution_count": 14,
     "metadata": {},
     "output_type": "execute_result"
    }
   ],
   "source": [
    "# 두번째 프레임\n",
    "two_path = './runs/detect/predict7/labels/20210810_030206_INF_2_9.txt'\n",
    "\n",
    "with open(two_path, 'r', encoding='utf-8') as f:\n",
    "    two_txt = f.readlines()\n",
    "\n",
    "two_txt"
   ]
  },
  {
   "cell_type": "code",
   "execution_count": 20,
   "metadata": {},
   "outputs": [
    {
     "name": "stdout",
     "output_type": "stream",
     "text": [
      "이미지 동일합니다.\n",
      "이미지 삭제되었습니다.\n",
      "텍스트 삭제되었습니다.\n",
      "이미지 동일합니다.\n",
      "이미지 삭제되었습니다.\n",
      "텍스트 삭제되었습니다.\n"
     ]
    }
   ],
   "source": [
    "import math, os\n",
    "\n",
    "if len(one_txt) == len(two_txt):\n",
    "    for one, two in zip(one_txt, two_txt):\n",
    "        \n",
    "        # txt 파일 동일할 때\n",
    "        one_cl = one.split(' ')[0]\n",
    "        one_x = float(one.split(' ')[1])\n",
    "        one_y = float(one.split(' ')[2])\n",
    "        one_w = float(one.split(' ')[3])\n",
    "        one_h = float(one.split(' ')[4])\n",
    "\n",
    "        two_cl = two.split(' ')[0]\n",
    "        two_x = float(two.split(' ')[1])\n",
    "        two_y = float(two.split(' ')[2])\n",
    "        two_w = float(two.split(' ')[3])\n",
    "        two_h = float(two.split(' ')[4])\n",
    "\n",
    "        # 클래스명이 같을때\n",
    "        if one_cl == two_cl:\n",
    "\n",
    "            # # 오차율 - 실패\n",
    "            # x_acc = abs(one_x - two_x) / one_x * 100 \n",
    "            # y_acc = abs(one_y - two_y) / one_y * 100\n",
    "\n",
    "            # 소수 세번째 자리에서 버림 오차값이 0.005이내\n",
    "            # if abs(math.trunc(one_x) - math.trunc(two_x)) <= 0.005 and abs(math.trunc(one_y) - math.trunc(two_y)) <= 0.005:\n",
    "\n",
    "            # 3번째 자리에서 반올림 한다음 0.005 이내이면 동일한 이미지로 판별\n",
    "            if abs(round(one_x, 3) - round(two_x, 3)) <= 0.01 or abs(round(one_y, 3) - round(two_y, 3)) <= 0.01 \\\n",
    "                or abs(round(one_w, 3) - round(two_w, 3)) <= 0.005 or abs(round(one_h, 3) - round(two_h, 3)) <= 0.005:\n",
    "                print('이미지 동일합니다.')\n",
    "                \n",
    "                # 이미지 삭제 경로 - 출처는 위에서 txt 파일 비교할때\n",
    "                one_img = './runs/detect/predict7/'+'20210810_030206_INF_2_8' + '.jpg'\n",
    "                two_img = './runs/detect/predict7/'+'20210810_030206_INF_2_9' + '.jpg'\n",
    "                \n",
    "                # 이미지 삭제\n",
    "                print('이미지 삭제되었습니다.')\n",
    "                # os.remove(two_img)\n",
    "                # txt 파일 삭제\n",
    "                print('텍스트 삭제되었습니다.')\n",
    "                # os.remove(two_path)\n"
   ]
  },
  {
   "cell_type": "markdown",
   "metadata": {},
   "source": [
    "### 알고리즘 테스트"
   ]
  },
  {
   "cell_type": "code",
   "execution_count": 2,
   "metadata": {},
   "outputs": [],
   "source": [
    "import cv2\n",
    "\n",
    "def show_label(txt_path, img_path):\n",
    "\n",
    "    txt_path = txt_path\n",
    "    img_path = img_path\n",
    "\n",
    "    # 원본 txt 파일읽기 - 비율\n",
    "    with open(txt_path, 'r', encoding='utf-8') as f:\n",
    "        txt_org = f.readlines()\n",
    "\n",
    "    # 원본 읽고 불필요 문자 '\\n' 제거\n",
    "    txt_re = []\n",
    "    for _ in txt_org:\n",
    "        txt_re.append(_.replace('\\n', ''))\n",
    "\n",
    "    # 이미지 읽기 - 여기서 좌표 변환 후 박스 그리기\n",
    "    img = cv2.imread(img_path)\n",
    "\n",
    "    if img is None:\n",
    "        raise print('이미지 없어 경로 다시확인')\n",
    "\n",
    "    img_w, img_h, img_c = img.shape\n",
    "\n",
    "    # 박스 그리는 위치\n",
    "    for _ in txt_re:\n",
    "        class_id, x, y, w, h = _.split(' ')\n",
    "        class_id, x, y, w, h = int(class_id), float(x), float(y), float(w), float(h)\n",
    "\n",
    "        # yolo식 좌표\n",
    "        re_x, re_y, re_w, re_h = int(x * img_h), int(y * img_w), int(w * img_h), int(h * img_w)\n",
    "\n",
    "        # opencv 식 좌표\n",
    "        x1 = (int(re_x - (re_w/2)), int(re_y + (re_h/2)))\n",
    "        x2 = (int(re_x + (re_w/2)), int(re_y + (re_h/2)))\n",
    "        x3 = (int(re_x - (re_w/2)), int(re_y - (re_h/2)))\n",
    "        x4 = (int(re_x + (re_w/2)), int(re_y - (re_h/2)))\n",
    "\n",
    "        # print(x1, x4)\n",
    "\n",
    "        # 클래스 보고 색상변경\n",
    "        if class_id == 0:\n",
    "            # 빨 : 사람\n",
    "            cv2.rectangle(img=img, pt1=x1, pt2=x4, color=(0, 0, 255), thickness=3)\n",
    "\n",
    "        elif class_id == 1:\n",
    "            # 파 : 자전거\n",
    "            cv2.rectangle(img=img, pt1=x1, pt2=x4, color=(255, 0, 0), thickness=3)\n",
    "\n",
    "        elif class_id == 2:\n",
    "            # 녹 : 차\n",
    "            cv2.rectangle(img=img, pt1=x1, pt2=x4, color=(0, 255, 0), thickness=3)\n",
    "\n",
    "        elif class_id == 3:\n",
    "            # 핑크 : 오토바이\n",
    "            cv2.rectangle(img=img, pt1=x1, pt2=x4, color=(255, 0, 255), thickness=3)\n",
    "\n",
    "        elif class_id == 4:\n",
    "            # 주황 : 버스\n",
    "            cv2.rectangle(img=img, pt1=x1, pt2=x4, color=(255, 102, 0), thickness=3)\n",
    "\n",
    "        elif class_id == 5:\n",
    "            # 노랑 : 트럭\n",
    "            cv2.rectangle(img=img, pt1=x1, pt2=x4, color=(255, 0, 255), thickness=3)\n",
    "\n",
    "    # 클래스 개수 적어두기\n",
    "    cv2.putText(img=img, text=f'total : {len(txt_re)}', org=(0,50), fontFace=cv2.FONT_HERSHEY_SIMPLEX, fontScale=1.0, color=(0,0,255), thickness=3)\n",
    "\n",
    "    cv2.imshow('label', img)\n",
    "\n",
    "    key = cv2.waitKey()\n",
    "    if key == 27:\n",
    "        cv2.destroyAllWindows()"
   ]
  },
  {
   "cell_type": "code",
   "execution_count": 18,
   "metadata": {},
   "outputs": [],
   "source": [
    "txt_path = './test.txt'\n",
    "img_path = './runs/detect/predict7/20210810_030206_INF_2_8.jpg'\n",
    "\n",
    "show_label(txt_path, img_path)"
   ]
  },
  {
   "cell_type": "markdown",
   "metadata": {},
   "source": [
    "### test 중 인 코드"
   ]
  },
  {
   "cell_type": "code",
   "execution_count": null,
   "metadata": {},
   "outputs": [],
   "source": [
    "import math, os\n",
    "\n",
    "one_count = 0\n",
    "two_count = 0\n",
    "\n",
    "drop_file = []\n",
    "\n",
    "# 첫번째 프레임\n",
    "one_path = './runs/detect/predict7/labels/20210810_030206_INF_2_8.txt'\n",
    "\n",
    "with open(one_path, 'r', encoding='utf-8') as f:\n",
    "    one_txt = f.readlines()\n",
    "\n",
    "# print(one_txt)\n",
    "\n",
    "# 두번째 프레임\n",
    "two_path = './runs/detect/predict7/labels/20210810_030206_INF_2_9.txt'\n",
    "\n",
    "with open(two_path, 'r', encoding='utf-8') as f:\n",
    "    two_txt = f.readlines()\n",
    "\n",
    "# two_txt\n",
    "\n",
    "# 같을 경우는 one_count 인덱스 고정\n",
    "if len(one_txt) == len(two_txt):\n",
    "    for one, two in zip(one_txt, two_txt):\n",
    "        \n",
    "        # txt 파일 동일할 때\n",
    "        one_cl = one.split(' ')[0]\n",
    "        one_x = float(one.split(' ')[1])\n",
    "        one_y = float(one.split(' ')[2])\n",
    "\n",
    "        two_cl = two.split(' ')[0]\n",
    "        two_x = float(two.split(' ')[1])\n",
    "        two_y = float(two.split(' ')[2])\n",
    "\n",
    "        # 클래스명이 같을때\n",
    "        if one_cl == two_cl:\n",
    "\n",
    "            # # 오차율 - 실패\n",
    "            # x_acc = abs(one_x - two_x) / one_x * 100 \n",
    "            # y_acc = abs(one_y - two_y) / one_y * 100\n",
    "\n",
    "            # 소수 세번째 자리에서 버림 오차값이 0.05이내\n",
    "            if abs(math.trunc(one_x) - math.trunc(two_x)) <= 0.05 and abs(math.trunc(one_y) - math.trunc(two_y)) <= 0.05:\n",
    "                print('이미지 동일합니다.')\n",
    "                \n",
    "                # 이미지 삭제 경로 - 출처는 위에서 txt 파일 비교할때\n",
    "                one_img = './runs/detect/predict7/'+'20210810_030206_INF_2_8' + '.jpg'\n",
    "                two_img = './runs/detect/predict7/'+'20210810_030206_INF_2_9' + '.jpg'\n",
    "                \n",
    "                # 이미지 삭제\n",
    "                print('이미지 삭제되었습니다.')\n",
    "                # os.remove(two_img)\n",
    "                # txt 파일 삭제\n",
    "                print('텍스트 삭제되었습니다.')\n",
    "                # os.remove(two_path)\n",
    "                \n",
    "# 다를 경우는 one_count 인덱스 변경\n",
    "else:\n",
    "    one_count += 1\n"
   ]
  },
  {
   "cell_type": "code",
   "execution_count": null,
   "metadata": {},
   "outputs": [],
   "source": []
  },
  {
   "cell_type": "code",
   "execution_count": null,
   "metadata": {},
   "outputs": [],
   "source": []
  },
  {
   "cell_type": "code",
   "execution_count": null,
   "metadata": {},
   "outputs": [],
   "source": []
  }
 ],
 "metadata": {
  "kernelspec": {
   "display_name": "simple_study",
   "language": "python",
   "name": "python3"
  },
  "language_info": {
   "codemirror_mode": {
    "name": "ipython",
    "version": 3
   },
   "file_extension": ".py",
   "mimetype": "text/x-python",
   "name": "python",
   "nbconvert_exporter": "python",
   "pygments_lexer": "ipython3",
   "version": "3.10.13"
  }
 },
 "nbformat": 4,
 "nbformat_minor": 2
}

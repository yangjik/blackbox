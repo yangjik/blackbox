{
 "cells": [
  {
   "cell_type": "markdown",
   "metadata": {},
   "source": [
    "# 라벨데이터 파일 읽어서 opencv 이용해서 시각화\n",
    "\n",
    "01_파일 무조건 실행 해서 txt파일이랑 img 파일 동일하게 한다."
   ]
  },
  {
   "cell_type": "markdown",
   "metadata": {},
   "source": [
    "### txt 파일 읽기"
   ]
  },
  {
   "cell_type": "code",
   "execution_count": 1,
   "metadata": {},
   "outputs": [
    {
     "data": {
      "text/plain": [
       "['1_20_3-00000.txt',\n",
       " '1_20_3-00001.txt',\n",
       " '1_20_3-00002.txt',\n",
       " '1_20_3-00003.txt',\n",
       " '1_20_3-00004.txt']"
      ]
     },
     "execution_count": 1,
     "metadata": {},
     "output_type": "execute_result"
    }
   ],
   "source": [
    "import os\n",
    "\n",
    "org_txt = os.listdir('./dataset/annotations/')\n",
    "org_txt[:5]"
   ]
  },
  {
   "cell_type": "code",
   "execution_count": 2,
   "metadata": {},
   "outputs": [
    {
     "data": {
      "text/plain": [
       "['0 0.39083 0.58926 0.03446 0.14309',\n",
       " '0 0.34809 0.56693 0.02370 0.08308',\n",
       " '0 0.37054 0.56807 0.01946 0.08272',\n",
       " '1 0.33580 0.62105 0.05371 0.06717',\n",
       " '2 0.19295 0.59266 0.09213 0.15630',\n",
       " '2 0.96305 0.63286 0.07234 0.17586',\n",
       " '3 0.33555 0.61650 0.05514 0.07648',\n",
       " '4 0.19284 0.59224 0.09090 0.15671',\n",
       " '4 0.96345 0.63315 0.07088 0.17752',\n",
       " '5 0.96336 0.63354 0.07140 0.17803',\n",
       " '5 0.19274 0.59243 0.09126 0.15666']"
      ]
     },
     "execution_count": 2,
     "metadata": {},
     "output_type": "execute_result"
    }
   ],
   "source": [
    "# 파일에서 불필요한 \\n 제거\n",
    "with open('./dataset/annotations/1_20_3-00000.txt', 'r', encoding='utf-8') as f:\n",
    "    txt_org = f.readlines()\n",
    "\n",
    "txt_re = []\n",
    "for _ in txt_org:\n",
    "    txt_re.append(_.replace('\\n', ''))\n",
    "\n",
    "txt_re"
   ]
  },
  {
   "cell_type": "code",
   "execution_count": 3,
   "metadata": {},
   "outputs": [
    {
     "name": "stdout",
     "output_type": "stream",
     "text": [
      "[250, 377, 22, 91]\n"
     ]
    }
   ],
   "source": [
    "# 비율 -> 픽셀 좌표로 변환\n",
    "\n",
    "import cv2\n",
    "\n",
    "def convert_coordinates(annotation):\n",
    "\n",
    "  class_id, x1, y1, x2, y2 = annotation.split(\",\")\n",
    "  x1, y1, x2, y2 = float(x1), float(y1), float(x2), float(y2)\n",
    "\n",
    "  # Convert the coordinates to integers.\n",
    "\n",
    "  image = cv2.imread(\"./dataset/images/1_20_3-00000.jpg\")\n",
    "  if image is None:\n",
    "    raise ValueError(\"Image is not found.\")\n",
    "  x1, y1, x2, y2 = int(x1 * image.shape[1]), int(y1 * image.shape[0]), int(x2 * image.shape[1]), int(y2 * image.shape[0])\n",
    "\n",
    "  return [x1, y1, x2, y2]\n",
    "\n",
    "\n",
    "if __name__ == \"__main__\":\n",
    "  # Load the image.\n",
    "  image = cv2.imread(\"./dataset/images/1_20_3-00000.jpg\")\n",
    "\n",
    "  # Load the annotation.\n",
    "  annotation = \"0,0.39083,0.58926,0.03446,0.14309\"\n",
    "\n",
    "  # Convert the coordinates.\n",
    "  coordinates = convert_coordinates(annotation)\n",
    "\n",
    "  # Print the coordinates.\n",
    "  print(coordinates)\n"
   ]
  },
  {
   "cell_type": "code",
   "execution_count": 4,
   "metadata": {},
   "outputs": [],
   "source": [
    "import cv2, os\n",
    "\n",
    "# 파일에서 불필요한 \\n 제거\n",
    "with open('./dataset/annotations/1_20_3-00000.txt', 'r', encoding='utf-8') as f:\n",
    "    txt_org = f.readlines()\n",
    "\n",
    "txt_re = []\n",
    "for _ in txt_org:\n",
    "    txt_re.append(_.replace('\\n', ''))\n",
    "\n",
    "\n",
    "class_id, x1, y1, x2, y2 = txt_re[0].split(\" \")\n",
    "x, y, w, h = float(x1), float(y1), float(x2), float(y2)\n",
    "\n",
    "\n",
    "\n",
    "\n",
    "# image = cv2.imread(\"./dataset/images/1_20_3-00000.jpg\")\n",
    "# if image is None:\n",
    "#     raise ValueError(\"Image is not found.\")\n",
    "# x1, y1, x2, y2 = int(x1 * image.shape[1]), int(y1 * image.shape[0]), int(x2 * image.shape[1]), int(y2 * image.shape[0])\n",
    "\n",
    "# # Load the image.\n",
    "# image = cv2.imread(\"./dataset/images/1_20_3-00000.jpg\")\n",
    "\n",
    "# # Load the annotation.\n",
    "# annotation = \"0,0.39083,0.58926,0.03446,0.14309\"\n",
    "\n",
    "# # Convert the coordinates.\n",
    "# coordinates = convert_coordinates(annotation)\n",
    "\n",
    "# # Print the coordinates.\n",
    "# print(coordinates)\n"
   ]
  },
  {
   "cell_type": "code",
   "execution_count": 5,
   "metadata": {},
   "outputs": [
    {
     "data": {
      "text/plain": [
       "11"
      ]
     },
     "execution_count": 5,
     "metadata": {},
     "output_type": "execute_result"
    }
   ],
   "source": [
    "len(txt_org)"
   ]
  },
  {
   "cell_type": "code",
   "execution_count": 6,
   "metadata": {},
   "outputs": [
    {
     "name": "stdout",
     "output_type": "stream",
     "text": [
      "0 0.39083 0.58926 0.03446 0.14309\n",
      "0 0.34809 0.56693 0.02370 0.08308\n",
      "0 0.37054 0.56807 0.01946 0.08272\n",
      "1 0.33580 0.62105 0.05371 0.06717\n",
      "2 0.19295 0.59266 0.09213 0.15630\n",
      "2 0.96305 0.63286 0.07234 0.17586\n",
      "3 0.33555 0.61650 0.05514 0.07648\n",
      "4 0.19284 0.59224 0.09090 0.15671\n",
      "4 0.96345 0.63315 0.07088 0.17752\n",
      "5 0.96336 0.63354 0.07140 0.17803\n",
      "5 0.19274 0.59243 0.09126 0.15666\n"
     ]
    }
   ],
   "source": [
    "for _ in txt_re:\n",
    "    id, x, y, w, h = _.split(' ')\n",
    "    print(id, x, y, w, h)"
   ]
  },
  {
   "cell_type": "code",
   "execution_count": 7,
   "metadata": {},
   "outputs": [],
   "source": [
    "import cv2\n",
    "\n",
    "# 원본 txt 파일읽기 - 비율\n",
    "with open('./dataset/annotations/1_20_3-00000.txt', 'r', encoding='utf-8') as f:\n",
    "    txt_org = f.readlines()\n",
    "\n",
    "# 원본 읽고 불필요 문자 '\\n' 제거\n",
    "txt_re = []\n",
    "for _ in txt_org:\n",
    "    txt_re.append(_.replace('\\n', ''))\n",
    "\n",
    "# 이미지 읽기 - 여기서 좌표 변환 후 박스 그리기\n",
    "img = cv2.imread('./dataset/images/1_20_3-00000.jpg')\n",
    "\n",
    "if img is None:\n",
    "    raise print('이미지 없어 경로 다시확인')\n",
    "\n",
    "# 박스 그리는 위치\n",
    "for _ in txt_re:\n",
    "    class_id, x, y, w, h = _.split(' ')\n",
    "    class_id, x, y, w, h = int(class_id), float(x), float(y), float(w), float(h)\n",
    "\n",
    "    # yolo식 좌표\n",
    "    re_x, re_y, re_w, re_h = int(x * image.shape[1]), int(y * image.shape[0]), int(w * image.shape[1]), int(h * image.shape[0])\n",
    "\n",
    "    # opencv 식 좌표\n",
    "    x1 = (int(re_x - (re_w/2)), int(re_y + (re_h/2)))\n",
    "    x2 = (int(re_x + (re_w/2)), int(re_y + (re_h/2)))\n",
    "    x3 = (int(re_x - (re_w/2)), int(re_y - (re_h/2)))\n",
    "    x4 = (int(re_x + (re_w/2)), int(re_y - (re_h/2)))\n",
    "\n",
    "    # print(x1, x4)\n",
    "\n",
    "    # 클래스 보고 색상변경\n",
    "    if class_id == 0:\n",
    "        # 빨 : 사람\n",
    "        cv2.rectangle(img=img, pt1=x1, pt2=x4, color=(0, 0, 255), thickness=3)\n",
    "\n",
    "    elif class_id == 1:\n",
    "        # 파 : 자전거\n",
    "        cv2.rectangle(img=img, pt1=x1, pt2=x4, color=(255, 0, 0), thickness=3)\n",
    "\n",
    "    elif class_id == 2:\n",
    "        # 녹 : 차\n",
    "        cv2.rectangle(img=img, pt1=x1, pt2=x4, color=(0, 255, 0), thickness=3)\n",
    "\n",
    "    elif class_id == 3:\n",
    "        # 핑크 : 오토바이\n",
    "        cv2.rectangle(img=img, pt1=x1, pt2=x4, color=(255, 0, 255), thickness=3)\n",
    "\n",
    "    elif class_id == 4:\n",
    "        # 주황 : 버스\n",
    "        cv2.rectangle(img=img, pt1=x1, pt2=x4, color=(255, 102, 0), thickness=3)\n",
    "\n",
    "    elif class_id == 5:\n",
    "        # 노랑 : 트럭\n",
    "        cv2.rectangle(img=img, pt1=x1, pt2=x4, color=(255, 255, 0), thickness=3)\n",
    "\n",
    "cv2.imshow('label', img)\n",
    "\n",
    "key = cv2.waitKey()\n",
    "if key == 27:\n",
    "    cv2.destroyAllWindows()"
   ]
  },
  {
   "cell_type": "code",
   "execution_count": null,
   "metadata": {},
   "outputs": [],
   "source": []
  },
  {
   "cell_type": "markdown",
   "metadata": {},
   "source": [
    "# 버전-1"
   ]
  },
  {
   "cell_type": "code",
   "execution_count": 8,
   "metadata": {},
   "outputs": [],
   "source": [
    "import cv2\n",
    "\n",
    "def show_label(txt_path, img_path):\n",
    "\n",
    "    txt_path = txt_path\n",
    "    img_path = img_path\n",
    "\n",
    "    # 원본 txt 파일읽기 - 비율\n",
    "    with open(txt_path, 'r', encoding='utf-8') as f:\n",
    "        txt_org = f.readlines()\n",
    "\n",
    "    # 원본 읽고 불필요 문자 '\\n' 제거\n",
    "    txt_re = []\n",
    "    for _ in txt_org:\n",
    "        txt_re.append(_.replace('\\n', ''))\n",
    "\n",
    "    # 이미지 읽기 - 여기서 좌표 변환 후 박스 그리기\n",
    "    img = cv2.imread(img_path)\n",
    "\n",
    "    if img is None:\n",
    "        raise print('이미지 없어 경로 다시확인')\n",
    "\n",
    "    print(txt_re)\n",
    "\n",
    "    # 박스 그리는 위치\n",
    "    for _ in txt_re:\n",
    "        class_id, x, y, w, h = _.split(' ')\n",
    "        class_id, x, y, w, h = int(class_id), float(x), float(y), float(w), float(h)\n",
    "\n",
    "        # yolo식 좌표\n",
    "        re_x, re_y, re_w, re_h = int(x * image.shape[1]), int(y * image.shape[0]), int(w * image.shape[1]), int(h * image.shape[0])\n",
    "\n",
    "        # opencv 식 좌표\n",
    "        x1 = (int(re_x - (re_w/2)), int(re_y + (re_h/2)))\n",
    "        x2 = (int(re_x + (re_w/2)), int(re_y + (re_h/2)))\n",
    "        x3 = (int(re_x - (re_w/2)), int(re_y - (re_h/2)))\n",
    "        x4 = (int(re_x + (re_w/2)), int(re_y - (re_h/2)))\n",
    "\n",
    "        # print(x1, x4)\n",
    "\n",
    "        # 클래스 보고 색상변경\n",
    "        if class_id == 0:\n",
    "            # 빨 : 사람\n",
    "            cv2.rectangle(img=img, pt1=x1, pt2=x4, color=(0, 0, 255), thickness=3)\n",
    "\n",
    "        elif class_id == 1:\n",
    "            # 파 : 자전거\n",
    "            cv2.rectangle(img=img, pt1=x1, pt2=x4, color=(255, 0, 0), thickness=3)\n",
    "\n",
    "        elif class_id == 2:\n",
    "            # 녹 : 차\n",
    "            cv2.rectangle(img=img, pt1=x1, pt2=x4, color=(0, 255, 0), thickness=3)\n",
    "\n",
    "        elif class_id == 3:\n",
    "            # 핑크 : 오토바이\n",
    "            cv2.rectangle(img=img, pt1=x1, pt2=x4, color=(255, 0, 255), thickness=3)\n",
    "\n",
    "        elif class_id == 4:\n",
    "            # 주황 : 버스\n",
    "            cv2.rectangle(img=img, pt1=x1, pt2=x4, color=(255, 102, 0), thickness=3)\n",
    "\n",
    "        elif class_id == 5:\n",
    "            # 노랑 : 트럭\n",
    "            cv2.rectangle(img=img, pt1=x1, pt2=x4, color=(255, 255, 0), thickness=3)\n",
    "\n",
    "    cv2.imshow('label', img)\n",
    "\n",
    "    key = cv2.waitKey()\n",
    "    if key == 27:\n",
    "        cv2.destroyAllWindows()"
   ]
  },
  {
   "cell_type": "code",
   "execution_count": null,
   "metadata": {},
   "outputs": [],
   "source": []
  },
  {
   "cell_type": "code",
   "execution_count": 9,
   "metadata": {},
   "outputs": [
    {
     "name": "stdout",
     "output_type": "stream",
     "text": [
      "['4 0.93541 0.59610 0.12674 0.45292', '4 0.79619 0.58054 0.03151 0.05226', '5 0.93553 0.59782 0.12692 0.45626', '5 0.79619 0.58068 0.03184 0.05236']\n"
     ]
    }
   ],
   "source": [
    "txt_path = './dataset/annotations/1_20_3-00001.txt'\n",
    "img_path = './dataset/images/1_20_3-00001.jpg'\n",
    "\n",
    "show_label(txt_path, img_path)"
   ]
  },
  {
   "cell_type": "code",
   "execution_count": 10,
   "metadata": {},
   "outputs": [
    {
     "ename": "NameError",
     "evalue": "name 'CaptionOntology' is not defined",
     "output_type": "error",
     "traceback": [
      "\u001b[1;31m---------------------------------------------------------------------------\u001b[0m",
      "\u001b[1;31mNameError\u001b[0m                                 Traceback (most recent call last)",
      "Cell \u001b[1;32mIn[10], line 1\u001b[0m\n\u001b[1;32m----> 1\u001b[0m ontology\u001b[38;5;241m=\u001b[39m\u001b[43mCaptionOntology\u001b[49m({\n\u001b[0;32m      2\u001b[0m     \u001b[38;5;124m\"\u001b[39m\u001b[38;5;124mperson\u001b[39m\u001b[38;5;124m\"\u001b[39m: \u001b[38;5;124m\"\u001b[39m\u001b[38;5;124mperson\u001b[39m\u001b[38;5;124m\"\u001b[39m,\n\u001b[0;32m      3\u001b[0m     \u001b[38;5;124m\"\u001b[39m\u001b[38;5;124mbicycle\u001b[39m\u001b[38;5;124m\"\u001b[39m: \u001b[38;5;124m\"\u001b[39m\u001b[38;5;124mbicycle\u001b[39m\u001b[38;5;124m\"\u001b[39m,\n\u001b[0;32m      4\u001b[0m     \u001b[38;5;124m'\u001b[39m\u001b[38;5;124mcar\u001b[39m\u001b[38;5;124m'\u001b[39m : \u001b[38;5;124m'\u001b[39m\u001b[38;5;124mcar\u001b[39m\u001b[38;5;124m'\u001b[39m,\n\u001b[0;32m      5\u001b[0m     \u001b[38;5;124m'\u001b[39m\u001b[38;5;124mmotorcycle\u001b[39m\u001b[38;5;124m'\u001b[39m : \u001b[38;5;124m'\u001b[39m\u001b[38;5;124mmotorcycle\u001b[39m\u001b[38;5;124m'\u001b[39m,\n\u001b[0;32m      6\u001b[0m     \u001b[38;5;124m'\u001b[39m\u001b[38;5;124mbus\u001b[39m\u001b[38;5;124m'\u001b[39m : \u001b[38;5;124m'\u001b[39m\u001b[38;5;124mbus\u001b[39m\u001b[38;5;124m'\u001b[39m,\n\u001b[0;32m      7\u001b[0m     \u001b[38;5;124m'\u001b[39m\u001b[38;5;124mtruck\u001b[39m\u001b[38;5;124m'\u001b[39m : \u001b[38;5;124m'\u001b[39m\u001b[38;5;124mtruck\u001b[39m\u001b[38;5;124m'\u001b[39m\n\u001b[0;32m      8\u001b[0m })\n",
      "\u001b[1;31mNameError\u001b[0m: name 'CaptionOntology' is not defined"
     ]
    }
   ],
   "source": [
    "ontology=CaptionOntology({\n",
    "    \"person\": \"person\",\n",
    "    \"bicycle\": \"bicycle\",\n",
    "    'car' : 'car',\n",
    "    'motorcycle' : 'motorcycle',\n",
    "    'bus' : 'bus',\n",
    "    'truck' : 'truck'\n",
    "})"
   ]
  },
  {
   "cell_type": "code",
   "execution_count": null,
   "metadata": {},
   "outputs": [],
   "source": []
  }
 ],
 "metadata": {
  "kernelspec": {
   "display_name": "simple_study",
   "language": "python",
   "name": "python3"
  },
  "language_info": {
   "codemirror_mode": {
    "name": "ipython",
    "version": 3
   },
   "file_extension": ".py",
   "mimetype": "text/x-python",
   "name": "python",
   "nbconvert_exporter": "python",
   "pygments_lexer": "ipython3",
   "version": "3.10.13"
  }
 },
 "nbformat": 4,
 "nbformat_minor": 2
}

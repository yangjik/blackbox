{
 "cells": [
  {
   "cell_type": "markdown",
   "metadata": {},
   "source": [
    "# 유튜브 영상 다운로드 받기\n",
    "\n",
    "현재 설치한 패키지\n",
    "- pip install pytube3 or pip install --upgrade pytube  <-  버전 최소 11이상으로 맞춰야됨.\n",
    "- pip install -U selenium"
   ]
  },
  {
   "cell_type": "code",
   "execution_count": 32,
   "metadata": {},
   "outputs": [],
   "source": [
    "# from pytube import YouTube\n",
    "\n",
    "# # 다운로드할 영상의 URL을 지정합니다.\n",
    "# # url = 'https://www.youtube.com/watch?v=mCxHeNoDeXY'\n",
    "# url = 'https://youtube.com/watch?v=9bZkp7q19f0'\n",
    "# # 영상을 다운로드합니다.\n",
    "# video = YouTube(url).streams.first().download('./video/')"
   ]
  },
  {
   "cell_type": "code",
   "execution_count": null,
   "metadata": {},
   "outputs": [
    {
     "name": "stdout",
     "output_type": "stream",
     "text": [
      "비공개 영상입니다.\n"
     ]
    }
   ],
   "source": [
    "# from pytube import YouTube\n",
    "# import requests\n",
    "\n",
    "# # 영상 ID를 입력\n",
    "# main_url = 'https://www.youtube.com/watch?v=gBGI0G9r-yU'\n",
    "\n",
    "# video_id = main_url.split('=')[1]\n",
    "\n",
    "# # API URL을 생성\n",
    "# url = \"https://www.googleapis.com/youtube/v3/videos?part=snippet,contentDetails&id=\" + video_id\n",
    "\n",
    "# response = requests.get(url, headers={\"Authorization\": \"Bearer YOUR_API_KEY\"})\n",
    "\n",
    "# # 응답을 확인합니다.\n",
    "# if response.status_code == 200:\n",
    "#     # 영상이 공개되어 있습니다.\n",
    "#     video = YouTube(main_url).streams.first().download('./video/')\n",
    "#     print(\"공개 영상입니다.\")\n",
    "# else:\n",
    "#     # 영상이 비공개되어 있습니다.\n",
    "#     print(\"비공개 영상입니다.\")"
   ]
  },
  {
   "cell_type": "code",
   "execution_count": 6,
   "metadata": {},
   "outputs": [
    {
     "data": {
      "text/plain": [
       "'d:\\\\opencv_study\\\\./video/어! 너무 빠른데ㄷㄷ 빗길에서 속도위반한 차량의 최후💦 과속 사고 모음 50분  한블리(한문철의 블랙박스 리뷰)  JTBC 231005 방송 외.mp4'"
      ]
     },
     "execution_count": 6,
     "metadata": {},
     "output_type": "execute_result"
    }
   ],
   "source": [
    "# from pytube import YouTube\n",
    "# import requests\n",
    "# main_url = 'https://www.youtube.com/watch?v=gBGI0G9r-yU'\n",
    "\n",
    "# video = YouTube(main_url)\n",
    "# title = video.title\n",
    "# video.streams.filter(file_extension='mp4', res='720p').first().download(output_path='./video/')"
   ]
  },
  {
   "cell_type": "markdown",
   "metadata": {},
   "source": [
    "### 버전1."
   ]
  },
  {
   "cell_type": "code",
   "execution_count": 26,
   "metadata": {},
   "outputs": [],
   "source": [
    "import os\n",
    "from pytube import YouTube\n",
    "\n",
    "def youtube_download(url, save_name='video', resolution='720p', extension='mp4'):\n",
    "    url = url\n",
    "    resolution = resolution\n",
    "    extension = extension\n",
    "    save_name = save_name\n",
    "\n",
    "    video = YouTube(url)\n",
    "\n",
    "    # 혹시모르는 유튜브 정보\n",
    "    title = video.title         # 제목\n",
    "    length = video.length       # 영상 길이\n",
    "\n",
    "    # 영상 폴더 생성\n",
    "    if os.path.exists('./video/'):\n",
    "        pass\n",
    "    else:\n",
    "        os.mkdir('./video/')\n",
    "\n",
    "    # 파일명 지정 - 영상에서 동영상으로 파일 읽을 때 스티커때매 오류 발생.\n",
    "    save_file_name = save_name + '.' + extension\n",
    "    num = 0\n",
    "    while True:\n",
    "        if os.path.exists('./video/'+ save_file_name):\n",
    "            print('존재 : ', save_file_name)\n",
    "            num += 1\n",
    "            save_file_name = save_name + str(num) + '.' + extension\n",
    "        else:\n",
    "            video.streams.filter(file_extension = extension, res = resolution).first().download(filename=save_file_name, output_path = './video/')\n",
    "            print('파일 다운 : ', save_file_name)\n",
    "            break"
   ]
  },
  {
   "cell_type": "code",
   "execution_count": 25,
   "metadata": {},
   "outputs": [
    {
     "name": "stdout",
     "output_type": "stream",
     "text": [
      "존재 :  video.mp4\n",
      "존재 :  video1.mp4\n",
      "파일 다운\n"
     ]
    }
   ],
   "source": [
    "url = 'https://www.youtube.com/watch?v=i-js-voJzmU'\n",
    "\n",
    "youtube_download(url)"
   ]
  },
  {
   "cell_type": "markdown",
   "metadata": {},
   "source": [
    "### 버전2"
   ]
  },
  {
   "cell_type": "code",
   "execution_count": 1,
   "metadata": {},
   "outputs": [],
   "source": [
    "import os\n",
    "from pytube import YouTube\n",
    "\n",
    "def youtube_download(url, resolution='720p', extension='mp4'):\n",
    "    url = url\n",
    "    save_name = url.split('=')[1].replace('-', '_')\n",
    "    resolution = resolution\n",
    "    extension = extension\n",
    "\n",
    "    video = YouTube(url)\n",
    "\n",
    "    # 혹시모르는 유튜브 정보\n",
    "    title = video.title         # 제목\n",
    "    length = video.length       # 영상 길이\n",
    "\n",
    "    # 영상 폴더 생성\n",
    "    if os.path.exists('./video/'):\n",
    "        pass\n",
    "    else:\n",
    "        os.mkdir('./video/')\n",
    "\n",
    "    # 파일명 지정 - 영상에서 동영상으로 파일 읽을 때 스티커때매 오류 발생.\n",
    "    save_file_name = save_name + '.' + extension\n",
    "    num = 0\n",
    "    while True:\n",
    "        if os.path.exists('./video/'+ save_file_name):\n",
    "            print('존재 : ', save_file_name)\n",
    "            num += 1\n",
    "            save_file_name = save_name + str(num) + '.' + extension\n",
    "        else:\n",
    "            video.streams.filter(file_extension = extension, res = resolution).first().download(filename=save_file_name, output_path = './video/')\n",
    "            print('파일 다운 : ', save_file_name)\n",
    "            break"
   ]
  },
  {
   "cell_type": "code",
   "execution_count": 2,
   "metadata": {},
   "outputs": [
    {
     "name": "stdout",
     "output_type": "stream",
     "text": [
      "파일 다운 :  7ACb7kLtZtI.mp4\n"
     ]
    }
   ],
   "source": [
    "url = 'https://www.youtube.com/watch?v=7ACb7kLtZtI'\n",
    "\n",
    "youtube_download(url)"
   ]
  }
 ],
 "metadata": {
  "kernelspec": {
   "display_name": "simple_study",
   "language": "python",
   "name": "python3"
  },
  "language_info": {
   "codemirror_mode": {
    "name": "ipython",
    "version": 3
   },
   "file_extension": ".py",
   "mimetype": "text/x-python",
   "name": "python",
   "nbconvert_exporter": "python",
   "pygments_lexer": "ipython3",
   "version": "3.10.13"
  }
 },
 "nbformat": 4,
 "nbformat_minor": 2
}

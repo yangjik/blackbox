{
 "cells": [
  {
   "cell_type": "markdown",
   "metadata": {},
   "source": [
    "# 사운드 제거 후 resize 동영상 도커 업로드"
   ]
  },
  {
   "cell_type": "markdown",
   "metadata": {},
   "source": [
    "### 컨테이너 실행\n",
    "!docker run -it 사용자명/이미지명:태그 /bin/bash"
   ]
  },
  {
   "cell_type": "code",
   "execution_count": 2,
   "metadata": {},
   "outputs": [
    {
     "name": "stderr",
     "output_type": "stream",
     "text": [
      "the input device is not a TTY.  If you are using mintty, try prefixing the command with 'winpty'\n"
     ]
    }
   ],
   "source": [
    "!docker run -it yyj06/blackbox:video /bin/bash"
   ]
  },
  {
   "cell_type": "markdown",
   "metadata": {},
   "source": [
    "### 이미지 생성\n",
    "!docker build -t 사용자명/이미지명:태그 도커파일경로"
   ]
  },
  {
   "cell_type": "code",
   "execution_count": 4,
   "metadata": {},
   "outputs": [
    {
     "name": "stderr",
     "output_type": "stream",
     "text": [
      "#1 [internal] load build definition from Dockerfile\n",
      "#1 sha256:eaf31e6b8a6ca5864dbe4e670edcf0df26bc7d59379511b372a24022e9ecd639\n",
      "#1 transferring dockerfile: 122B 0.0s done\n",
      "#1 DONE 0.0s\n",
      "\n",
      "#2 [internal] load .dockerignore\n",
      "#2 sha256:7bd43a7e79b9c2250f4b9cc6ab03c505a46ba492454a552e0bfde9699d3d106b\n",
      "#2 transferring context: 2B 0.0s done\n",
      "#2 DONE 0.0s\n",
      "\n",
      "#3 [internal] load metadata for docker.io/library/ubuntu:latest\n",
      "#3 sha256:8c6bdfb121a69744f11ffa1fedfc68ec20085c2dcce567aac97a3ff72e53502d\n",
      "#3 ...\n",
      "\n",
      "#4 [auth] library/ubuntu:pull token for registry-1.docker.io\n",
      "#4 sha256:3fdd92f6295ebb8b6ddd02e6932ba05e129413affdfc85b91f7c99a095addae2\n",
      "#4 DONE 0.0s\n",
      "\n",
      "#3 [internal] load metadata for docker.io/library/ubuntu:latest\n",
      "#3 sha256:8c6bdfb121a69744f11ffa1fedfc68ec20085c2dcce567aac97a3ff72e53502d\n",
      "#3 DONE 2.3s\n",
      "\n",
      "#10 [1/5] FROM docker.io/library/ubuntu@sha256:6042500cf4b44023ea1894effe7890666b0c5c7871ed83a97c36c76ae560bb9b\n",
      "#10 sha256:79f7d2bca584af4e7b118ed44ec04540255492594a1dce27b06af2604ba3788a\n",
      "#10 DONE 0.0s\n",
      "\n",
      "#6 [internal] load build context\n",
      "#6 sha256:6ebe9ee4ba0c6277225d3381624b5a46be24ec2808e5fe91a01b2fffad860145\n",
      "#6 transferring context: 54.12MB 2.7s\n",
      "#6 transferring context: 167.14MB 7.8s\n",
      "#6 transferring context: 278.80MB 12.8s\n",
      "#6 transferring context: 392.82MB 17.8s\n",
      "#6 transferring context: 510.44MB 22.9s\n",
      "#6 transferring context: 610.43MB 27.9s\n",
      "#6 transferring context: 721.04MB 33.1s\n",
      "#6 transferring context: 833.62MB 38.1s\n",
      "#6 transferring context: 943.74MB 43.2s\n",
      "#6 transferring context: 1.04GB 48.2s\n",
      "#6 transferring context: 1.13GB 53.3s\n",
      "#6 transferring context: 1.23GB 58.3s\n",
      "#6 transferring context: 1.32GB 63.4s\n",
      "#6 transferring context: 1.43GB 68.4s\n",
      "#6 transferring context: 1.54GB 73.6s\n",
      "#6 transferring context: 1.64GB 78.6s\n",
      "#6 transferring context: 1.76GB 83.7s\n",
      "#6 transferring context: 1.87GB 88.7s\n",
      "#6 transferring context: 1.99GB 93.8s\n",
      "#6 transferring context: 2.10GB 98.9s\n",
      "#6 transferring context: 2.21GB 103.9s\n",
      "#6 transferring context: 2.33GB 109.0s\n",
      "#6 transferring context: 2.44GB 114.0s\n",
      "#6 transferring context: 2.56GB 119.0s\n",
      "#6 transferring context: 2.67GB 124.1s\n",
      "#6 transferring context: 2.79GB 129.1s\n",
      "#6 transferring context: 2.89GB 134.2s\n",
      "#6 transferring context: 3.00GB 139.3s\n",
      "#6 transferring context: 3.11GB 144.3s\n",
      "#6 transferring context: 3.23GB 149.4s\n",
      "#6 transferring context: 3.34GB 154.4s\n",
      "#6 transferring context: 3.46GB 159.5s\n",
      "#6 transferring context: 3.57GB 164.5s\n",
      "#6 transferring context: 3.69GB 169.6s\n",
      "#6 transferring context: 3.80GB 174.6s\n",
      "#6 transferring context: 3.92GB 179.7s\n",
      "#6 transferring context: 4.03GB 184.8s\n",
      "#6 transferring context: 4.15GB 189.8s\n",
      "#6 transferring context: 4.26GB 194.8s\n",
      "#6 transferring context: 4.37GB 199.9s\n",
      "#6 transferring context: 4.48GB 204.9s\n",
      "#6 transferring context: 4.59GB 210.0s\n",
      "#6 transferring context: 4.71GB 215.0s\n",
      "#6 transferring context: 4.82GB 220.1s\n",
      "#6 transferring context: 4.93GB 225.2s\n",
      "#6 transferring context: 5.05GB 230.2s\n",
      "#6 transferring context: 5.17GB 235.3s\n",
      "#6 transferring context: 5.27GB 240.3s\n",
      "#6 transferring context: 5.38GB 245.4s\n",
      "#6 transferring context: 5.49GB 250.4s\n",
      "#6 transferring context: 5.60GB 255.5s\n",
      "#6 transferring context: 5.70GB 260.5s\n",
      "#6 transferring context: 5.82GB 265.5s\n",
      "#6 transferring context: 5.93GB 270.6s\n",
      "#6 transferring context: 6.03GB 275.7s\n",
      "#6 transferring context: 6.15GB 280.8s\n",
      "#6 transferring context: 6.26GB 285.9s\n",
      "#6 transferring context: 6.36GB 291.0s\n",
      "#6 transferring context: 6.46GB 296.0s\n",
      "#6 transferring context: 6.58GB 301.2s\n",
      "#6 transferring context: 6.69GB 306.2s\n",
      "#6 transferring context: 6.80GB 311.2s\n",
      "#6 transferring context: 6.91GB 316.3s\n",
      "#6 transferring context: 7.03GB 321.3s\n",
      "#6 transferring context: 7.14GB 326.4s\n",
      "#6 transferring context: 7.25GB 331.4s\n",
      "#6 transferring context: 7.37GB 336.5s\n",
      "#6 transferring context: 7.45GB 340.3s done\n",
      "#6 DONE 340.3s\n",
      "\n",
      "#8 [3/5] RUN mkdir /img\n",
      "#8 sha256:c41443736001105ca076c658e900427f47168a4e40c809cd235ddef916ecf000\n",
      "#8 CACHED\n",
      "\n",
      "#9 [2/5] RUN mkdir /video\n",
      "#9 sha256:bc87bf9385047be6be11bc6be4383439f0b0aa37fc9ef826fad71a4b831d5b9f\n",
      "#9 CACHED\n",
      "\n",
      "#7 [4/5] RUN mkdir /sound\n",
      "#7 sha256:cbcbdb245f6cead9708f334270a6dca1d075e1b878639630bcb55c63adf6d8a1\n",
      "#7 CACHED\n",
      "\n",
      "#5 [5/5] COPY ./blackbox /video\n",
      "#5 sha256:02b55e4a67b518992670000003df4beb538b468dab56fb3c954018ebcbabcfff\n",
      "#5 DONE 49.3s\n",
      "\n",
      "#11 exporting to image\n",
      "#11 sha256:e81809a01a28e347b07c81000f4bb2dee8250f75ce5198791cb8da905f8af248\n",
      "#11 exporting layers\n",
      "#11 exporting layers 117.2s done\n",
      "#11 writing image sha256:8473144eb27acfafd652deab596c6ec45199a04723c129e54d4b909053e01bad done\n",
      "#11 naming to docker.io/yyj06/blackbox:video 0.0s done\n",
      "#11 DONE 117.3s\n"
     ]
    }
   ],
   "source": [
    "!docker build -t yyj06/blackbox:video ./"
   ]
  },
  {
   "cell_type": "markdown",
   "metadata": {},
   "source": [
    "### 도커 허브 push\n",
    "!docker build -t [이미지 이름]:[태그]"
   ]
  },
  {
   "cell_type": "code",
   "execution_count": 6,
   "metadata": {},
   "outputs": [
    {
     "name": "stdout",
     "output_type": "stream",
     "text": [
      "Authenticating with existing credentials...\n",
      "Login Succeeded\n"
     ]
    }
   ],
   "source": [
    "# 로그인 먼저 하기 - 도커허브는 항상 켜져있다는 베이스\n",
    "!docker login"
   ]
  },
  {
   "cell_type": "code",
   "execution_count": 9,
   "metadata": {},
   "outputs": [
    {
     "name": "stdout",
     "output_type": "stream",
     "text": [
      "REPOSITORY       TAG       IMAGE ID       CREATED          SIZE\n",
      "yyj06/blackbox   video     8473144eb27a   11 minutes ago   18GB\n"
     ]
    }
   ],
   "source": [
    "# 업로드 할 이미지 확인\n",
    "!docker images"
   ]
  },
  {
   "cell_type": "code",
   "execution_count": 10,
   "metadata": {},
   "outputs": [
    {
     "name": "stdout",
     "output_type": "stream",
     "text": [
      "The push refers to repository [docker.io/yyj06/blackbox]\n",
      "399f04643ae6: Preparing\n",
      "cd6cbcf6c826: Preparing\n",
      "c18f59a55720: Preparing\n",
      "a45a4b06be91: Preparing\n",
      "a1360aae5271: Preparing\n",
      "a1360aae5271: Mounted from library/ubuntu\n",
      "c18f59a55720: Pushed\n",
      "cd6cbcf6c826: Pushed\n",
      "a45a4b06be91: Pushed\n",
      "399f04643ae6: Pushed\n",
      "video: digest: sha256:81c8555137d79140297e1c8828a9ee3d3c952f01f12a7023884a129fdc1f7620 size: 1362\n"
     ]
    }
   ],
   "source": [
    "# 도커 이미지 업로드\n",
    "!docker push yyj06/blackbox:video"
   ]
  },
  {
   "cell_type": "markdown",
   "metadata": {},
   "source": [
    "### 도커 허브 업로드한 이미지 삭제\n",
    "!docker rmi [이미지 이름]:[태그]"
   ]
  },
  {
   "cell_type": "code",
   "execution_count": null,
   "metadata": {},
   "outputs": [],
   "source": [
    "# 도커 로그인\n",
    "!docker login"
   ]
  },
  {
   "cell_type": "code",
   "execution_count": null,
   "metadata": {},
   "outputs": [],
   "source": [
    "# 도커 허브 검색\n",
    "!docker search yyj06/blackbox"
   ]
  },
  {
   "cell_type": "code",
   "execution_count": null,
   "metadata": {},
   "outputs": [],
   "source": [
    "# 이미지 삭제\n",
    "!docker rmi yyj06/blackbox:video"
   ]
  },
  {
   "cell_type": "markdown",
   "metadata": {},
   "source": [
    "### 도커 허브에 있는 이미지 다운받기\n",
    "!docker pull [이미지 이름]:[태그]"
   ]
  },
  {
   "cell_type": "code",
   "execution_count": 1,
   "metadata": {},
   "outputs": [
    {
     "name": "stdout",
     "output_type": "stream",
     "text": [
      "Authenticating with existing credentials...\n",
      "Login Succeeded\n"
     ]
    }
   ],
   "source": [
    "# 도커 로그인 - 도커 허브 켜놓기\n",
    "!docker login"
   ]
  },
  {
   "cell_type": "code",
   "execution_count": null,
   "metadata": {},
   "outputs": [],
   "source": [
    "# 다운로드 할 이미지 이름과 태그 확인\n",
    "!docker search yyj06/blackbox"
   ]
  },
  {
   "cell_type": "code",
   "execution_count": 2,
   "metadata": {},
   "outputs": [
    {
     "name": "stdout",
     "output_type": "stream",
     "text": [
      "video: Pulling from yyj06/blackbox\n",
      "a48641193673: Pulling fs layer\n",
      "07b9591367bc: Pulling fs layer\n",
      "d913036f1e56: Pulling fs layer\n",
      "5089b1734fc9: Pulling fs layer\n",
      "dde559a3e1d6: Pulling fs layer\n",
      "5089b1734fc9: Waiting\n",
      "dde559a3e1d6: Waiting\n",
      "07b9591367bc: Verifying Checksum\n",
      "07b9591367bc: Download complete\n",
      "d913036f1e56: Verifying Checksum\n",
      "d913036f1e56: Download complete\n",
      "5089b1734fc9: Download complete\n",
      "a48641193673: Verifying Checksum\n",
      "a48641193673: Download complete\n",
      "a48641193673: Pull complete\n",
      "07b9591367bc: Pull complete\n",
      "d913036f1e56: Pull complete\n",
      "5089b1734fc9: Pull complete\n",
      "dde559a3e1d6: Verifying Checksum\n",
      "dde559a3e1d6: Download complete\n",
      "dde559a3e1d6: Pull complete\n",
      "Digest: sha256:81c8555137d79140297e1c8828a9ee3d3c952f01f12a7023884a129fdc1f7620\n",
      "Status: Downloaded newer image for yyj06/blackbox:video\n",
      "docker.io/yyj06/blackbox:video\n"
     ]
    },
    {
     "name": "stderr",
     "output_type": "stream",
     "text": [
      "\n",
      "What's Next?\n",
      "  View a summary of image vulnerabilities and recommendations → docker scout quickview yyj06/blackbox:video\n"
     ]
    }
   ],
   "source": [
    "# 이미지 다운받기\n",
    "!docker pull yyj06/blackbox:video"
   ]
  },
  {
   "cell_type": "markdown",
   "metadata": {},
   "source": [
    "### 도커 이미지에서 데이터 다운받기\n",
    "docker cp [컨테이너 ID]:[파일 경로] [다운로드할 위치]"
   ]
  },
  {
   "cell_type": "code",
   "execution_count": 3,
   "metadata": {},
   "outputs": [
    {
     "name": "stdout",
     "output_type": "stream",
     "text": [
      "REPOSITORY       TAG       IMAGE ID       CREATED       SIZE\n",
      "yyj06/blackbox   video     8473144eb27a   3 hours ago   18GB\n"
     ]
    }
   ],
   "source": [
    "!docker images"
   ]
  },
  {
   "cell_type": "code",
   "execution_count": 10,
   "metadata": {},
   "outputs": [],
   "source": [
    "# 도커 컨테이너 생성\n",
    "!docker run yyj06/blackbox:video"
   ]
  },
  {
   "cell_type": "code",
   "execution_count": 14,
   "metadata": {},
   "outputs": [
    {
     "name": "stdout",
     "output_type": "stream",
     "text": [
      "CONTAINER ID   IMAGE                  COMMAND       CREATED          STATUS                      PORTS     NAMES\n",
      "21ead1dccc59   yyj06/blackbox:video   \"/bin/bash\"   37 seconds ago   Exited (0) 37 seconds ago             unruffled_hamilton\n"
     ]
    }
   ],
   "source": [
    "# 컨테이너 상태 확인\n",
    "!docker container ls -a"
   ]
  },
  {
   "cell_type": "code",
   "execution_count": 17,
   "metadata": {},
   "outputs": [
    {
     "name": "stdout",
     "output_type": "stream",
     "text": [
      "bin\n",
      "boot\n",
      "dev\n",
      "etc\n",
      "home\n",
      "img\n",
      "lib\n",
      "lib32\n",
      "lib64\n",
      "libx32\n",
      "media\n",
      "mnt\n",
      "opt\n",
      "proc\n",
      "root\n",
      "run\n",
      "sbin\n",
      "sound\n",
      "srv\n",
      "sys\n",
      "tmp\n",
      "usr\n",
      "var\n",
      "video\n"
     ]
    }
   ],
   "source": [
    "# 이미지의 파일구조 확인\n",
    "# docker run [이미지이름]:[태그] ls\n",
    "!docker run yyj06/blackbox:video ls"
   ]
  },
  {
   "cell_type": "code",
   "execution_count": 19,
   "metadata": {},
   "outputs": [
    {
     "name": "stdout",
     "output_type": "stream",
     "text": [
      "^C\n"
     ]
    }
   ],
   "source": [
    "# 컨테이너를 쉘로 연결하지 않고 데이터를 다운로드\n",
    "!docker cp 21ead1dccc59:/video ./video"
   ]
  },
  {
   "cell_type": "code",
   "execution_count": null,
   "metadata": {},
   "outputs": [],
   "source": []
  }
 ],
 "metadata": {
  "kernelspec": {
   "display_name": "dockers",
   "language": "python",
   "name": "python3"
  },
  "language_info": {
   "codemirror_mode": {
    "name": "ipython",
    "version": 3
   },
   "file_extension": ".py",
   "mimetype": "text/x-python",
   "name": "python",
   "nbconvert_exporter": "python",
   "pygments_lexer": "ipython3",
   "version": "3.10.13"
  }
 },
 "nbformat": 4,
 "nbformat_minor": 2
}

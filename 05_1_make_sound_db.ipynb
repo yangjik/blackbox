{
 "cells": [
  {
   "cell_type": "markdown",
   "metadata": {},
   "source": [
    "# DB 접속"
   ]
  },
  {
   "cell_type": "code",
   "execution_count": 1,
   "metadata": {},
   "outputs": [],
   "source": [
    "import pymysql"
   ]
  },
  {
   "cell_type": "code",
   "execution_count": 2,
   "metadata": {},
   "outputs": [],
   "source": [
    "# localhost 개인 db접속\n",
    "conn = pymysql.connect(\n",
    "    host = 'localhost',\n",
    "    user = 'root',\n",
    "    password = '0000',\n",
    "    database = 'sound_db',\n",
    "    charset = 'utf8'\n",
    ")"
   ]
  },
  {
   "cell_type": "code",
   "execution_count": 3,
   "metadata": {},
   "outputs": [],
   "source": [
    "cur = conn.cursor()"
   ]
  },
  {
   "cell_type": "markdown",
   "metadata": {},
   "source": [
    "### 사용자 추가하기"
   ]
  },
  {
   "cell_type": "code",
   "execution_count": 8,
   "metadata": {},
   "outputs": [],
   "source": [
    "# 외부 접근을 허용하는 사용자\n",
    "query = \"CREATE USER IF NOT EXISTS 'han'@'%' IDENTIFIED BY '0000';\"\n",
    "\n",
    "# 커서이용해서 쿼리 실행\n",
    "cur.execute(query=query)\n",
    "\n",
    "# 서버에 현재 트랜잭션을 커밋\n",
    "conn.commit()"
   ]
  },
  {
   "cell_type": "markdown",
   "metadata": {},
   "source": [
    "### 사용자 제거"
   ]
  },
  {
   "cell_type": "code",
   "execution_count": null,
   "metadata": {},
   "outputs": [],
   "source": [
    "# query = 'DROP USER {유저이름};'\n",
    "\n",
    "# # 커서이용해서 쿼리 실행\n",
    "# cur.execute(query=query)\n",
    "\n",
    "# # 서버에 현재 트랜잭션을 커밋\n",
    "# conn.commit()"
   ]
  },
  {
   "cell_type": "markdown",
   "metadata": {},
   "source": [
    "### 사용자 권한 부여"
   ]
  },
  {
   "cell_type": "code",
   "execution_count": null,
   "metadata": {},
   "outputs": [],
   "source": [
    "# GRANT ALL PRIVILEGES ON mydb.* TO han@localhost;\n",
    "# FLUSH PRIVILEGES;"
   ]
  },
  {
   "cell_type": "code",
   "execution_count": 9,
   "metadata": {},
   "outputs": [],
   "source": [
    "# 특정 데이터베이스의 모든 테이블에 모든 권한을 줌\n",
    "query = \"GRANT ALL privileges ON *.* TO 'han'@'%';\"\n",
    "\n",
    "# 커서이용해서 쿼리 실행\n",
    "cur.execute(query=query)\n",
    "\n",
    "# 서버에 현재 트랜잭션을 커밋\n",
    "conn.commit()"
   ]
  },
  {
   "cell_type": "markdown",
   "metadata": {},
   "source": [
    "### 다른 PC에서 sound_db 접속"
   ]
  },
  {
   "cell_type": "code",
   "execution_count": 7,
   "metadata": {},
   "outputs": [],
   "source": [
    "# han 접속\n",
    "conn = pymysql.connect(\n",
    "    host = '172.31.99.50',\n",
    "    port = 3306,\n",
    "    user = 'han',\n",
    "    password = '0000',\n",
    "    database = 'sound_db',\n",
    "    charset = 'utf8'\n",
    ")"
   ]
  },
  {
   "cell_type": "markdown",
   "metadata": {},
   "source": [
    "### 테이블 생성"
   ]
  },
  {
   "cell_type": "code",
   "execution_count": 2,
   "metadata": {},
   "outputs": [],
   "source": [
    "query = \"\"\"CREATE TABLE sound_docker(\n",
    "\tid INT PRIMARY KEY AUTO_INCREMENT,\n",
    "    txt VARCHAR(200) NOT NULL,\n",
    "    object VARCHAR(15) NOT NULL,\n",
    "    sound_url VARCHAR(255),\n",
    "    writer VARCHAR(10) NOT NULL,\n",
    "    regist_day TIMESTAMP,\n",
    "    update_day TIMESTAMP\n",
    ");\n",
    "\"\"\""
   ]
  },
  {
   "cell_type": "code",
   "execution_count": null,
   "metadata": {},
   "outputs": [],
   "source": [
    "cur.execute(query=query)\n",
    "conn.commit()"
   ]
  },
  {
   "cell_type": "code",
   "execution_count": null,
   "metadata": {},
   "outputs": [],
   "source": []
  },
  {
   "cell_type": "code",
   "execution_count": null,
   "metadata": {},
   "outputs": [],
   "source": []
  },
  {
   "cell_type": "code",
   "execution_count": null,
   "metadata": {},
   "outputs": [],
   "source": []
  },
  {
   "cell_type": "code",
   "execution_count": null,
   "metadata": {},
   "outputs": [],
   "source": []
  },
  {
   "cell_type": "code",
   "execution_count": null,
   "metadata": {},
   "outputs": [],
   "source": []
  }
 ],
 "metadata": {
  "kernelspec": {
   "display_name": "simple_study",
   "language": "python",
   "name": "python3"
  },
  "language_info": {
   "codemirror_mode": {
    "name": "ipython",
    "version": 3
   },
   "file_extension": ".py",
   "mimetype": "text/x-python",
   "name": "python",
   "nbconvert_exporter": "python",
   "pygments_lexer": "ipython3",
   "version": "3.10.13"
  }
 },
 "nbformat": 4,
 "nbformat_minor": 2
}

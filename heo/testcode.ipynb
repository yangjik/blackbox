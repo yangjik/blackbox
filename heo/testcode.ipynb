{
 "cells": [
  {
   "cell_type": "code",
   "execution_count": 9,
   "metadata": {},
   "outputs": [
    {
     "name": "stdout",
     "output_type": "stream",
     "text": [
      "[[ 20 290]\n",
      " [280 470]\n",
      " [380 470]\n",
      " [620 290]]\n"
     ]
    }
   ],
   "source": [
    "from shapely.geometry import Polygon, Point\n",
    "import cv2\n",
    "import numpy as np\n",
    "def warning_zone(point, polygon):\n",
    "    \"\"\"\n",
    "    point: [x, y] 좌표 값을 가진 리스트\n",
    "    polygon: 다각형의 꼭지점 좌표를 가진 리스트\n",
    "    \"\"\"\n",
    "\n",
    "    # 점의 좌표를 사용하여 점의 객체를 만듭니다.\n",
    "    point_obj = Point(point)\n",
    "\n",
    "    # 다각형의 꼭지점 좌표를 사용하여 다각형의 경계를 구합니다.\n",
    "    polygon_path = Polygon(polygon)\n",
    "\n",
    "    # 점의 객체가 다각형의 경계 안에 있는지 확인합니다.\n",
    "    result = polygon_path.contains(point_obj)\n",
    "    print(result)\n",
    "    print('워닝존 : ', polygon)\n",
    "    return result\n",
    "\n",
    "\n",
    "\n",
    "\n",
    "\n",
    "\n",
    "# 워닝존\n",
    "# rectangle = [(12, 310), (270, 445), (383, 445), (610, 310)]\n",
    "\n",
    "rectangle = [[20, 290], [280, 470], [380, 470], [620, 290]]\n",
    "\n",
    "\n",
    "\n",
    "\n",
    "point = [((283, 421), (306, 421), (283, 322), (306, 322)),\n",
    " ((394, 469), (428, 469), (394, 299), (428, 299)),\n",
    " ((421, 448), (459, 448), (421, 284), (459, 284)),\n",
    " ((508, 350), (547, 350), (508, 307), (547, 307))]\n",
    "\n",
    "# warning_zone(point, rectangle):\n",
    "# 빈캠퍼스 생성(640 x 640)\n",
    "# img = np.full((640, 640, 3), 255, np.uint8)\n",
    "img = cv2.imread('sample.jpg')\n",
    "# 워닝존을 다각형 그리기로 그려줌\n",
    "\n",
    "# 다각형의 좌표를 순서대로 입력, 입력 순서대로 선을 그리게 된다\n",
    "pts1 = np.array(rectangle, dtype=np.int32)\n",
    "print(pts1)\n",
    "# cv2의 polylines로 다각형 그리기\n",
    "# cv2.polylines(원본그림, 좌표리스트, 마지막점과 첫점 연결 여부, 선색, 선 굵기)\n",
    "cv2.polylines(img, [pts1], True, (0, 0,255),3)\n",
    "\n",
    "cv2.rectangle(img, (283, 322), (306, 421), (255, 0, 0), thickness=None, lineType=None, shift=None)\n",
    "cv2.rectangle(img, (394, 299), (428, 469), (255, 0, 0), thickness=None, lineType=None, shift=None)\n",
    "cv2.rectangle(img, (421, 284), (459, 448), (255, 0, 0), thickness=None, lineType=None, shift=None)\n",
    "cv2.rectangle(img, (508, 307), (547, 350), (255, 0, 0), thickness=None, lineType=None, shift=None)\n",
    "\n",
    "\n",
    "\n",
    "cv2.imshow('img', img)\n",
    "cv2.waitKey()\n",
    "cv2.destroyAllWindows()\n",
    "# 4개에대해 어떤게 true,false인지 확인 (리스트 형식으로 )\n",
    "\n",
    "\n",
    "    "
   ]
  },
  {
   "cell_type": "code",
   "execution_count": null,
   "metadata": {},
   "outputs": [],
   "source": []
  }
 ],
 "metadata": {
  "kernelspec": {
   "display_name": "practice",
   "language": "python",
   "name": "python3"
  },
  "language_info": {
   "codemirror_mode": {
    "name": "ipython",
    "version": 3
   },
   "file_extension": ".py",
   "mimetype": "text/x-python",
   "name": "python",
   "nbconvert_exporter": "python",
   "pygments_lexer": "ipython3",
   "version": "3.10.0"
  }
 },
 "nbformat": 4,
 "nbformat_minor": 2
}

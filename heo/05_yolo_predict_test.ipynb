{
 "cells": [
  {
   "cell_type": "markdown",
   "metadata": {},
   "source": [
    "# GPU 사용가능한지 확인"
   ]
  },
  {
   "cell_type": "code",
   "execution_count": 1,
   "metadata": {},
   "outputs": [
    {
     "name": "stdout",
     "output_type": "stream",
     "text": [
      "True\n"
     ]
    }
   ],
   "source": [
    "import torch\n",
    "\n",
    "# GPU 사용 가능 -> True, GPU 사용 불가 -> False\n",
    "print(torch.cuda.is_available())"
   ]
  },
  {
   "cell_type": "code",
   "execution_count": 2,
   "metadata": {},
   "outputs": [
    {
     "name": "stdout",
     "output_type": "stream",
     "text": [
      "Collecting ultralytics\n",
      "  Downloading ultralytics-8.1.7-py3-none-any.whl.metadata (40 kB)\n",
      "     ---------------------------------------- 0.0/40.2 kB ? eta -:--:--\n",
      "     ---------------------------------------- 40.2/40.2 kB 1.9 MB/s eta 0:00:00\n",
      "Collecting matplotlib>=3.3.0 (from ultralytics)\n",
      "  Downloading matplotlib-3.8.2-cp310-cp310-win_amd64.whl.metadata (5.9 kB)\n",
      "Requirement already satisfied: numpy>=1.22.2 in c:\\users\\yuihj\\anaconda3\\envs\\practice\\lib\\site-packages (from ultralytics) (1.26.3)\n",
      "Requirement already satisfied: opencv-python>=4.6.0 in c:\\users\\yuihj\\anaconda3\\envs\\practice\\lib\\site-packages (from ultralytics) (4.9.0.80)\n",
      "Collecting pillow>=7.1.2 (from ultralytics)\n",
      "  Downloading pillow-10.2.0-cp310-cp310-win_amd64.whl.metadata (9.9 kB)\n",
      "Collecting pyyaml>=5.3.1 (from ultralytics)\n",
      "  Downloading PyYAML-6.0.1-cp310-cp310-win_amd64.whl.metadata (2.1 kB)\n",
      "Collecting requests>=2.23.0 (from ultralytics)\n",
      "  Downloading requests-2.31.0-py3-none-any.whl.metadata (4.6 kB)\n",
      "Requirement already satisfied: scipy>=1.4.1 in c:\\users\\yuihj\\anaconda3\\envs\\practice\\lib\\site-packages (from ultralytics) (1.12.0)\n",
      "Requirement already satisfied: torch>=1.8.0 in c:\\users\\yuihj\\anaconda3\\envs\\practice\\lib\\site-packages (from ultralytics) (2.1.2)\n",
      "Collecting torchvision>=0.9.0 (from ultralytics)\n",
      "  Downloading torchvision-0.16.2-cp310-cp310-win_amd64.whl.metadata (6.6 kB)\n",
      "Collecting tqdm>=4.64.0 (from ultralytics)\n",
      "  Downloading tqdm-4.66.1-py3-none-any.whl.metadata (57 kB)\n",
      "     ---------------------------------------- 0.0/57.6 kB ? eta -:--:--\n",
      "     ---------------------------------------- 57.6/57.6 kB 3.0 MB/s eta 0:00:00\n",
      "Requirement already satisfied: psutil in c:\\users\\yuihj\\anaconda3\\envs\\practice\\lib\\site-packages (from ultralytics) (5.9.0)\n",
      "Collecting py-cpuinfo (from ultralytics)\n",
      "  Downloading py_cpuinfo-9.0.0-py3-none-any.whl (22 kB)\n",
      "Collecting thop>=0.1.1 (from ultralytics)\n",
      "  Downloading thop-0.1.1.post2209072238-py3-none-any.whl (15 kB)\n",
      "Requirement already satisfied: pandas>=1.1.4 in c:\\users\\yuihj\\anaconda3\\envs\\practice\\lib\\site-packages (from ultralytics) (2.2.0)\n",
      "Collecting seaborn>=0.11.0 (from ultralytics)\n",
      "  Downloading seaborn-0.13.2-py3-none-any.whl.metadata (5.4 kB)\n",
      "Collecting contourpy>=1.0.1 (from matplotlib>=3.3.0->ultralytics)\n",
      "  Downloading contourpy-1.2.0-cp310-cp310-win_amd64.whl.metadata (5.8 kB)\n",
      "Collecting cycler>=0.10 (from matplotlib>=3.3.0->ultralytics)\n",
      "  Downloading cycler-0.12.1-py3-none-any.whl.metadata (3.8 kB)\n",
      "Collecting fonttools>=4.22.0 (from matplotlib>=3.3.0->ultralytics)\n",
      "  Downloading fonttools-4.47.2-cp310-cp310-win_amd64.whl.metadata (160 kB)\n",
      "     ---------------------------------------- 0.0/160.8 kB ? eta -:--:--\n",
      "     -------------------------------------- 160.8/160.8 kB 9.4 MB/s eta 0:00:00\n",
      "Collecting kiwisolver>=1.3.1 (from matplotlib>=3.3.0->ultralytics)\n",
      "  Downloading kiwisolver-1.4.5-cp310-cp310-win_amd64.whl.metadata (6.5 kB)\n",
      "Requirement already satisfied: packaging>=20.0 in c:\\users\\yuihj\\anaconda3\\envs\\practice\\lib\\site-packages (from matplotlib>=3.3.0->ultralytics) (23.2)\n",
      "Collecting pyparsing>=2.3.1 (from matplotlib>=3.3.0->ultralytics)\n",
      "  Downloading pyparsing-3.1.1-py3-none-any.whl.metadata (5.1 kB)\n",
      "Requirement already satisfied: python-dateutil>=2.7 in c:\\users\\yuihj\\anaconda3\\envs\\practice\\lib\\site-packages (from matplotlib>=3.3.0->ultralytics) (2.8.2)\n",
      "Requirement already satisfied: pytz>=2020.1 in c:\\users\\yuihj\\anaconda3\\envs\\practice\\lib\\site-packages (from pandas>=1.1.4->ultralytics) (2023.3.post1)\n",
      "Requirement already satisfied: tzdata>=2022.7 in c:\\users\\yuihj\\anaconda3\\envs\\practice\\lib\\site-packages (from pandas>=1.1.4->ultralytics) (2023.4)\n",
      "Collecting charset-normalizer<4,>=2 (from requests>=2.23.0->ultralytics)\n",
      "  Downloading charset_normalizer-3.3.2-cp310-cp310-win_amd64.whl.metadata (34 kB)\n",
      "Collecting idna<4,>=2.5 (from requests>=2.23.0->ultralytics)\n",
      "  Downloading idna-3.6-py3-none-any.whl.metadata (9.9 kB)\n",
      "Collecting urllib3<3,>=1.21.1 (from requests>=2.23.0->ultralytics)\n",
      "  Downloading urllib3-2.1.0-py3-none-any.whl.metadata (6.4 kB)\n",
      "Collecting certifi>=2017.4.17 (from requests>=2.23.0->ultralytics)\n",
      "  Downloading certifi-2023.11.17-py3-none-any.whl.metadata (2.2 kB)\n",
      "Requirement already satisfied: filelock in c:\\users\\yuihj\\anaconda3\\envs\\practice\\lib\\site-packages (from torch>=1.8.0->ultralytics) (3.13.1)\n",
      "Requirement already satisfied: typing-extensions in c:\\users\\yuihj\\anaconda3\\envs\\practice\\lib\\site-packages (from torch>=1.8.0->ultralytics) (4.9.0)\n",
      "Requirement already satisfied: sympy in c:\\users\\yuihj\\anaconda3\\envs\\practice\\lib\\site-packages (from torch>=1.8.0->ultralytics) (1.12)\n",
      "Requirement already satisfied: networkx in c:\\users\\yuihj\\anaconda3\\envs\\practice\\lib\\site-packages (from torch>=1.8.0->ultralytics) (3.2.1)\n",
      "Requirement already satisfied: jinja2 in c:\\users\\yuihj\\anaconda3\\envs\\practice\\lib\\site-packages (from torch>=1.8.0->ultralytics) (3.1.3)\n",
      "Requirement already satisfied: fsspec in c:\\users\\yuihj\\anaconda3\\envs\\practice\\lib\\site-packages (from torch>=1.8.0->ultralytics) (2023.12.2)\n",
      "Requirement already satisfied: colorama in c:\\users\\yuihj\\anaconda3\\envs\\practice\\lib\\site-packages (from tqdm>=4.64.0->ultralytics) (0.4.6)\n",
      "Requirement already satisfied: six>=1.5 in c:\\users\\yuihj\\anaconda3\\envs\\practice\\lib\\site-packages (from python-dateutil>=2.7->matplotlib>=3.3.0->ultralytics) (1.16.0)\n",
      "Requirement already satisfied: MarkupSafe>=2.0 in c:\\users\\yuihj\\anaconda3\\envs\\practice\\lib\\site-packages (from jinja2->torch>=1.8.0->ultralytics) (2.1.4)\n",
      "Requirement already satisfied: mpmath>=0.19 in c:\\users\\yuihj\\anaconda3\\envs\\practice\\lib\\site-packages (from sympy->torch>=1.8.0->ultralytics) (1.3.0)\n",
      "Downloading ultralytics-8.1.7-py3-none-any.whl (705 kB)\n",
      "   ---------------------------------------- 0.0/705.7 kB ? eta -:--:--\n",
      "   --------------------------------------  696.3/705.7 kB 22.1 MB/s eta 0:00:01\n",
      "   --------------------------------------- 705.7/705.7 kB 14.8 MB/s eta 0:00:00\n",
      "Downloading matplotlib-3.8.2-cp310-cp310-win_amd64.whl (7.6 MB)\n",
      "   ---------------------------------------- 0.0/7.6 MB ? eta -:--:--\n",
      "   ----- ---------------------------------- 1.0/7.6 MB 30.7 MB/s eta 0:00:01\n",
      "   --------- ------------------------------ 1.8/7.6 MB 22.3 MB/s eta 0:00:01\n",
      "   -------------- ------------------------- 2.7/7.6 MB 21.6 MB/s eta 0:00:01\n",
      "   ------------------ --------------------- 3.6/7.6 MB 20.8 MB/s eta 0:00:01\n",
      "   ----------------------- ---------------- 4.5/7.6 MB 20.7 MB/s eta 0:00:01\n",
      "   -------------------------- ------------- 5.0/7.6 MB 18.9 MB/s eta 0:00:01\n",
      "   ------------------------------ --------- 5.9/7.6 MB 18.9 MB/s eta 0:00:01\n",
      "   ---------------------------------- ----- 6.7/7.6 MB 18.6 MB/s eta 0:00:01\n",
      "   ---------------------------------------  7.6/7.6 MB 18.8 MB/s eta 0:00:01\n",
      "   ---------------------------------------  7.6/7.6 MB 18.8 MB/s eta 0:00:01\n",
      "   ---------------------------------------- 7.6/7.6 MB 16.9 MB/s eta 0:00:00\n",
      "Downloading pillow-10.2.0-cp310-cp310-win_amd64.whl (2.6 MB)\n",
      "   ---------------------------------------- 0.0/2.6 MB ? eta -:--:--\n",
      "   ------------- -------------------------- 0.9/2.6 MB 18.1 MB/s eta 0:00:01\n",
      "   ---------------------- ----------------- 1.5/2.6 MB 18.8 MB/s eta 0:00:01\n",
      "   -------------------------------------- - 2.5/2.6 MB 20.2 MB/s eta 0:00:01\n",
      "   ---------------------------------------- 2.6/2.6 MB 16.7 MB/s eta 0:00:00\n",
      "Downloading PyYAML-6.0.1-cp310-cp310-win_amd64.whl (145 kB)\n",
      "   ---------------------------------------- 0.0/145.3 kB ? eta -:--:--\n",
      "   ---------------------------------------- 145.3/145.3 kB 4.4 MB/s eta 0:00:00\n",
      "Downloading requests-2.31.0-py3-none-any.whl (62 kB)\n",
      "   ---------------------------------------- 0.0/62.6 kB ? eta -:--:--\n",
      "   ---------------------------------------- 62.6/62.6 kB 3.5 MB/s eta 0:00:00\n",
      "Downloading seaborn-0.13.2-py3-none-any.whl (294 kB)\n",
      "   ---------------------------------------- 0.0/294.9 kB ? eta -:--:--\n",
      "   -------------------------------------- - 286.7/294.9 kB 8.9 MB/s eta 0:00:01\n",
      "   ---------------------------------------- 294.9/294.9 kB 6.1 MB/s eta 0:00:00\n",
      "Downloading torchvision-0.16.2-cp310-cp310-win_amd64.whl (1.1 MB)\n",
      "   ---------------------------------------- 0.0/1.1 MB ? eta -:--:--\n",
      "   ------------------------- -------------- 0.7/1.1 MB 22.8 MB/s eta 0:00:01\n",
      "   ---------------------------------------  1.1/1.1 MB 17.9 MB/s eta 0:00:01\n",
      "   ---------------------------------------- 1.1/1.1 MB 12.0 MB/s eta 0:00:00\n",
      "Downloading tqdm-4.66.1-py3-none-any.whl (78 kB)\n",
      "   ---------------------------------------- 0.0/78.3 kB ? eta -:--:--\n",
      "   ---------------------------------------- 78.3/78.3 kB 4.3 MB/s eta 0:00:00\n",
      "Downloading certifi-2023.11.17-py3-none-any.whl (162 kB)\n",
      "   ---------------------------------------- 0.0/162.5 kB ? eta -:--:--\n",
      "   ---------------------------------------- 162.5/162.5 kB 9.5 MB/s eta 0:00:00\n",
      "Downloading charset_normalizer-3.3.2-cp310-cp310-win_amd64.whl (100 kB)\n",
      "   ---------------------------------------- 0.0/100.3 kB ? eta -:--:--\n",
      "   ---------------------------------------- 100.3/100.3 kB 6.0 MB/s eta 0:00:00\n",
      "Downloading contourpy-1.2.0-cp310-cp310-win_amd64.whl (186 kB)\n",
      "   ---------------------------------------- 0.0/186.7 kB ? eta -:--:--\n",
      "   --------------------------------------- 186.7/186.7 kB 11.0 MB/s eta 0:00:00\n",
      "Downloading cycler-0.12.1-py3-none-any.whl (8.3 kB)\n",
      "Downloading fonttools-4.47.2-cp310-cp310-win_amd64.whl (2.2 MB)\n",
      "   ---------------------------------------- 0.0/2.2 MB ? eta -:--:--\n",
      "   ------------------- -------------------- 1.1/2.2 MB 33.7 MB/s eta 0:00:01\n",
      "   ----------------------------------- ---- 1.9/2.2 MB 24.5 MB/s eta 0:00:01\n",
      "   ---------------------------------------- 2.2/2.2 MB 17.3 MB/s eta 0:00:00\n",
      "Downloading idna-3.6-py3-none-any.whl (61 kB)\n",
      "   ---------------------------------------- 0.0/61.6 kB ? eta -:--:--\n",
      "   ---------------------------------------- 61.6/61.6 kB 3.4 MB/s eta 0:00:00\n",
      "Downloading kiwisolver-1.4.5-cp310-cp310-win_amd64.whl (56 kB)\n",
      "   ---------------------------------------- 0.0/56.1 kB ? eta -:--:--\n",
      "   ---------------------------------------- 56.1/56.1 kB 3.1 MB/s eta 0:00:00\n",
      "Downloading pyparsing-3.1.1-py3-none-any.whl (103 kB)\n",
      "   ---------------------------------------- 0.0/103.1 kB ? eta -:--:--\n",
      "   ---------------------------------------- 103.1/103.1 kB 6.2 MB/s eta 0:00:00\n",
      "Downloading urllib3-2.1.0-py3-none-any.whl (104 kB)\n",
      "   ---------------------------------------- 0.0/104.6 kB ? eta -:--:--\n",
      "   ---------------------------------------- 104.6/104.6 kB 2.9 MB/s eta 0:00:00\n",
      "Installing collected packages: py-cpuinfo, urllib3, tqdm, pyyaml, pyparsing, pillow, kiwisolver, idna, fonttools, cycler, contourpy, charset-normalizer, certifi, requests, matplotlib, torchvision, thop, seaborn, ultralytics\n",
      "Successfully installed certifi-2023.11.17 charset-normalizer-3.3.2 contourpy-1.2.0 cycler-0.12.1 fonttools-4.47.2 idna-3.6 kiwisolver-1.4.5 matplotlib-3.8.2 pillow-10.2.0 py-cpuinfo-9.0.0 pyparsing-3.1.1 pyyaml-6.0.1 requests-2.31.0 seaborn-0.13.2 thop-0.1.1.post2209072238 torchvision-0.16.2 tqdm-4.66.1 ultralytics-8.1.7 urllib3-2.1.0\n"
     ]
    }
   ],
   "source": [
    "!pip install ultralytics"
   ]
  },
  {
   "cell_type": "markdown",
   "metadata": {},
   "source": [
    "# YOlov8n모델 예측 후 객체의 정보 얻기"
   ]
  },
  {
   "cell_type": "code",
   "execution_count": 3,
   "metadata": {},
   "outputs": [
    {
     "name": "stdout",
     "output_type": "stream",
     "text": [
      "Downloading https://github.com/ultralytics/assets/releases/download/v8.1.0/yolov8n.pt to 'yolov8n.pt'...\n"
     ]
    },
    {
     "name": "stderr",
     "output_type": "stream",
     "text": [
      "100%|██████████| 6.23M/6.23M [00:00<00:00, 15.8MB/s]\n"
     ]
    },
    {
     "name": "stdout",
     "output_type": "stream",
     "text": [
      "\n",
      "image 1/1 c:\\study\\blackbox\\sample.jpg: 640x640 3 persons, 1 car, 264.7ms\n",
      "Speed: 12.0ms preprocess, 264.7ms inference, 16.0ms postprocess per image at shape (1, 3, 640, 640)\n",
      "Results saved to \u001b[1mruns\\detect\\predict\u001b[0m\n"
     ]
    }
   ],
   "source": [
    "\n",
    "from ultralytics import YOLO\n",
    "import torch\n",
    "\n",
    "# 모델 불러오기 없으면 다운받기\n",
    "model = YOLO('yolov8n.pt')\n",
    "\n",
    "# 예측할 이미지 or 동영상\n",
    "path = './sample.jpg'\n",
    "\n",
    "# 예측 결과\n",
    "results = model.predict(path, save=True)\n",
    "\n",
    "# 객체의 데이터\n",
    "for result in results:\n",
    "    # 객체의 바운딩 박스 결과\n",
    "    boxes = result.boxes\n",
    "\n",
    "# 클래스 ID\n",
    "object_type = []\n",
    "for _ in boxes.cls:\n",
    "    object_type.append(int(_))\n",
    "\n",
    "# 객체의 좌표\n",
    "yolo_point = []\n",
    "for _ in boxes.xywh:\n",
    "    center_x = int(_[0])\n",
    "    center_y = int(_[1])\n",
    "    width = int(_[2])\n",
    "    hight = int(_[3])\n",
    "\n",
    "    yolo_point.append((center_x, center_y, width, hight))"
   ]
  },
  {
   "cell_type": "code",
   "execution_count": 4,
   "metadata": {},
   "outputs": [
    {
     "data": {
      "text/plain": [
       "'./runs/detect/predict/'"
      ]
     },
     "execution_count": 4,
     "metadata": {},
     "output_type": "execute_result"
    }
   ],
   "source": [
    "result_path = './' + result.save_dir.replace('\\\\', '/') + '/'\n",
    "result_path"
   ]
  },
  {
   "cell_type": "code",
   "execution_count": 5,
   "metadata": {},
   "outputs": [],
   "source": [
    "# Opencv 로 시각화 할때 필요한 예측 결과 이미지 or 예측 동영상\n",
    "import os\n",
    "\n",
    "img_file = os.listdir(result_path)\n",
    "show_result = result_path + img_file[0]"
   ]
  },
  {
   "cell_type": "code",
   "execution_count": 6,
   "metadata": {},
   "outputs": [
    {
     "data": {
      "text/plain": [
       "{0: 'person',\n",
       " 1: 'bicycle',\n",
       " 2: 'car',\n",
       " 3: 'motorcycle',\n",
       " 4: 'airplane',\n",
       " 5: 'bus',\n",
       " 6: 'train',\n",
       " 7: 'truck',\n",
       " 8: 'boat',\n",
       " 9: 'traffic light',\n",
       " 10: 'fire hydrant',\n",
       " 11: 'stop sign',\n",
       " 12: 'parking meter',\n",
       " 13: 'bench',\n",
       " 14: 'bird',\n",
       " 15: 'cat',\n",
       " 16: 'dog',\n",
       " 17: 'horse',\n",
       " 18: 'sheep',\n",
       " 19: 'cow',\n",
       " 20: 'elephant',\n",
       " 21: 'bear',\n",
       " 22: 'zebra',\n",
       " 23: 'giraffe',\n",
       " 24: 'backpack',\n",
       " 25: 'umbrella',\n",
       " 26: 'handbag',\n",
       " 27: 'tie',\n",
       " 28: 'suitcase',\n",
       " 29: 'frisbee',\n",
       " 30: 'skis',\n",
       " 31: 'snowboard',\n",
       " 32: 'sports ball',\n",
       " 33: 'kite',\n",
       " 34: 'baseball bat',\n",
       " 35: 'baseball glove',\n",
       " 36: 'skateboard',\n",
       " 37: 'surfboard',\n",
       " 38: 'tennis racket',\n",
       " 39: 'bottle',\n",
       " 40: 'wine glass',\n",
       " 41: 'cup',\n",
       " 42: 'fork',\n",
       " 43: 'knife',\n",
       " 44: 'spoon',\n",
       " 45: 'bowl',\n",
       " 46: 'banana',\n",
       " 47: 'apple',\n",
       " 48: 'sandwich',\n",
       " 49: 'orange',\n",
       " 50: 'broccoli',\n",
       " 51: 'carrot',\n",
       " 52: 'hot dog',\n",
       " 53: 'pizza',\n",
       " 54: 'donut',\n",
       " 55: 'cake',\n",
       " 56: 'chair',\n",
       " 57: 'couch',\n",
       " 58: 'potted plant',\n",
       " 59: 'bed',\n",
       " 60: 'dining table',\n",
       " 61: 'toilet',\n",
       " 62: 'tv',\n",
       " 63: 'laptop',\n",
       " 64: 'mouse',\n",
       " 65: 'remote',\n",
       " 66: 'keyboard',\n",
       " 67: 'cell phone',\n",
       " 68: 'microwave',\n",
       " 69: 'oven',\n",
       " 70: 'toaster',\n",
       " 71: 'sink',\n",
       " 72: 'refrigerator',\n",
       " 73: 'book',\n",
       " 74: 'clock',\n",
       " 75: 'vase',\n",
       " 76: 'scissors',\n",
       " 77: 'teddy bear',\n",
       " 78: 'hair drier',\n",
       " 79: 'toothbrush'}"
      ]
     },
     "execution_count": 6,
     "metadata": {},
     "output_type": "execute_result"
    }
   ],
   "source": [
    "# coco 데이터 구조 파악\n",
    "result.names"
   ]
  },
  {
   "cell_type": "code",
   "execution_count": 7,
   "metadata": {},
   "outputs": [
    {
     "data": {
      "text/plain": [
       "[0, 0, 0, 2]"
      ]
     },
     "execution_count": 7,
     "metadata": {},
     "output_type": "execute_result"
    }
   ],
   "source": [
    "object_type"
   ]
  },
  {
   "cell_type": "code",
   "execution_count": 8,
   "metadata": {},
   "outputs": [
    {
     "data": {
      "text/plain": [
       "(4, 4)"
      ]
     },
     "execution_count": 8,
     "metadata": {},
     "output_type": "execute_result"
    }
   ],
   "source": [
    "len(object_type), len(yolo_point)"
   ]
  },
  {
   "cell_type": "code",
   "execution_count": 7,
   "metadata": {},
   "outputs": [
    {
     "data": {
      "text/plain": [
       "[2, 2, 0, 0, 3, 0, 0, 1, 3]"
      ]
     },
     "execution_count": 7,
     "metadata": {},
     "output_type": "execute_result"
    }
   ],
   "source": [
    "object_type"
   ]
  },
  {
   "cell_type": "code",
   "execution_count": 9,
   "metadata": {},
   "outputs": [
    {
     "data": {
      "text/plain": [
       "[(295, 372, 23, 99),\n",
       " (411, 384, 34, 170),\n",
       " (440, 366, 38, 164),\n",
       " (528, 329, 39, 43)]"
      ]
     },
     "execution_count": 9,
     "metadata": {},
     "output_type": "execute_result"
    }
   ],
   "source": [
    "yolo_point"
   ]
  },
  {
   "cell_type": "markdown",
   "metadata": {},
   "source": [
    "### 이미지내 불필요한 클래스 제거"
   ]
  },
  {
   "cell_type": "code",
   "execution_count": 10,
   "metadata": {},
   "outputs": [],
   "source": [
    "# 불필요한 클래스id 인덱스 받기\n",
    "drop_index = []\n",
    "\n",
    "# 0 : 사람, 1 : 자전거, 2 : 자동차\n",
    "# 3 : 오토바이, 5 : 버스, 7 : 트럭\n",
    "for _ in range(0, len(object_type)):\n",
    "    if object_type[_] == 0 or object_type[_] == 1 or object_type[_] == 2 or object_type[_] == 3 or object_type[_] == 5 or object_type[_] == 7:\n",
    "        pass\n",
    "    else:\n",
    "        drop_index.append(_)\n",
    "\n",
    "# 불필요한 클래스 인덱스 삭제\n",
    "# 인덱스 번호를 안 뒤집을 경우 앞에서부터 삭제하므로\n",
    "# 뒤로갈수록 해당 인덱스 존재 안해서.\n",
    "drop_index.reverse()\n",
    "for _ in drop_index:\n",
    "    object_type.pop(_)\n",
    "    yolo_point.pop(_)"
   ]
  },
  {
   "cell_type": "markdown",
   "metadata": {},
   "source": [
    "### 클래스 id 정수형 -> 한글로 변환"
   ]
  },
  {
   "cell_type": "code",
   "execution_count": 11,
   "metadata": {},
   "outputs": [
    {
     "data": {
      "text/plain": [
       "['사람', '사람', '사람', '자동차']"
      ]
     },
     "execution_count": 11,
     "metadata": {},
     "output_type": "execute_result"
    }
   ],
   "source": [
    "# 클래스id -> 한글로 변환\n",
    "for _ in range(0, len(object_type)):\n",
    "    if object_type[_] == 0:\n",
    "        object_type[_] = '사람'\n",
    "\n",
    "    elif object_type[_] == 1:\n",
    "        object_type[_] = '자전거'\n",
    "\n",
    "    elif object_type[_] == 2:\n",
    "        object_type[_] = '자동차'\n",
    "\n",
    "    elif object_type[_] == 3:\n",
    "        object_type[_] = '오토바이'\n",
    "\n",
    "    elif object_type[_] == 5:\n",
    "        object_type[_] = '버스'\n",
    "\n",
    "    elif object_type[_] == 7:\n",
    "        object_type[_] = '트럭'       \n",
    "\n",
    "object_type\n"
   ]
  },
  {
   "cell_type": "markdown",
   "metadata": {},
   "source": [
    "### Yolo식 좌표는 center_x, center_y, w, h -> 바운딩박스 4개의 점 좌표로 변환"
   ]
  },
  {
   "cell_type": "code",
   "execution_count": 12,
   "metadata": {},
   "outputs": [],
   "source": [
    "# 사각형의 4개의 점 좌표 구하기.\n",
    "# x1 : 왼쪽 상단, x2 : 오른쪽 상단\n",
    "# x3 : 왼쪽 하단, x4 : 오른쪽 하단\n",
    "\n",
    "# 하나의 클래스 기준 4개의 점 좌표 저장.\n",
    "point = []\n",
    "\n",
    "for raw in yolo_point:\n",
    "    x = raw[0]\n",
    "    y = raw[1]\n",
    "    w = raw[2]\n",
    "    h = raw[3]\n",
    "    x1 = (int(x - (w/2)), int(y + (h/2)))\n",
    "    x2 = (int(x + (w/2)), int(y + (h/2)))\n",
    "    x3 = (int(x - (w/2)), int(y - (h/2)))\n",
    "    x4 = (int(x + (w/2)), int(y - (h/2)))\n",
    "\n",
    "    point.append((x1, x2, x3, x4))"
   ]
  },
  {
   "cell_type": "code",
   "execution_count": 13,
   "metadata": {},
   "outputs": [
    {
     "data": {
      "text/plain": [
       "[((283, 421), (306, 421), (283, 322), (306, 322)),\n",
       " ((394, 469), (428, 469), (394, 299), (428, 299)),\n",
       " ((421, 448), (459, 448), (421, 284), (459, 284)),\n",
       " ((508, 350), (547, 350), (508, 307), (547, 307))]"
      ]
     },
     "execution_count": 13,
     "metadata": {},
     "output_type": "execute_result"
    }
   ],
   "source": [
    "point"
   ]
  },
  {
   "cell_type": "code",
   "execution_count": 14,
   "metadata": {},
   "outputs": [
    {
     "data": {
      "text/plain": [
       "((283, 421), (306, 421), (283, 322), (306, 322))"
      ]
     },
     "execution_count": 14,
     "metadata": {},
     "output_type": "execute_result"
    }
   ],
   "source": [
    "point[0]"
   ]
  },
  {
   "cell_type": "markdown",
   "metadata": {},
   "source": [
    "### 알고리즘 구현"
   ]
  },
  {
   "cell_type": "code",
   "execution_count": 15,
   "metadata": {},
   "outputs": [],
   "source": [
    "# opencv식 워닝존 좌표\n",
    "warning_point = [(270, 310), (12, 445), (610, 445), (383, 310)]\n",
    "\n",
    "# 변환 워닝존 좌표\n",
    "warning_point = [(12, 310), (270, 445), (383, 445), (610, 310)]"
   ]
  },
  {
   "cell_type": "code",
   "execution_count": 18,
   "metadata": {},
   "outputs": [
    {
     "name": "stdout",
     "output_type": "stream",
     "text": [
      "Collecting shapely\n",
      "  Downloading shapely-2.0.2-cp310-cp310-win_amd64.whl.metadata (7.2 kB)\n",
      "Requirement already satisfied: numpy>=1.14 in c:\\users\\yuihj\\anaconda3\\envs\\practice\\lib\\site-packages (from shapely) (1.26.3)\n",
      "Downloading shapely-2.0.2-cp310-cp310-win_amd64.whl (1.4 MB)\n",
      "   ---------------------------------------- 0.0/1.4 MB ? eta -:--:--\n",
      "   ----------- ---------------------------- 0.4/1.4 MB 8.5 MB/s eta 0:00:01\n",
      "   ----------------------- ---------------- 0.8/1.4 MB 8.8 MB/s eta 0:00:01\n",
      "   ----------------------------------- ---- 1.3/1.4 MB 8.9 MB/s eta 0:00:01\n",
      "   ---------------------------------------- 1.4/1.4 MB 8.3 MB/s eta 0:00:00\n",
      "Installing collected packages: shapely\n",
      "Successfully installed shapely-2.0.2\n"
     ]
    }
   ],
   "source": [
    "!pip install shapely"
   ]
  },
  {
   "cell_type": "code",
   "execution_count": 19,
   "metadata": {},
   "outputs": [
    {
     "name": "stdout",
     "output_type": "stream",
     "text": [
      "There is 사람 in the left.\n",
      "사람 is outside the warning zone.\n",
      "사람 is outside the warning zone.\n",
      "There is 자동차 in the right.\n"
     ]
    },
    {
     "data": {
      "text/plain": [
       "[['left', '사람'], ['right', '자동차']]"
      ]
     },
     "execution_count": 19,
     "metadata": {},
     "output_type": "execute_result"
    }
   ],
   "source": [
    "# from shapely.geometry import Polygon, Point\n",
    "\n",
    "# def warning_zone(point, polygon):\n",
    "#     \"\"\"\n",
    "#     point: [x, y] 좌표 값을 가진 리스트\n",
    "#     polygon: 다각형의 꼭지점 좌표를 가진 리스트\n",
    "#     \"\"\"\n",
    "\n",
    "#     # 점의 좌표를 사용하여 점의 객체를 만듭니다.\n",
    "#     point_obj = Point(point)\n",
    "\n",
    "#     # 다각형의 꼭지점 좌표를 사용하여 다각형의 경계를 구합니다.\n",
    "#     polygon_path = Polygon(polygon)\n",
    "\n",
    "#     # 점의 객체가 다각형의 경계 안에 있는지 확인합니다.\n",
    "#     return polygon_path.contains(point_obj)\n",
    "\n",
    "# # 워닝존\n",
    "# rectangle = [(12, 310), (270, 445), (383, 445), (610, 310)]\n",
    "\n",
    "# 데이터 클래스 하나 4개의 점\n",
    "# square = point\n",
    "\n",
    "\n",
    "from shapely.geometry import Polygon, Point\n",
    "\n",
    "def warning_zone(point, polygon):\n",
    "    point_obj = Point(point)\n",
    "    polygon_path = Polygon(polygon)\n",
    "    return polygon_path.contains(point_obj) or polygon_path.touches(point_obj)\n",
    "\n",
    "# Warning zone definition\n",
    "rectangle = [(12, 310), (270, 445), (383, 445), (610, 310)]\n",
    "\n",
    "# Assuming `point` is a list of lists, each containing the points of an object\n",
    "# Assuming `object_type` is a list containing the type of each object\n",
    "# Example:\n",
    "# point = [[[x1, y1], [x2, y2], ...], ...]\n",
    "# object_type = ['type1', 'type2', ...]\n",
    "\n",
    "result_case = []\n",
    "for object_points, obj_type in zip(point, object_type):\n",
    "    object_in_zone = any(warning_zone(p, rectangle) for p in object_points)\n",
    "    \n",
    "    if object_in_zone:\n",
    "        # Determine position based on the first point of the object\n",
    "        first_point = object_points[0]\n",
    "        if first_point[0] < (rectangle[3][0] + rectangle[0][0]) / 2:\n",
    "            result_txt = 'left'\n",
    "        else:\n",
    "            result_txt = 'right'\n",
    "\n",
    "        print(f'There is {obj_type} in the {result_txt}.')\n",
    "        result_case.append([result_txt, obj_type])\n",
    "    else:\n",
    "        print(f\"{obj_type} is outside the warning zone.\")\n",
    "\n",
    "\n",
    "\n",
    "# result_case = []\n",
    "# # 좌표가 사다리꼴 안에 있는지 확인합니다.\n",
    "# for square, result_type in zip(point, object_type):\n",
    "#     for p in square:\n",
    "#         point_obj = Point(p)\n",
    "#         if warning_zone(point_obj, rectangle):\n",
    "#             # print(_, \"포함됨\")\n",
    "#             # 조건문\n",
    "#             if p[0] < int((rectangle[3][0] - rectangle[0][0]) / 2):\n",
    "#                 result_txt = '왼쪽'\n",
    "#                 print(f'{result_txt}에 {result_type}있습니다.')\n",
    "#                 result_case.append([result_txt, result_type])\n",
    "#                 break\n",
    "#             elif int((rectangle[3][0] - rectangle[0][0]) / 2) < p[0]:\n",
    "#                 result_txt = '오른쪽'\n",
    "#                 result_case.append([result_txt, result_type])\n",
    "#                 print(f'{result_txt}에 {result_type}있습니다.')\n",
    "#                 break\n",
    "#         else:\n",
    "#             pass\n",
    "#             # print(\"포함되지 않음\")\n",
    "\n",
    "result_case\n"
   ]
  },
  {
   "cell_type": "code",
   "execution_count": 20,
   "metadata": {},
   "outputs": [],
   "source": [
    "for _ in range(0, len(result_case)):\n",
    "    a = result_case[_][0]\n",
    "    ob = result_case[_][1]"
   ]
  },
  {
   "cell_type": "markdown",
   "metadata": {},
   "source": [
    "이미지 테스트"
   ]
  },
  {
   "cell_type": "code",
   "execution_count": 23,
   "metadata": {},
   "outputs": [],
   "source": [
    "import os\n",
    "import cv2\n",
    "import numpy as np\n",
    "import sys\n",
    "\n",
    "filePath  = show_result\n",
    "\n",
    "img = cv2.imread(filePath)\n",
    "\n",
    "w, h, c = img.shape\n",
    "\n",
    "mask = np.zeros((w,h,c), dtype=np.uint8)\n",
    "\n",
    "pts1 = np.array([[270, 310], [12, 445], [610, 445], [383, 310]])\n",
    "# pts1 = np.array([[12, 310], [270, 445], [383, 445], [610, 310]])\n",
    "\n",
    "desired_alpha = 90 \n",
    "alpha = desired_alpha / 255.0 \n",
    "\n",
    "# 다각형 그리기\n",
    "polyline = cv2.polylines(mask, [pts1], isClosed=True, color=(0, 0, 255), thickness=5)\n",
    "\n",
    "# 마스크 채우기\n",
    "mask1 = cv2.fillPoly(polyline, [pts1], (255,0,0))\n",
    "img = cv2.cvtColor(img, cv2.COLOR_BGR2BGRA)\n",
    "mask1 = cv2.cvtColor(mask1, cv2.COLOR_BGR2BGRA)\n",
    "result = cv2.addWeighted(img, 1, mask1, alpha, 0)\n",
    "\n",
    "# 이미지 화면 출력\n",
    "cv2.imshow('img', result)\n",
    "\n",
    "# 이미지 저장\n",
    "cv2.imwrite('./result.jpg', result)\n",
    "cv2.waitKey(0)\n",
    "cv2.destroyAllWindows()"
   ]
  },
  {
   "cell_type": "code",
   "execution_count": null,
   "metadata": {},
   "outputs": [],
   "source": []
  }
 ],
 "metadata": {
  "kernelspec": {
   "display_name": "yolo",
   "language": "python",
   "name": "python3"
  },
  "language_info": {
   "codemirror_mode": {
    "name": "ipython",
    "version": 3
   },
   "file_extension": ".py",
   "mimetype": "text/x-python",
   "name": "python",
   "nbconvert_exporter": "python",
   "pygments_lexer": "ipython3",
   "version": "3.10.0"
  }
 },
 "nbformat": 4,
 "nbformat_minor": 2
}

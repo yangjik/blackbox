{
 "cells": [
  {
   "cell_type": "code",
   "execution_count": 2,
   "metadata": {},
   "outputs": [
    {
     "name": "stdout",
     "output_type": "stream",
     "text": [
      "[(280, 290), (20, 470), (620, 470), (380, 290)]\n"
     ]
    }
   ],
   "source": [
    "# import json\n",
    "\n",
    "# # json 파일 로드\n",
    "# with open('D:/test/PT.json', 'r') as file:\n",
    "#     data = json.load(file)\n",
    "\n",
    "# # json파일에 있는 좌표값 추출\n",
    "# warning_points = []\n",
    "# for shape in data[\"shapes\"]:\n",
    "#     warning_points = shape['points']\n",
    "\n",
    "# 사각형의 4개의 점 좌표 구하기.\n",
    "# x1 : 왼쪽 상단, x2 : 왼쪽 하단\n",
    "# x3 : 오른쪽 하단, x4 : 오른쪽 상단\n",
    "\n",
    "# warning zone 좌표 변환 함수 설정\n",
    "def convert_coordinates(warning_points):\n",
    "    Transformed_warning_points = []\n",
    "    # Warning zone coordinates are rounded\n",
    "    for point in warning_points:\n",
    "        x = int(round(point[0], 0))\n",
    "        y = int(round(point[1], 0))\n",
    "        Transformed_warning_points.append((x, y))\n",
    "\n",
    "    # 각 좌표의 x와 y 값을 분리하여 별도의 변수에 할당\n",
    "    x1, y1 = Transformed_warning_points[0]\n",
    "    x2, y2 = Transformed_warning_points[1]\n",
    "    x3, y3 = Transformed_warning_points[2]\n",
    "    x4, y4 = Transformed_warning_points[3]\n",
    "\n",
    "    # y1, y4 와 y2, y3 값을 비교해서 더 큰 값으로 통일\n",
    "    max_y1_y4 = max(y1, y4)\n",
    "    max_y2_y3 = max(y2, y3)\n",
    "\n",
    "    # x1과 x2, x3와 x4의 x 좌표를 바꿈\n",
    "    Transformed_warning_points[0] = (x2, y1)\n",
    "    Transformed_warning_points[1] = (x1, y2)\n",
    "    Transformed_warning_points[2] = (x4, y3)\n",
    "    Transformed_warning_points[3] = (x3, y4)\n",
    "\n",
    "\n",
    "    Transformed_warning_points[0] = (Transformed_warning_points[0][0], max_y1_y4)    \n",
    "    Transformed_warning_points[1] = (Transformed_warning_points[1][0], max_y2_y3)\n",
    "    Transformed_warning_points[2] = (Transformed_warning_points[2][0], max_y2_y3)\n",
    "    Transformed_warning_points[3] = (Transformed_warning_points[3][0], max_y1_y4)\n",
    "\n",
    "    return Transformed_warning_points\n",
    "\n",
    "\n",
    "\n",
    "# 최종 워닝존 좌표 구하기\n",
    "warning_points = ([[20, 290], [280, 470], [380, 470], [620, 290]])\n",
    "\n",
    "result_points = convert_coordinates(warning_points)\n",
    "\n",
    "print(result_points)\n",
    "\n"
   ]
  },
  {
   "cell_type": "code",
   "execution_count": null,
   "metadata": {},
   "outputs": [],
   "source": []
  }
 ],
 "metadata": {
  "kernelspec": {
   "display_name": "practice",
   "language": "python",
   "name": "python3"
  },
  "language_info": {
   "codemirror_mode": {
    "name": "ipython",
    "version": 3
   },
   "file_extension": ".py",
   "mimetype": "text/x-python",
   "name": "python",
   "nbconvert_exporter": "python",
   "pygments_lexer": "ipython3",
   "version": "3.10.0"
  }
 },
 "nbformat": 4,
 "nbformat_minor": 2
}

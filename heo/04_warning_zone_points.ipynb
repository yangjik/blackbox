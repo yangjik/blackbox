{
 "cells": [
  {
   "cell_type": "markdown",
   "metadata": {},
   "source": []
  },
  {
   "cell_type": "markdown",
   "metadata": {},
   "source": [
    "워닝존 좌표 변환 알고리즘 구현\n",
    "\n",
    "1. labelme를 통해 얻은 warning zone 좌표값 얻기\n",
    "2. warning zone 좌표 반올림 후 정수로 변환\n",
    "3. 얻은 각 좌표의 x와 y 값을 분리하여 별도의 변수에 할당\n",
    "4. x1과 x4, x2와 x3의 x 좌표를 바꿈\n",
    "5. y1, y4 와 y2, y3 값을 비교해서 더 큰 값으로 통일"
   ]
  },
  {
   "cell_type": "code",
   "execution_count": 6,
   "metadata": {},
   "outputs": [
    {
     "name": "stdout",
     "output_type": "stream",
     "text": [
      "[(13, 310), (270, 443), (383, 443), (610, 310)]\n"
     ]
    },
    {
     "data": {
      "text/plain": [
       "{'민감': [[0, 280], [260, 480], [400, 480], [640, 280]],\n",
       " '보통': [[20, 290], [280, 470], [380, 470], [620, 290]],\n",
       " '둔한': [[40, 300], [300, 460], [360, 460], [600, 300]]}"
      ]
     },
     "execution_count": 6,
     "metadata": {},
     "output_type": "execute_result"
    }
   ],
   "source": [
    "import json\n",
    "\n",
    "# json 파일 로드\n",
    "with open('D:/test/PT.json', 'r') as file:\n",
    "    data = json.load(file)\n",
    "\n",
    "# json파일에 있는 좌표값 추출\n",
    "warning_points = []\n",
    "for shape in data[\"shapes\"]:\n",
    "    warning_points = shape['points']\n",
    "\n",
    "# 사각형의 4개의 점 좌표 구하기.\n",
    "# x1 : 왼쪽 상단, x2 : 왼쪽 하단\n",
    "# x3 : 오른쪽 하단, x4 : 오른쪽 상단\n",
    "\n",
    "# warning zone 좌표 변환 함수 설정\n",
    "def convert_coordinates(warning_points):\n",
    "    Transformed_warning_points = []\n",
    "    # Warning zone coordinates are rounded\n",
    "    for point in warning_points:\n",
    "        x = int(round(point[0], 0))\n",
    "        y = int(round(point[1], 0))\n",
    "        Transformed_warning_points.append((x, y))\n",
    "\n",
    "    # 각 좌표의 x와 y 값을 분리하여 별도의 변수에 할당\n",
    "    x1, y1 = Transformed_warning_points[0]\n",
    "    x2, y2 = Transformed_warning_points[1]\n",
    "    x3, y3 = Transformed_warning_points[2]\n",
    "    x4, y4 = Transformed_warning_points[3]\n",
    "\n",
    "    # y1, y4 와 y2, y3 값을 비교해서 더 큰 값으로 통일\n",
    "    max_y1_y4 = max(y1, y4)\n",
    "    max_y2_y3 = max(y2, y3)\n",
    "\n",
    "    # x1과 x2, x3와 x4의 x 좌표를 바꿈\n",
    "    Transformed_warning_points[0] = (x2, y1)\n",
    "    Transformed_warning_points[1] = (x1, y2)\n",
    "    Transformed_warning_points[2] = (x4, y3)\n",
    "    Transformed_warning_points[3] = (x3, y4)\n",
    "\n",
    "\n",
    "    Transformed_warning_points[0] = (Transformed_warning_points[0][0], max_y1_y4)    \n",
    "    Transformed_warning_points[1] = (Transformed_warning_points[1][0], max_y2_y3)\n",
    "    Transformed_warning_points[2] = (Transformed_warning_points[2][0], max_y2_y3)\n",
    "    Transformed_warning_points[3] = (Transformed_warning_points[3][0], max_y1_y4)\n",
    "\n",
    "    return Transformed_warning_points\n",
    "\n",
    "print(convert_coordinates(warning_points))\n",
    "\n",
    "\n",
    "# 최종 워닝존 좌표\n",
    "result_points = {\n",
    "    '민감': ([[0, 280], [260, 480], [400, 480], [640, 280]]),\n",
    "    '보통': ([[20, 290], [280, 470], [380, 470], [620, 290]]),\n",
    "    '둔한': ([[40, 300], [300, 460], [360, 460], [600, 300]])\n",
    "}\n",
    "\n",
    "result_points\n",
    "\n"
   ]
  },
  {
   "cell_type": "code",
   "execution_count": 7,
   "metadata": {},
   "outputs": [
    {
     "ename": "FileNotFoundError",
     "evalue": "[Errno 2] No such file or directory: './PT.json'",
     "output_type": "error",
     "traceback": [
      "\u001b[1;31m---------------------------------------------------------------------------\u001b[0m",
      "\u001b[1;31mFileNotFoundError\u001b[0m                         Traceback (most recent call last)",
      "Cell \u001b[1;32mIn[7], line 1\u001b[0m\n\u001b[1;32m----> 1\u001b[0m \u001b[38;5;28;01mfrom\u001b[39;00m \u001b[38;5;21;01mwarning_zone_point\u001b[39;00m \u001b[38;5;28;01mimport\u001b[39;00m result_points\n\u001b[0;32m      3\u001b[0m \u001b[38;5;28mprint\u001b[39m(result_points[\u001b[38;5;124m'\u001b[39m\u001b[38;5;124m민감\u001b[39m\u001b[38;5;124m'\u001b[39m])\n",
      "File \u001b[1;32mc:\\Users\\SBA\\Desktop\\warning_zone_point.py:4\u001b[0m\n\u001b[0;32m      1\u001b[0m \u001b[38;5;28;01mimport\u001b[39;00m \u001b[38;5;21;01mjson\u001b[39;00m\n\u001b[0;32m      3\u001b[0m \u001b[38;5;66;03m# json 파일 로드\u001b[39;00m\n\u001b[1;32m----> 4\u001b[0m \u001b[38;5;28;01mwith\u001b[39;00m \u001b[38;5;28;43mopen\u001b[39;49m\u001b[43m(\u001b[49m\u001b[38;5;124;43m'\u001b[39;49m\u001b[38;5;124;43m./PT.json\u001b[39;49m\u001b[38;5;124;43m'\u001b[39;49m\u001b[43m,\u001b[49m\u001b[43m \u001b[49m\u001b[38;5;124;43m'\u001b[39;49m\u001b[38;5;124;43mr\u001b[39;49m\u001b[38;5;124;43m'\u001b[39;49m\u001b[43m)\u001b[49m \u001b[38;5;28;01mas\u001b[39;00m file:\n\u001b[0;32m      5\u001b[0m     data \u001b[38;5;241m=\u001b[39m json\u001b[38;5;241m.\u001b[39mload(file)\n\u001b[0;32m      7\u001b[0m \u001b[38;5;66;03m# json파일에 있는 좌표값 추출\u001b[39;00m\n",
      "\u001b[1;31mFileNotFoundError\u001b[0m: [Errno 2] No such file or directory: './PT.json'"
     ]
    }
   ],
   "source": [
    "from warning_zone_point import result_points\n",
    "\n",
    "print(result_points['민감'])"
   ]
  },
  {
   "cell_type": "code",
   "execution_count": null,
   "metadata": {},
   "outputs": [],
   "source": []
  }
 ],
 "metadata": {
  "kernelspec": {
   "display_name": "blackbox",
   "language": "python",
   "name": "python3"
  },
  "language_info": {
   "codemirror_mode": {
    "name": "ipython",
    "version": 3
   },
   "file_extension": ".py",
   "mimetype": "text/x-python",
   "name": "python",
   "nbconvert_exporter": "python",
   "pygments_lexer": "ipython3",
   "version": "3.12.1"
  }
 },
 "nbformat": 4,
 "nbformat_minor": 2
}

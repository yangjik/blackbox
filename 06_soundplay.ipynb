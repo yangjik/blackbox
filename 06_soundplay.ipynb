{
 "cells": [
  {
   "cell_type": "code",
   "execution_count": 1,
   "metadata": {},
   "outputs": [],
   "source": [
    "from gtts import gTTS\n",
    "import playsound\n",
    "import pymysql\n",
    "import os"
   ]
  },
  {
   "cell_type": "code",
   "execution_count": 2,
   "metadata": {},
   "outputs": [],
   "source": [
    "# localhost 개인 db접속\n",
    "conn = pymysql.connect(\n",
    "    host = 'localhost',\n",
    "    user = 'root',\n",
    "    password = '0000',\n",
    "    database = 'sound_db',\n",
    "    charset = 'utf8'\n",
    ")\n",
    "\n",
    "cur = conn.cursor()"
   ]
  },
  {
   "cell_type": "code",
   "execution_count": 3,
   "metadata": {},
   "outputs": [],
   "source": [
    "def get_docker_data(di, ob):\n",
    "    case = f'{di} {ob} 있습니다.'\n",
    "    query = 'select docker_data from sound where txt=\\\"{}\\\";'.format(case)\n",
    "    cur.execute(query)\n",
    "    data = cur.fetchall()\n",
    "    conn.commit()\n",
    "\n",
    "    if data:\n",
    "        docker_data = data[0][0]\n",
    "        return docker_data, case\n",
    "    else:\n",
    "        return None, case"
   ]
  },
  {
   "cell_type": "code",
   "execution_count": 4,
   "metadata": {},
   "outputs": [],
   "source": [
    "def get_dieg_obeg(result_case):\n",
    "  if result_case[0] == \"왼쪽\":\n",
    "    dieg = \"left\"\n",
    "  elif result_case[0] == \"오른쪽\":\n",
    "    dieg = \"right\"\n",
    "\n",
    "  if result_case[1] == \"사람\":\n",
    "    obeg = \"person\"\n",
    "  elif result_case[1] == \"자전거\":\n",
    "    obeg = \"bicycle\"\n",
    "  elif result_case[1] == \"자동차\":\n",
    "    obeg = \"car\"\n",
    "  elif result_case[1] == \"오토바이\":\n",
    "    obeg = \"motorcycle\"\n",
    "  elif result_case[1] == \"버스\":\n",
    "    obeg = \"bus\"\n",
    "  elif result_case[1] == \"트럭\":\n",
    "    obeg = \"truck\"\n",
    "\n",
    "  return dieg, obeg"
   ]
  },
  {
   "cell_type": "code",
   "execution_count": 5,
   "metadata": {},
   "outputs": [],
   "source": [
    "def docker_download_file(docker_data, download_path, case):\n",
    "    if os.path.exists(download_path):\n",
    "        return\n",
    "    \n",
    "    # 데이터가 없으면\n",
    "    if not docker_data:\n",
    "        txt_path = case\n",
    "        tts = gTTS(text=txt_path, lang='ko')\n",
    "        tts.save(download_path)\n",
    "        \n",
    "\n",
    "    # 데이터가 있으면\n",
    "    else:\n",
    "        # 도커이미지상의 경로 지정\n",
    "        !docker run -it --rm test:test sh -c \"find /BlackboxSound -type f -name {case} -exec cp {} /tmp ; && tar -cf - /tmp | cat\" > {download_path}"
   ]
  },
  {
   "cell_type": "code",
   "execution_count": 6,
   "metadata": {},
   "outputs": [],
   "source": [
    "def download_file(dieg, obeg, docker_data, case):\n",
    "    download_path=f\"../BlackboxSound/{dieg}_{obeg}.mp3\"\n",
    "    docker_download_file(docker_data, download_path, case)\n",
    "    playsound.playsound(download_path)"
   ]
  },
  {
   "cell_type": "code",
   "execution_count": 7,
   "metadata": {},
   "outputs": [],
   "source": [
    "def play(result_case):\n",
    "    di = result_case[0]\n",
    "    ob = result_case[1]\n",
    "    dieg, obeg = get_dieg_obeg(result_case)\n",
    "    docker_data, case = get_docker_data(di, ob)\n",
    "    download_file(dieg, obeg, docker_data, case)"
   ]
  },
  {
   "cell_type": "code",
   "execution_count": 8,
   "metadata": {},
   "outputs": [],
   "source": [
    "result_case = [['오른쪽', '사람'],\n",
    "                ['오른쪽', '사람'],\n",
    "                ['오른쪽', '오토바이'],\n",
    "                ['오른쪽', '사람'],\n",
    "                ['왼쪽', '사람'],\n",
    "                ['왼쪽', '자전거'],\n",
    "                ['오른쪽', '오토바이']]\n",
    "\n",
    "for case in result_case:\n",
    "    play(case)"
   ]
  }
 ],
 "metadata": {
  "kernelspec": {
   "display_name": "project",
   "language": "python",
   "name": "python3"
  },
  "language_info": {
   "codemirror_mode": {
    "name": "ipython",
    "version": 3
   },
   "file_extension": ".py",
   "mimetype": "text/x-python",
   "name": "python",
   "nbconvert_exporter": "python",
   "pygments_lexer": "ipython3",
   "version": "3.10.0"
  }
 },
 "nbformat": 4,
 "nbformat_minor": 2
}

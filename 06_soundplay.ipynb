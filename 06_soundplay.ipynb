{
 "cells": [
  {
   "cell_type": "code",
   "execution_count": 1,
   "metadata": {},
   "outputs": [],
   "source": [
    "from gtts import gTTS\n",
    "import playsound\n",
    "import pymysql\n",
    "import os\n",
    "import subprocess"
   ]
  },
  {
   "cell_type": "code",
   "execution_count": 2,
   "metadata": {},
   "outputs": [],
   "source": [
    "# localhost 개인 db접속\n",
    "conn = pymysql.connect(\n",
    "    host = 'localhost',\n",
    "    user = 'root',\n",
    "    password = '0000',\n",
    "    database = 'sound_db',\n",
    "    charset = 'utf8'\n",
    ")\n",
    "cur = conn.cursor()"
   ]
  },
  {
   "cell_type": "code",
   "execution_count": 3,
   "metadata": {},
   "outputs": [],
   "source": [
    "# 데이터베이스에서 docker_data의 데이터 유무 확인\n",
    "def get_docker_data(di, ob):\n",
    "    case = f'{di} {ob} 있습니다.'\n",
    "    query = 'select docker_data from sound where txt=\\\"{}\\\";'.format(case)\n",
    "    cur.execute(query)\n",
    "    data = cur.fetchall()\n",
    "    if data:\n",
    "        docker_data = data[0][0]\n",
    "        return docker_data, case\n",
    "    else:\n",
    "        return None, case"
   ]
  },
  {
   "cell_type": "code",
   "execution_count": 4,
   "metadata": {},
   "outputs": [],
   "source": [
    "# result_case의 한글을 영어로 변환\n",
    "def get_dieg_obeg(result_case):\n",
    "    # 방향 정보 변환\n",
    "    if result_case[0] == \"왼쪽\":\n",
    "        dieg = \"left\"\n",
    "    elif result_case[0] == \"오른쪽\":\n",
    "        dieg = \"right\"\n",
    "\n",
    "    # 객체 정보 변환\n",
    "    if result_case[1] == \"사람\":\n",
    "        obeg = \"person\"\n",
    "    elif result_case[1] == \"자전거\":\n",
    "        obeg = \"bicycle\"\n",
    "    elif result_case[1] == \"자동차\":\n",
    "        obeg = \"car\"\n",
    "    elif result_case[1] == \"오토바이\":\n",
    "        obeg = \"motorcycle\"\n",
    "    elif result_case[1] == \"버스\":\n",
    "        obeg = \"bus\"\n",
    "    elif result_case[1] == \"트럭\":\n",
    "        obeg = \"truck\"\n",
    "\n",
    "    return dieg, obeg"
   ]
  },
  {
   "cell_type": "code",
   "execution_count": 5,
   "metadata": {},
   "outputs": [],
   "source": [
    "# sound파일 검색\n",
    "def docker_download_file(docker_data, download_path, case, dieg, obeg):\n",
    "    if os.path.exists(download_path):\n",
    "        return\n",
    "\n",
    "    # 데이터가 있으면\n",
    "    if docker_data:\n",
    "        # 컨테이너 실행\n",
    "        subprocess.run([\"docker\", \"run\", \"--name\", \"blackboxsound\", \"sangho011/blackboxsound:blackbox\"])\n",
    "        # 컨테이너에서 파일 복사\n",
    "        subprocess.run([\"docker\", \"cp\", f\"blackboxsound:/blackboxsound/{dieg}{obeg}.mp3\", \"../blackboxsound\"])\n",
    "        # 컨테이너 삭제\n",
    "        subprocess.run([\"docker\", \"rm\", \"blackboxsound\"])\n",
    "\n",
    "    # 데이터가 없으면\n",
    "    else:\n",
    "        # gTTS로 sound파일 생성\n",
    "        txt_path = case\n",
    "        tts = gTTS(text=txt_path, lang='ko')\n",
    "        tts.save(download_path)\n",
    "        # 생성된 데이터의 docker_data정보 갱신\n",
    "        query = 'UPDATE sound SET docker_data = \\'O\\', writer = \\'han\\', update_day = now() WHERE txt =\\\"{}\\\";'.format(case)\n",
    "        cur.execute(query)\n",
    "        conn.commit()"
   ]
  },
  {
   "cell_type": "code",
   "execution_count": 6,
   "metadata": {},
   "outputs": [],
   "source": [
    "# 파일 다운로드 및 sound파일 재생\n",
    "def download_file(dieg, obeg, docker_data, case):\n",
    "    download_path=f\"../blackboxsound/{dieg}{obeg}.mp3\"\n",
    "    docker_download_file(docker_data, download_path, case, dieg, obeg)\n",
    "    playsound.playsound(download_path)"
   ]
  },
  {
   "cell_type": "code",
   "execution_count": 7,
   "metadata": {},
   "outputs": [],
   "source": [
    "def play(result_case):\n",
    "    di = result_case[0]\n",
    "    ob = result_case[1]\n",
    "    dieg, obeg = get_dieg_obeg(result_case)\n",
    "    docker_data, case = get_docker_data(di, ob)\n",
    "    download_file(dieg, obeg, docker_data, case)"
   ]
  },
  {
   "cell_type": "code",
   "execution_count": 8,
   "metadata": {},
   "outputs": [],
   "source": [
    "result_case = [['오른쪽', '사람'],\n",
    "                ['오른쪽', '사람'],\n",
    "                ['오른쪽', '오토바이'],\n",
    "                ['오른쪽', '사람'],\n",
    "                ['왼쪽', '사람'],\n",
    "                ['왼쪽', '자전거'],\n",
    "                ['오른쪽', '오토바이']]\n",
    "\n",
    "for case in result_case:\n",
    "    play(case)"
   ]
  },
  {
   "cell_type": "code",
   "execution_count": 9,
   "metadata": {},
   "outputs": [],
   "source": [
    "play(['오른쪽', '사람'])"
   ]
  },
  {
   "cell_type": "code",
   "execution_count": null,
   "metadata": {},
   "outputs": [],
   "source": []
  }
 ],
 "metadata": {
  "kernelspec": {
   "display_name": "project",
   "language": "python",
   "name": "python3"
  },
  "language_info": {
   "codemirror_mode": {
    "name": "ipython",
    "version": 3
   },
   "file_extension": ".py",
   "mimetype": "text/x-python",
   "name": "python",
   "nbconvert_exporter": "python",
   "pygments_lexer": "ipython3",
   "version": "3.10.0"
  }
 },
 "nbformat": 4,
 "nbformat_minor": 2
}

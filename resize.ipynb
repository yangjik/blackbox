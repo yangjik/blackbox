{
 "cells": [
  {
   "cell_type": "code",
   "execution_count": 3,
   "metadata": {},
   "outputs": [
    {
     "name": "stdout",
     "output_type": "stream",
     "text": [
      "모든 JPG 파일 리사이징 완료!\n"
     ]
    }
   ],
   "source": [
    "from PIL import Image\n",
    "import os\n",
    "\n",
    "# 리사이징할 JPG 파일이 있는 경로\n",
    "image_dir = \"D:/test\"\n",
    "\n",
    "# 리사이징된 이미지 저장 경로\n",
    "output_dir = \"D:/output\"\n",
    "\n",
    "# 640x640 크기로 리사이징 함수\n",
    "def resize_image(filename):\n",
    "    # 이미지 불러오기\n",
    "    original_image = Image.open(filename)\n",
    "\n",
    "    # 가로 세로 비율 유지하면서 640x640 크기로 리사이징\n",
    "    new_size = (640, 640)\n",
    "    resized_image = original_image.resize(new_size)\n",
    "\n",
    "    # 리사이징된 이미지 저장\n",
    "    output_filename = os.path.join(output_dir, os.path.basename(filename))\n",
    "    resized_image.save(output_filename)\n",
    "\n",
    "# 경로 내 모든 JPG 파일 리사이징\n",
    "for filename in os.listdir(image_dir):\n",
    "    if filename.endswith(\".jpg\"):\n",
    "        resize_image(os.path.join(image_dir, filename))\n",
    "\n",
    "print(\"모든 JPG 파일 리사이징 완료!\")\n"
   ]
  },
  {
   "cell_type": "code",
   "execution_count": null,
   "metadata": {},
   "outputs": [],
   "source": []
  }
 ],
 "metadata": {
  "kernelspec": {
   "display_name": "project",
   "language": "python",
   "name": "python3"
  },
  "language_info": {
   "codemirror_mode": {
    "name": "ipython",
    "version": 3
   },
   "file_extension": ".py",
   "mimetype": "text/x-python",
   "name": "python",
   "nbconvert_exporter": "python",
   "pygments_lexer": "ipython3",
   "version": "3.10.0"
  }
 },
 "nbformat": 4,
 "nbformat_minor": 2
}

{
 "cells": [
  {
   "cell_type": "code",
   "execution_count": 2,
   "metadata": {},
   "outputs": [],
   "source": [
    "import os\n",
    "# from video_frame_img_save import frame_img_save\n",
    "import cv2, sys\n",
    "import numpy as np"
   ]
  },
  {
   "cell_type": "code",
   "execution_count": 3,
   "metadata": {},
   "outputs": [],
   "source": [
    "img_path = './test12.jpg'"
   ]
  },
  {
   "cell_type": "code",
   "execution_count": 20,
   "metadata": {},
   "outputs": [
    {
     "name": "stdout",
     "output_type": "stream",
     "text": [
      "왼쪽 눌렀을 때 좌표 :  813 541\n",
      "왼쪽 눌렀을 때 좌표 :  556 787\n",
      "[(813, 541), (556, 787), (556, 787), (556, 787)]\n"
     ]
    }
   ],
   "source": [
    "point = []\n",
    "def on_mouse(event, x, y, flags, param):\n",
    "    try:\n",
    "        if event == cv2.EVENT_LBUTTONDOWN:\n",
    "            print('왼쪽 눌렀을 때 좌표 : ', x, y)\n",
    "            \n",
    "            \n",
    "        elif len(point) > 4:\n",
    "            cv2.setMouseCallback('aaa', None)\n",
    "            cv2.destroyAllWindows()\n",
    "    except:\n",
    "        cv2.destroyAllWindows()\n",
    "\n",
    "img = cv2.imread(img_path)\n",
    "\n",
    "cv2.imshow('aaa', img)\n",
    "cv2.setMouseCallback('aaa', on_mouse)\n",
    "cv2.waitKey(0)\n",
    "print(point)\n",
    "cv2.destroyAllWindows()"
   ]
  },
  {
   "cell_type": "code",
   "execution_count": null,
   "metadata": {},
   "outputs": [],
   "source": []
  },
  {
   "cell_type": "code",
   "execution_count": null,
   "metadata": {},
   "outputs": [],
   "source": []
  },
  {
   "cell_type": "markdown",
   "metadata": {},
   "source": [
    "### 마스크 파일 만들기\n",
    "- 현재 구현\n",
    "    - 왼쪽 누르면 좌표값 받아서 warning zone 1 선그리기\n",
    "    - 오른쪽 누르면 좌표값 받아서 warning zone 2 선그리기\n",
    "\n",
    "- 나중에 수정할 계획\n",
    "    - 왼쪽 마우스 == 워닝존1 좌표 얻은것들을\n",
    "    - 오른쪽 마우스 == 워닝존2 좌표 얻은것들을\n",
    "    - 다른키 ex) 마우스 다른키를 이용해서 조건문을 통해서 polylines 로 그리기. -> 이유는 워닝존 박스 만들기위해\n"
   ]
  },
  {
   "cell_type": "code",
   "execution_count": 22,
   "metadata": {},
   "outputs": [
    {
     "name": "stdout",
     "output_type": "stream",
     "text": [
      "왼쪽 눌렀을 때 좌표 :  780 364\n",
      "왼쪽 클릭 후 좌표 :  446 970\n",
      "왼쪽 눌렀을 때 좌표 :  1167 307\n",
      "왼쪽 클릭 후 좌표 :  1178 328\n",
      "왼쪽 눌렀을 때 좌표 :  1232 384\n",
      "왼쪽 클릭 후 좌표 :  1622 979\n",
      "오른쪽 눌렀을 때 좌표 :  1223 525\n",
      "오른쪽 클릭 후 좌표 :  541 556\n",
      "오른쪽 눌렀을 때 좌표 :  1223 803\n",
      "오른쪽 클릭 후 좌표 :  415 829\n"
     ]
    }
   ],
   "source": [
    "def on_mouse(event, x, y, flags, param):\n",
    "    if event == cv2.EVENT_LBUTTONDOWN:\n",
    "        print('왼쪽 눌렀을 때 좌표 : ', x, y)\n",
    "        zone_one.append((x, y))\n",
    "\n",
    "    elif event == cv2.EVENT_LBUTTONUP:\n",
    "        print('왼쪽 클릭 후 좌표 : ', x, y)\n",
    "        zone_one.append((x, y))\n",
    "        cv2.line(mask, zone_one[0], zone_one[1], (0, 0 ,255), 3)\n",
    "        zone_one.clear()\n",
    "    \n",
    "    elif event == cv2.EVENT_RBUTTONDOWN:\n",
    "        print('오른쪽 눌렀을 때 좌표 : ', x, y)\n",
    "        zone_two.append((x, y))\n",
    "    \n",
    "    elif event == cv2.EVENT_RBUTTONUP:\n",
    "        print('오른쪽 클릭 후 좌표 : ', x, y)\n",
    "        zone_two.append((x, y))\n",
    "        cv2.line(mask, zone_two[0], zone_two[1], (255, 0, 0), 3)\n",
    "        zone_two.clear()\n",
    "\n",
    "zone_one = []\n",
    "zone_two = []\n",
    "\n",
    "img_li = os.listdir('./img/')\n",
    "\n",
    "path = './img/' + img_li[1]\n",
    "img = cv2.imread(path)\n",
    "\n",
    "w, h, c = img.shape\n",
    "mask = np.zeros((w, h, c), dtype=np.uint8)\n",
    "\n",
    "if img is None:\n",
    "    print('이미지 파일 없습니다')\n",
    "    sys.exit()\n",
    "\n",
    "# 요거 기능 몰라서. 오래걸림\n",
    "cv2.namedWindow('org')\n",
    "\n",
    "cv2.setMouseCallback('org', on_mouse)\n",
    "while True:\n",
    "    cv2.imshow('org', img)\n",
    "    cv2.imshow('mask', mask)\n",
    "    key = cv2.waitKey(1)\n",
    "\n",
    "    if key == 27:\n",
    "        break\n",
    "\n",
    "cv2.destroyAllWindows()"
   ]
  },
  {
   "cell_type": "code",
   "execution_count": null,
   "metadata": {},
   "outputs": [],
   "source": []
  },
  {
   "cell_type": "code",
   "execution_count": null,
   "metadata": {},
   "outputs": [],
   "source": []
  },
  {
   "cell_type": "markdown",
   "metadata": {},
   "source": [
    "### 버전1 - 경로수정 아직안함"
   ]
  },
  {
   "cell_type": "code",
   "execution_count": 4,
   "metadata": {},
   "outputs": [
    {
     "name": "stdout",
     "output_type": "stream",
     "text": [
      "왼쪽 눌렀을 때 좌표 :  865 370\n",
      "왼쪽 클릭 후 좌표 :  203 855\n",
      "왼쪽 눌렀을 때 좌표 :  1254 414\n",
      "왼쪽 클릭 후 좌표 :  1649 929\n",
      "오른쪽 눌렀을 때 좌표 :  699 440\n",
      "오른쪽 클릭 후 좌표 :  1172 429\n",
      "오른쪽 눌렀을 때 좌표 :  288 886\n",
      "오른쪽 클릭 후 좌표 :  1529 874\n"
     ]
    }
   ],
   "source": [
    "\n",
    "def on_mouse(event, x, y, flags, param):\n",
    "    if event == cv2.EVENT_LBUTTONDOWN:\n",
    "        print('왼쪽 눌렀을 때 좌표 : ', x, y)\n",
    "        zone_one.append((x, y))\n",
    "\n",
    "    elif event == cv2.EVENT_LBUTTONUP:\n",
    "        print('왼쪽 클릭 후 좌표 : ', x, y)\n",
    "        zone_one.append((x, y))\n",
    "        # print(pt)\n",
    "        # print(pt[0], pt[1])\n",
    "        cv2.line(mask, zone_one[0], zone_one[1], (0, 0 ,255), 3)\n",
    "        zone_one.clear()\n",
    "    \n",
    "    elif event == cv2.EVENT_RBUTTONDOWN:\n",
    "        print('오른쪽 눌렀을 때 좌표 : ', x, y)\n",
    "        zone_two.append((x, y))\n",
    "    \n",
    "    elif event == cv2.EVENT_RBUTTONUP:\n",
    "        print('오른쪽 클릭 후 좌표 : ', x, y)\n",
    "        zone_two.append((x, y))\n",
    "        cv2.line(mask, zone_two[0], zone_two[1], (255, 0, 0), 3)\n",
    "        zone_two.clear()\n",
    "\n",
    "zone_one = []\n",
    "zone_two = []\n",
    "\n",
    "img_li = os.listdir('./img/')\n",
    "\n",
    "path = './img/' + img_li[1]\n",
    "img = cv2.imread(path)\n",
    "\n",
    "w, h, c = img.shape\n",
    "\n",
    "mask = np.zeros((w, h, c), dtype=np.uint8)\n",
    "\n",
    "if img is None:\n",
    "    print('이미지 파일 없습니다')\n",
    "    sys.exit()\n",
    "\n",
    "# 요거 기능 몰라서. 오래걸림\n",
    "cv2.namedWindow('org')\n",
    "\n",
    "cv2.setMouseCallback('org', on_mouse)\n",
    "\n",
    "\n",
    "while True:\n",
    "    cv2.imshow('org', img)\n",
    "    cv2.imshow('mask', mask)\n",
    "    key = cv2.waitKey(1)\n",
    "\n",
    "    if key == 27:\n",
    "        break\n",
    "\n",
    "cv2.destroyAllWindows()"
   ]
  },
  {
   "cell_type": "markdown",
   "metadata": {},
   "source": [
    "### 버전"
   ]
  },
  {
   "cell_type": "code",
   "execution_count": null,
   "metadata": {},
   "outputs": [],
   "source": []
  },
  {
   "cell_type": "code",
   "execution_count": 4,
   "metadata": {},
   "outputs": [
    {
     "name": "stdout",
     "output_type": "stream",
     "text": [
      "왼쪽 눌렀을 때 좌표 :  250 318\n",
      "왼쪽 클릭 후 좌표 :  8 452\n",
      "왼쪽 눌렀을 때 좌표 :  399 316\n",
      "왼쪽 클릭 후 좌표 :  639 469\n",
      "왼쪽 눌렀을 때 좌표 :  257 617\n",
      "왼쪽 클릭 후 좌표 :  257 617\n"
     ]
    }
   ],
   "source": [
    "import cv2\n",
    "def on_mouse(event, x, y, flags, param):\n",
    "    if event == cv2.EVENT_LBUTTONDOWN:\n",
    "        print('왼쪽 눌렀을 때 좌표 : ', x, y)\n",
    "        zone_one.append((x, y))\n",
    "\n",
    "    elif event == cv2.EVENT_LBUTTONUP:\n",
    "        print('왼쪽 클릭 후 좌표 : ', x, y)\n",
    "        zone_one.append((x, y))\n",
    "        cv2.line(img, zone_one[0], zone_one[1], (0, 0 ,255), 3)\n",
    "        zone_one.clear()\n",
    "    \n",
    "    elif event == cv2.EVENT_RBUTTONDOWN:\n",
    "        print('오른쪽 눌렀을 때 좌표 : ', x, y)\n",
    "        zone_two.append((x, y))\n",
    "    \n",
    "    elif event == cv2.EVENT_RBUTTONUP:\n",
    "        print('오른쪽 클릭 후 좌표 : ', x, y)\n",
    "        zone_two.append((x, y))\n",
    "        cv2.line(img, zone_two[0], zone_two[1], (255, 0, 0), 3)\n",
    "        zone_two.clear()\n",
    "\n",
    "zone_one = []\n",
    "zone_two = []\n",
    "\n",
    "# img_li = os.listdir('./img/')\n",
    "\n",
    "path = './ttt.jpg'\n",
    "img = cv2.imread(path)\n",
    "\n",
    "w, h, c = img.shape\n",
    "\n",
    "# mask = np.zeros((w, h, c), dtype=np.uint8)\n",
    "\n",
    "if img is None:\n",
    "    print('이미지 파일 없습니다')\n",
    "    sys.exit()\n",
    "\n",
    "# 요거 기능 몰라서. 오래걸림\n",
    "cv2.namedWindow('org')\n",
    "\n",
    "cv2.setMouseCallback('org', on_mouse)\n",
    "\n",
    "\n",
    "while True:\n",
    "    cv2.imshow('org', img)\n",
    "    # cv2.imshow('mask', mask)\n",
    "    key = cv2.waitKey(1)\n",
    "\n",
    "    if key == 27:\n",
    "        break\n",
    "\n",
    "cv2.destroyAllWindows()"
   ]
  },
  {
   "cell_type": "code",
   "execution_count": null,
   "metadata": {},
   "outputs": [],
   "source": []
  }
 ],
 "metadata": {
  "kernelspec": {
   "display_name": "simple_study",
   "language": "python",
   "name": "python3"
  },
  "language_info": {
   "codemirror_mode": {
    "name": "ipython",
    "version": 3
   },
   "file_extension": ".py",
   "mimetype": "text/x-python",
   "name": "python",
   "nbconvert_exporter": "python",
   "pygments_lexer": "ipython3",
   "version": "3.10.13"
  }
 },
 "nbformat": 4,
 "nbformat_minor": 2
}

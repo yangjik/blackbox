{
 "cells": [
  {
   "cell_type": "code",
   "execution_count": 1,
   "metadata": {},
   "outputs": [],
   "source": [
    "import subprocess"
   ]
  },
  {
   "cell_type": "code",
   "execution_count": 2,
   "metadata": {},
   "outputs": [],
   "source": [
    "imagespath = '저장할경로'"
   ]
  },
  {
   "cell_type": "code",
   "execution_count": null,
   "metadata": {},
   "outputs": [],
   "source": [
    "subprocess.run([\"docker\", \"run\", \"--name\", \"supplementimages\", \"supplementimages/supplementimages:supplementimages\"])\n",
    "subprocess.run([\"docker\", \"cp\", f\"supplementimages:./1_3/\", imagespath])\n",
    "subprocess.run([\"docker\", \"cp\", f\"supplementimages:./4/\", imagespath])\n",
    "subprocess.run([\"docker\", \"cp\", f\"supplementimages:./5/\", imagespath])\n",
    "subprocess.run([\"docker\", \"rm\", \"supplementimages\"])"
   ]
  }
 ],
 "metadata": {
  "kernelspec": {
   "display_name": "project",
   "language": "python",
   "name": "python3"
  },
  "language_info": {
   "codemirror_mode": {
    "name": "ipython",
    "version": 3
   },
   "file_extension": ".py",
   "mimetype": "text/x-python",
   "name": "python",
   "nbconvert_exporter": "python",
   "pygments_lexer": "ipython3",
   "version": "3.10.0"
  }
 },
 "nbformat": 4,
 "nbformat_minor": 2
}

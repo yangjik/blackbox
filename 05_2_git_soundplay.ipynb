{
 "cells": [
  {
   "cell_type": "markdown",
   "metadata": {},
   "source": [
    "# DB 조회 후 Git URL로 파일 다운 받은 후 플레이"
   ]
  },
  {
   "cell_type": "code",
   "execution_count": 3,
   "metadata": {},
   "outputs": [],
   "source": [
    "from gtts import gTTS\n",
    "from git import Repo\n",
    "import playsound\n",
    "import pymysql\n",
    "import os, sys\n",
    "import requests"
   ]
  },
  {
   "cell_type": "markdown",
   "metadata": {},
   "source": [
    "### DB 접근"
   ]
  },
  {
   "cell_type": "code",
   "execution_count": 4,
   "metadata": {},
   "outputs": [],
   "source": [
    "# localhost 개인 db접속\n",
    "conn = pymysql.connect(\n",
    "    host = 'localhost',\n",
    "    user = 'root',\n",
    "    password = '0000',\n",
    "    database = 'sound_db',\n",
    "    charset = 'utf8'\n",
    ")\n",
    "\n",
    "cur = conn.cursor()"
   ]
  },
  {
   "cell_type": "markdown",
   "metadata": {},
   "source": [
    "#### 데이터 조회"
   ]
  },
  {
   "cell_type": "code",
   "execution_count": 29,
   "metadata": {},
   "outputs": [],
   "source": [
    "case='왼쪽 오토바이 있습니다.'\n",
    "\n",
    "# case=f'{방향} {객체} 있습니다.'\n",
    "\n",
    "query = 'select sound_url from sound where txt=\\\"{}\\\";'.format(case)\n",
    "\n",
    "cur.execute(query)\n",
    "\n",
    "data = cur.fetchall()\n",
    "\n",
    "conn.commit()\n",
    "\n",
    "url = data[0][0]"
   ]
  },
  {
   "cell_type": "code",
   "execution_count": 14,
   "metadata": {},
   "outputs": [],
   "source": [
    "url"
   ]
  },
  {
   "cell_type": "markdown",
   "metadata": {},
   "source": [
    "#### 파일다운"
   ]
  },
  {
   "cell_type": "markdown",
   "metadata": {},
   "source": [
    "##### 깃허브데이터 사용"
   ]
  },
  {
   "cell_type": "code",
   "execution_count": 31,
   "metadata": {},
   "outputs": [],
   "source": [
    "def git_download_file(url, download_path):\n",
    "    # 데이터가 없으면\n",
    "    if not url:\n",
    "        txt_path = case\n",
    "        tts = gTTS(text=txt_path, lang='ko')\n",
    "        tts.save(download_path)\n",
    "\n",
    "        # repo_name = \"blackbox\"\n",
    "        # repo = Repo(search_parent_directories=True)\n",
    "        # git = repo.git\n",
    "        \n",
    "        # git.pull\n",
    "\n",
    "        # # 깃허브 저장소에 파일 추가\n",
    "        # git.add(download_path)\n",
    "\n",
    "        # # 커밋 메시지 작성 및 커밋\n",
    "        # git.commit('-m', '음성데이터업데이트')\n",
    "\n",
    "        # # 깃허브 저장소에 push\n",
    "        # git.push\n",
    "    # 데이터가 있으면\n",
    "    else:\n",
    "        # 다운로드 실행\n",
    "        response = requests.get(url)\n",
    "        with open(download_path, 'wb') as f:\n",
    "            f.write(response.content)"
   ]
  },
  {
   "cell_type": "markdown",
   "metadata": {},
   "source": [
    "##### 도커허브데이터 사용\n"
   ]
  },
  {
   "cell_type": "code",
   "execution_count": 7,
   "metadata": {},
   "outputs": [],
   "source": [
    "def docker_download_file(url, download_path):\n",
    "    # 데이터가 없으면\n",
    "    if not url:\n",
    "        txt_path = case\n",
    "        tts = gTTS(text=txt_path, lang='ko')\n",
    "        tts.save(download_path)\n",
    "        \n",
    "\n",
    "    # 데이터가 있으면\n",
    "    else:\n",
    "        # 도커이미지상의 경로 지정\n",
    "        !docker run -it --rm test:test sh -c \"find /sound -type f -name {case} -exec cp {} /tmp ; && tar -cf - /tmp | cat\" > {download_path}"
   ]
  },
  {
   "cell_type": "markdown",
   "metadata": {},
   "source": [
    "##### 데이터 다운로드"
   ]
  },
  {
   "cell_type": "code",
   "execution_count": 32,
   "metadata": {},
   "outputs": [],
   "source": [
    "filename = case.replace(\" \", \"\").replace(\".\", \"\")\n",
    "\n",
    "download_path=f\"./sound/{filename}.mp3\"\n",
    "\n",
    "git_download_file(url, download_path)"
   ]
  },
  {
   "cell_type": "markdown",
   "metadata": {},
   "source": [
    "### 음성 파일 실행"
   ]
  },
  {
   "cell_type": "code",
   "execution_count": 9,
   "metadata": {},
   "outputs": [],
   "source": [
    "# playsound.playsound(download_path)"
   ]
  },
  {
   "cell_type": "code",
   "execution_count": 10,
   "metadata": {},
   "outputs": [],
   "source": [
    "# encoded_path = download_path.encode(\"cp949\")  # cp949 인코딩으로 변환\n",
    "# sound_path = encoded_path.decode(\"cp949\")\n",
    "\n",
    "# winsound.PlaySound(sound_path, winsound.SND_FILENAME)  # winsound.PlaySound 함수 직접 사용\n"
   ]
  },
  {
   "cell_type": "code",
   "execution_count": null,
   "metadata": {},
   "outputs": [],
   "source": []
  },
  {
   "cell_type": "code",
   "execution_count": null,
   "metadata": {},
   "outputs": [],
   "source": []
  }
 ],
 "metadata": {
  "kernelspec": {
   "display_name": "simple_study",
   "language": "python",
   "name": "python3"
  },
  "language_info": {
   "codemirror_mode": {
    "name": "ipython",
    "version": 3
   },
   "file_extension": ".py",
   "mimetype": "text/x-python",
   "name": "python",
   "nbconvert_exporter": "python",
   "pygments_lexer": "ipython3",
   "version": "3.10.0"
  }
 },
 "nbformat": 4,
 "nbformat_minor": 2
}
